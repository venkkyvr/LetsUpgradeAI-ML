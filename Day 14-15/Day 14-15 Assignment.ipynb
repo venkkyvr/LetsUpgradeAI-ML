{
 "cells": [
  {
   "cell_type": "code",
   "execution_count": 2,
   "metadata": {},
   "outputs": [],
   "source": [
    "# Day14-15 Assignment Batch1 AIML\n",
    "# Venkkatesh V R "
   ]
  },
  {
   "cell_type": "code",
   "execution_count": 3,
   "metadata": {},
   "outputs": [],
   "source": [
    "import numpy as np"
   ]
  },
  {
   "cell_type": "markdown",
   "metadata": {},
   "source": [
    "# 1. Create a 3x3x3 array with random values "
   ]
  },
  {
   "cell_type": "code",
   "execution_count": 4,
   "metadata": {},
   "outputs": [
    {
     "data": {
      "text/plain": [
       "array([[[0.95071884, 0.31832898, 0.64202629],\n",
       "        [0.10176779, 0.18977506, 0.20533649],\n",
       "        [0.83286686, 0.38344433, 0.81230527]],\n",
       "\n",
       "       [[0.25668106, 0.78532315, 0.3861018 ],\n",
       "        [0.62165385, 0.05345327, 0.32337968],\n",
       "        [0.85597638, 0.98366425, 0.06213738]],\n",
       "\n",
       "       [[0.49423569, 0.31935086, 0.2823918 ],\n",
       "        [0.7201519 , 0.26167101, 0.99913598],\n",
       "        [0.26292457, 0.40065242, 0.8071942 ]]])"
      ]
     },
     "execution_count": 4,
     "metadata": {},
     "output_type": "execute_result"
    }
   ],
   "source": [
    "np.random.rand(3,3,3)"
   ]
  },
  {
   "cell_type": "markdown",
   "metadata": {},
   "source": [
    "# 2.Create a 5x5 matrix with values 1,2,3,4 just below the diagonal"
   ]
  },
  {
   "cell_type": "code",
   "execution_count": 5,
   "metadata": {},
   "outputs": [
    {
     "name": "stdout",
     "output_type": "stream",
     "text": [
      "[[0. 0. 0. 0. 0.]\n",
      " [0. 0. 0. 0. 0.]\n",
      " [0. 0. 0. 0. 0.]\n",
      " [0. 0. 0. 0. 0.]\n",
      " [0. 0. 0. 0. 0.]]\n",
      "\n",
      "Array after Modification\n",
      "\n",
      "[[0. 0. 0. 0. 0.]\n",
      " [1. 0. 0. 0. 0.]\n",
      " [0. 2. 0. 0. 0.]\n",
      " [0. 0. 3. 0. 0.]\n",
      " [0. 0. 0. 4. 0.]]\n"
     ]
    }
   ],
   "source": [
    "arr =np.zeros((5,5))  #creates a 5x5 matrix with zeros\n",
    "\n",
    "print(arr)\n",
    "\n",
    "for i in range(len(arr)):\n",
    "    if i > 0:\n",
    "        arr[i][i-1] = i\n",
    "          \n",
    "print(\"\\nArray after Modification\\n\")            \n",
    "print(arr)"
   ]
  },
  {
   "cell_type": "code",
   "execution_count": 20,
   "metadata": {},
   "outputs": [
    {
     "name": "stdout",
     "output_type": "stream",
     "text": [
      "[[0 0 0 0 0]\n",
      " [1 0 0 0 0]\n",
      " [0 2 0 0 0]\n",
      " [0 0 3 0 0]\n",
      " [0 0 0 4 0]]\n"
     ]
    }
   ],
   "source": [
    "diag = np.diag(1+np.arange(4), k = -1)\n",
    "print (diag)"
   ]
  },
  {
   "cell_type": "markdown",
   "metadata": {},
   "source": [
    "# 3.Create a 8x8 matrix and fill it with a checkerboard pattern"
   ]
  },
  {
   "cell_type": "code",
   "execution_count": 6,
   "metadata": {},
   "outputs": [
    {
     "name": "stdout",
     "output_type": "stream",
     "text": [
      "[[0. 0. 0. 0. 0. 0. 0. 0.]\n",
      " [0. 0. 0. 0. 0. 0. 0. 0.]\n",
      " [0. 0. 0. 0. 0. 0. 0. 0.]\n",
      " [0. 0. 0. 0. 0. 0. 0. 0.]\n",
      " [0. 0. 0. 0. 0. 0. 0. 0.]\n",
      " [0. 0. 0. 0. 0. 0. 0. 0.]\n",
      " [0. 0. 0. 0. 0. 0. 0. 0.]\n",
      " [0. 0. 0. 0. 0. 0. 0. 0.]]\n",
      "\n",
      "Array after Modification\n",
      "\n",
      "[[0. 1. 0. 1. 0. 1. 0. 1.]\n",
      " [1. 0. 1. 0. 1. 0. 1. 0.]\n",
      " [0. 1. 0. 1. 0. 1. 0. 1.]\n",
      " [1. 0. 1. 0. 1. 0. 1. 0.]\n",
      " [0. 1. 0. 1. 0. 1. 0. 1.]\n",
      " [1. 0. 1. 0. 1. 0. 1. 0.]\n",
      " [0. 1. 0. 1. 0. 1. 0. 1.]\n",
      " [1. 0. 1. 0. 1. 0. 1. 0.]]\n"
     ]
    }
   ],
   "source": [
    "arr =np.zeros((8,8))  #creates a 5x5 matrix with zeros\n",
    "\n",
    "print(arr)\n",
    "\n",
    "for i in range(len(arr)):\n",
    "    for j in range(len(arr)):\n",
    "        if i in [0,2,4,6]:\n",
    "            if (j%2 != 0):\n",
    "                arr[i][j] = 1\n",
    "        else:\n",
    "            if (j%2 == 0):\n",
    "                arr[i][j] = 1\n",
    "          \n",
    "print(\"\\nArray after Modification\\n\")            \n",
    "print(arr)"
   ]
  },
  {
   "cell_type": "code",
   "execution_count": 21,
   "metadata": {},
   "outputs": [
    {
     "name": "stdout",
     "output_type": "stream",
     "text": [
      "[[0 1 0 1 0 1 0 1]\n",
      " [1 0 1 0 1 0 1 0]\n",
      " [0 1 0 1 0 1 0 1]\n",
      " [1 0 1 0 1 0 1 0]\n",
      " [0 1 0 1 0 1 0 1]\n",
      " [1 0 1 0 1 0 1 0]\n",
      " [0 1 0 1 0 1 0 1]\n",
      " [1 0 1 0 1 0 1 0]]\n"
     ]
    }
   ],
   "source": [
    "array= np.array([[0,1], [1,0]])\n",
    "arr2 = np.tile(array,(4,4))\n",
    "print (arr2)"
   ]
  },
  {
   "cell_type": "markdown",
   "metadata": {},
   "source": [
    "# 4. Normalize a 5x5 random matrix"
   ]
  },
  {
   "cell_type": "code",
   "execution_count": 7,
   "metadata": {},
   "outputs": [
    {
     "name": "stdout",
     "output_type": "stream",
     "text": [
      "[[0.48878609 0.42738928 0.30448739 0.13717838 0.75186375]\n",
      " [0.74827951 0.40523893 0.9383752  0.31218784 0.52279189]\n",
      " [0.79506125 0.31592752 0.91599867 0.25042265 0.5652929 ]\n",
      " [0.69218134 0.43930374 0.01585604 0.91364549 0.04944952]\n",
      " [0.34921233 0.39204719 0.98278964 0.4060728  0.87079049]]\n",
      "\n",
      " After normalize\n",
      "\n",
      "[[-0.11039047 -0.33016408 -0.77009892 -1.36899174  0.8313121 ]\n",
      " [ 0.8184821  -0.40945261  1.49894123 -0.74253469  0.01133538]\n",
      " [ 0.98594022 -0.72914827  1.41884309 -0.96362697  0.16347036]\n",
      " [ 0.61767527 -0.28751557 -1.80327248  1.41041975 -1.68302256]\n",
      " [-0.61000327 -0.45667325  1.65792545 -0.40646774  1.25701766]]\n"
     ]
    }
   ],
   "source": [
    "arr = np.random.random((5,5))\n",
    "print(arr)\n",
    "\n",
    "narr = (arr - np.mean(arr)) / (np.std(arr))\n",
    "print(\"\\n After normalize\\n\")\n",
    "print(narr)"
   ]
  },
  {
   "cell_type": "code",
   "execution_count": 24,
   "metadata": {},
   "outputs": [
    {
     "name": "stdout",
     "output_type": "stream",
     "text": [
      "[[0.41944792 0.23282784 0.23446912 0.45469371 0.69806263]\n",
      " [0.74828499 0.89121002 0.53229995 0.35875084 0.01338394]\n",
      " [0.44821848 0.2552506  0.96669431 0.43910708 0.03382242]\n",
      " [0.73215716 0.03166418 0.51465425 0.03304697 0.25788397]\n",
      " [0.90329041 0.98967188 0.12539151 0.13892134 0.61783164]]\n",
      "[[0.41592646 0.22477375 0.2264549  0.45202829 0.70130815]\n",
      " [0.75275032 0.8991467  0.53151943 0.35375516 0.        ]\n",
      " [0.4453958  0.24774111 0.97646435 0.43606309 0.02093489]\n",
      " [0.73623077 0.01872423 0.51344515 0.02014061 0.25043844]\n",
      " [0.9115205  1.         0.11472801 0.12858645 0.61912851]]\n"
     ]
    }
   ],
   "source": [
    "arr = np.random.random((5,5))\n",
    "print(arr)\n",
    "arr= (arr - arr.min())/(arr.max() - arr.min())\n",
    "print (arr)"
   ]
  },
  {
   "cell_type": "markdown",
   "metadata": {},
   "source": [
    "# 5.  How to find common values between two arrays?"
   ]
  },
  {
   "cell_type": "code",
   "execution_count": 8,
   "metadata": {},
   "outputs": [
    {
     "name": "stdout",
     "output_type": "stream",
     "text": [
      "[0 7]\n"
     ]
    }
   ],
   "source": [
    "arr1 = np.random.randint(0,10,5)\n",
    "arr2 = np.random.randint(0,10,5)\n",
    "print(np.intersect1d(arr1,arr2))"
   ]
  },
  {
   "cell_type": "markdown",
   "metadata": {},
   "source": [
    "# 6.How to get the dates of yesterday, today and tomorrow?"
   ]
  },
  {
   "cell_type": "code",
   "execution_count": 9,
   "metadata": {},
   "outputs": [
    {
     "name": "stdout",
     "output_type": "stream",
     "text": [
      "2020-08-01\n",
      "2020-08-02\n",
      "2020-08-03\n"
     ]
    }
   ],
   "source": [
    "yesterday = np.datetime64('today') - np.timedelta64(1)\n",
    "today     = np.datetime64('today')\n",
    "tomorrow  = np.datetime64('today') + np.timedelta64(1)\n",
    "print(yesterday)\n",
    "print(today)\n",
    "print(tomorrow)"
   ]
  },
  {
   "cell_type": "markdown",
   "metadata": {},
   "source": [
    "# 7. Consider two random array A and B, check if they are equal"
   ]
  },
  {
   "cell_type": "code",
   "execution_count": 10,
   "metadata": {},
   "outputs": [
    {
     "name": "stdout",
     "output_type": "stream",
     "text": [
      "False\n"
     ]
    }
   ],
   "source": [
    "arr1 = np.random.randint(0,10,5)\n",
    "arr2 = np.random.randint(0,10,5)\n",
    "print(np.array_equal(arr1,arr2))"
   ]
  },
  {
   "cell_type": "markdown",
   "metadata": {},
   "source": [
    "# 8.Create random vector of size 10 and replace the maximum value by 0 "
   ]
  },
  {
   "cell_type": "code",
   "execution_count": 11,
   "metadata": {},
   "outputs": [
    {
     "name": "stdout",
     "output_type": "stream",
     "text": [
      "[0.08527024 0.64209515 0.75589209 0.92259534 0.51482375 0.75086957\n",
      " 0.75931552 0.63542639 0.49484118 0.3289116 ]\n",
      "(array([3], dtype=int64),)\n",
      "\n",
      " After modify the vactor\n",
      "\n",
      "[0.08527024 0.64209515 0.75589209 0.         0.51482375 0.75086957\n",
      " 0.75931552 0.63542639 0.49484118 0.3289116 ]\n"
     ]
    }
   ],
   "source": [
    "arr = np.random.random(10)\n",
    "print(arr)\n",
    "ix = np.where(arr == np.amax(arr))\n",
    "print(ix)\n",
    "arr[ix[0]] = 0\n",
    "print(\"\\n After modify the vactor\\n\")\n",
    "print(arr)"
   ]
  },
  {
   "cell_type": "code",
   "execution_count": 27,
   "metadata": {},
   "outputs": [
    {
     "name": "stdout",
     "output_type": "stream",
     "text": [
      "[0 0 0 9 3]\n",
      "[0 0 0 0 3]\n"
     ]
    }
   ],
   "source": [
    "arr = np.random.randint(10,size=5)\n",
    "print(arr)\n",
    "arr[arr.argmax()] = 0\n",
    "print(arr)"
   ]
  },
  {
   "cell_type": "markdown",
   "metadata": {},
   "source": [
    "# 9. How to print all the values of an array?"
   ]
  },
  {
   "cell_type": "code",
   "execution_count": 12,
   "metadata": {},
   "outputs": [
    {
     "name": "stdout",
     "output_type": "stream",
     "text": [
      "[2 2 7 2 7]\n"
     ]
    }
   ],
   "source": [
    "arr = np.random.randint(0,10,5)\n",
    "print(arr)"
   ]
  },
  {
   "cell_type": "code",
   "execution_count": 31,
   "metadata": {},
   "outputs": [
    {
     "name": "stdout",
     "output_type": "stream",
     "text": [
      "[[1. 1. 1. 1. 1.]\n",
      " [1. 1. 1. 1. 1.]\n",
      " [1. 1. 1. 1. 1.]\n",
      " [1. 1. 1. 1. 1.]\n",
      " [1. 1. 1. 1. 1.]]\n"
     ]
    }
   ],
   "source": [
    "arr = np.ones((5,5))\n",
    "np.set_printoptions(threshold=np.inf)\n",
    "print(arr)"
   ]
  },
  {
   "cell_type": "markdown",
   "metadata": {},
   "source": [
    "# 10.Subtract the mean of each row of a matrix"
   ]
  },
  {
   "cell_type": "code",
   "execution_count": 13,
   "metadata": {},
   "outputs": [
    {
     "name": "stdout",
     "output_type": "stream",
     "text": [
      "[[ 0.88774034 -0.36002971  0.04392512 -0.28856    -0.51548572]\n",
      " [ 0.30399499 -0.00290849  0.54115824 -0.6704982   0.66321941]\n",
      " [-0.1274974  -0.3446087  -0.53005444 -0.65995204 -0.2910739 ]\n",
      " [-1.12176955  1.61551783 -1.48927669 -0.56472489 -0.36086702]\n",
      " [ 0.10245934  1.13282837 -1.4722305  -0.36958996 -0.55437574]]\n",
      "\n",
      " after mean subraction\n",
      "\n",
      "[[ 0.93422233 -0.5270229   0.43456241  0.09566407 -0.28330402]\n",
      " [ 0.35047699 -0.16990168  0.93179553 -0.28627413  0.89540111]\n",
      " [-0.0810154  -0.51160189 -0.13941714 -0.27572798 -0.0588922 ]\n",
      " [-1.07528756  1.44852464 -1.09863939 -0.18050083 -0.12868532]\n",
      " [ 0.14894133  0.96583518 -1.08159321  0.01463411 -0.32219405]]\n"
     ]
    }
   ],
   "source": [
    "arr = np.random.randn(5, 5)\n",
    "print(arr)\n",
    "arr = arr - np.mean(arr,axis=1)\n",
    "print(\"\\n after mean subraction\\n\")\n",
    "print(arr)"
   ]
  },
  {
   "cell_type": "markdown",
   "metadata": {},
   "source": [
    "# 11.Consider a given vector, how to add 1 to each element indexed by a second vector (be careful with repeated indices)? "
   ]
  },
  {
   "cell_type": "code",
   "execution_count": 17,
   "metadata": {},
   "outputs": [
    {
     "name": "stdout",
     "output_type": "stream",
     "text": [
      "[2 1 4 0 4 3 1 1 2 4]\n",
      "[4 4 6 1 1 8 4 1 6 3]\n"
     ]
    }
   ],
   "source": [
    "arr1= np.random.randint(0,5,10)\n",
    "print(arr1)\n",
    "arr2= np.random.randint(0,10,10)\n",
    "print (arr2)"
   ]
  },
  {
   "cell_type": "code",
   "execution_count": 19,
   "metadata": {},
   "outputs": [
    {
     "name": "stdout",
     "output_type": "stream",
     "text": [
      "[2 4 4 1 7 3 3 1 3 4]\n",
      "[0 3 0 1 3 0 2 0 1 0]\n",
      "[ 2  7  4  2 10  3  5  1  4  4]\n"
     ]
    }
   ],
   "source": [
    "arr3 = np.bincount(arr2, minlength=len(arr1))\n",
    "print(arr1)\n",
    "print(arr3)\n",
    "arr1 += arr3\n",
    "\n",
    "print (arr1)"
   ]
  },
  {
   "cell_type": "markdown",
   "metadata": {},
   "source": [
    "# 12.How to get the diagonal of a dot product?"
   ]
  },
  {
   "cell_type": "code",
   "execution_count": 42,
   "metadata": {},
   "outputs": [
    {
     "name": "stdout",
     "output_type": "stream",
     "text": [
      "[[ 0.57990654 -0.63911769  0.65621818  0.4526842  -0.83924963]\n",
      " [-0.21247543  0.2673217   0.47013861 -0.74283273 -0.76245898]\n",
      " [-0.64168134  1.2610568   0.67166619 -0.06231081 -0.6363747 ]\n",
      " [ 0.5334161   2.07721372  1.27734955  0.58383425  0.43135008]\n",
      " [-0.50424805 -0.79625526  0.44966745  0.04128878 -0.13222434]]\n",
      "[[ 1.17709701  1.66155087  0.01880006 -2.1806404  -0.65890895]\n",
      " [-0.77616917 -0.56891722 -1.51640129  0.64455563  0.39148129]\n",
      " [ 1.33612174  1.09391564  1.75792656 -0.04146176  0.08253962]\n",
      " [-0.22824325 -1.0089765  -0.83003165  0.48158735  2.12950339]\n",
      " [-0.32581777  0.75098695  0.33783814  0.83438235  1.61522406]]\n",
      "\n",
      " Diagonal of the dot product of 2 array\n",
      "\n",
      "[ 2.22557741  0.18607335 -0.90686369  0.76380803 -0.06799745]\n"
     ]
    }
   ],
   "source": [
    "arr = np.random.randn(5, 5)\n",
    "arr1 = np.random.randn(5, 5)\n",
    "print(arr)\n",
    "print(arr1)\n",
    "print(\"\\n Diagonal of the dot product of 2 array\\n\")\n",
    "print(np.diag(np.dot(arr,arr1)))"
   ]
  },
  {
   "cell_type": "markdown",
   "metadata": {},
   "source": [
    "# 13.How to find the most frequent value in an array?"
   ]
  },
  {
   "cell_type": "code",
   "execution_count": 44,
   "metadata": {},
   "outputs": [
    {
     "name": "stdout",
     "output_type": "stream",
     "text": [
      "[0 7 6 9 8 5 5 9 3 6 1 9 9 0 7 9 0 8 1 9 9 7 9 2 8 6 6 2 4 4]\n",
      "most frequent value is : 9\n"
     ]
    }
   ],
   "source": [
    "arr = np.random.randint(0,10,30)\n",
    "print(arr)\n",
    "print(\"most frequent value is :\",np.bincount(arr).argmax())"
   ]
  },
  {
   "cell_type": "markdown",
   "metadata": {},
   "source": [
    "# 14.How to get the n largest values of an array"
   ]
  },
  {
   "cell_type": "code",
   "execution_count": 46,
   "metadata": {},
   "outputs": [
    {
     "name": "stdout",
     "output_type": "stream",
     "text": [
      "[0 1 2 3 4 5 6 7 8 9]\n",
      "[6 7 8 9]\n"
     ]
    }
   ],
   "source": [
    "arr = np.arange(10)\n",
    "print(arr)\n",
    "\n",
    "np.random.shuffle(arr)\n",
    "n = 4\n",
    "print (arr[np.argsort(arr)[-n:]])"
   ]
  },
  {
   "cell_type": "markdown",
   "metadata": {},
   "source": [
    "# 15.How to create a record array from a regular array?"
   ]
  },
  {
   "cell_type": "code",
   "execution_count": 47,
   "metadata": {},
   "outputs": [
    {
     "name": "stdout",
     "output_type": "stream",
     "text": [
      "[['Honda' 'Amaze' '2014']\n",
      " ['Maruti' 'Zen' '2018']\n",
      " ['Ford' 'Ecosport' '2016']]\n",
      "\n",
      "Record array\n",
      "\n",
      "[(b'Honda', b'Amaze', 2014) (b'Maruti', b'Zen', 2018)\n",
      " (b'Ford', b'Ecosport', 2016)]\n"
     ]
    }
   ],
   "source": [
    "arr = np.array([(\"Honda\", \"Amaze\", 2014),\n",
    "                 (\"Maruti\", \"Zen\", 2018),\n",
    "             (\"Ford\", \"Ecosport\", 2016)])\n",
    "\n",
    "print(arr)\n",
    "\n",
    "print(\"\\nRecord array\\n\")\n",
    "rarr = np.core.records.fromarrays(arr.T,\n",
    "                              names='col1, col2, col3',\n",
    "                              formats = 'S10, S10, i8')\n",
    "print(rarr)"
   ]
  },
  {
   "cell_type": "code",
   "execution_count": 48,
   "metadata": {},
   "outputs": [],
   "source": [
    "# End of Assignment"
   ]
  }
 ],
 "metadata": {
  "kernelspec": {
   "display_name": "Python 3",
   "language": "python",
   "name": "python3"
  },
  "language_info": {
   "codemirror_mode": {
    "name": "ipython",
    "version": 3
   },
   "file_extension": ".py",
   "mimetype": "text/x-python",
   "name": "python",
   "nbconvert_exporter": "python",
   "pygments_lexer": "ipython3",
   "version": "3.7.6"
  },
  "toc": {
   "base_numbering": 1,
   "nav_menu": {},
   "number_sections": true,
   "sideBar": true,
   "skip_h1_title": false,
   "title_cell": "Table of Contents",
   "title_sidebar": "Contents",
   "toc_cell": false,
   "toc_position": {},
   "toc_section_display": true,
   "toc_window_display": true
  }
 },
 "nbformat": 4,
 "nbformat_minor": 2
}
