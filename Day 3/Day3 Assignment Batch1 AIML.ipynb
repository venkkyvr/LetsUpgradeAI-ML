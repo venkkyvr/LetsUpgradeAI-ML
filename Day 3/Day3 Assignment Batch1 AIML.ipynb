{
 "cells": [
  {
   "cell_type": "code",
   "execution_count": 24,
   "metadata": {},
   "outputs": [],
   "source": [
    "# Day3 Assignment Batch1 AIML  - 8/7/2020\n",
    "# Venkkatesh V R  "
   ]
  },
  {
   "cell_type": "code",
   "execution_count": 25,
   "metadata": {},
   "outputs": [
    {
     "name": "stdout",
     "output_type": "stream",
     "text": [
      "(2+2j)\n"
     ]
    }
   ],
   "source": [
    "# Q1 - Write a program to subtract two complex numbers in Python.\n",
    "\n",
    "a = 3 + 4j\n",
    "b = 1 + 2j\n",
    "\n",
    "print(a - b)"
   ]
  },
  {
   "cell_type": "code",
   "execution_count": 1,
   "metadata": {},
   "outputs": [
    {
     "name": "stdout",
     "output_type": "stream",
     "text": [
      "4th root of the number  4  = 1.4142135623730951\n"
     ]
    }
   ],
   "source": [
    "# Q2 -  Write a program to find the fourth root of a number.\n",
    "\n",
    "n = 4\n",
    "\n",
    "print(\"4th root of the number \",n,\" =\", n**0.25)"
   ]
  },
  {
   "cell_type": "code",
   "execution_count": 27,
   "metadata": {},
   "outputs": [
    {
     "name": "stdout",
     "output_type": "stream",
     "text": [
      " Number 1:  4  Number 2:  6\n",
      " Swap Numbers with help of temporary variable\n",
      " Number 1:  6  Number 2:  4\n"
     ]
    }
   ],
   "source": [
    "# Q3 - Write a program to swap two numbers in Python with the help of a temporary variable\n",
    "\n",
    "n1 = 4\n",
    "n2 = 6\n",
    "\n",
    "print(\" Number 1: \",n1, \" Number 2: \",n2)\n",
    "t1 = n1\n",
    "n1 = n2\n",
    "n2 = t1\n",
    "print(\" Swap Numbers with help of temporary variable\")\n",
    "print(\" Number 1: \",n1, \" Number 2: \",n2)"
   ]
  },
  {
   "cell_type": "code",
   "execution_count": 28,
   "metadata": {},
   "outputs": [
    {
     "name": "stdout",
     "output_type": "stream",
     "text": [
      " Number 1:  4  Number 2:  6\n",
      " Swap Numbers without temporary variable\n",
      " Number 1:  6  Number 2:  4\n"
     ]
    }
   ],
   "source": [
    "# Q4 - Write a program to swap two numbers in Python without using a temporary variable.\n",
    "\n",
    "n1 = 4\n",
    "n2 = 6\n",
    "\n",
    "print(\" Number 1: \",n1, \" Number 2: \",n2)\n",
    "n1, n2 = n2, n1\n",
    "\n",
    "print(\" Swap Numbers without temporary variable\")\n",
    "print(\" Number 1: \",n1, \" Number 2: \",n2)"
   ]
  },
  {
   "cell_type": "code",
   "execution_count": 29,
   "metadata": {},
   "outputs": [
    {
     "name": "stdout",
     "output_type": "stream",
     "text": [
      "36  Fahrenheit =  275.3722222222222  Kelvin\n",
      "36  Fahrenheit =  2.2222222222222223  Celsius\n"
     ]
    }
   ],
   "source": [
    "# Q5 - Write a program to convert fahrenheit to kelvin and celsius both.\n",
    "\n",
    "f = 36\n",
    "k = (f - 32) * (5/9) + 273.15\n",
    "print( f, \" Fahrenheit = \", k,\" Kelvin\")\n",
    "\n",
    "c = (f - 32) * (5/9) \n",
    "print( f, \" Fahrenheit = \", c,\" Celsius\")"
   ]
  },
  {
   "cell_type": "code",
   "execution_count": 30,
   "metadata": {},
   "outputs": [
    {
     "name": "stdout",
     "output_type": "stream",
     "text": [
      "<class 'str'>\n",
      "<class 'int'>\n",
      "<class 'float'>\n",
      "<class 'complex'>\n",
      "<class 'bool'>\n",
      "<class 'set'>\n",
      "<class 'list'>\n",
      "<class 'tuple'>\n",
      "<class 'dict'>\n"
     ]
    }
   ],
   "source": [
    "# Q6 - Write a program to demonstrate all the available data types in Python. Hint: Use type() function\n",
    "\n",
    "var = \"string\"\n",
    "print(type(var))\n",
    "\n",
    "var = 5\n",
    "print(type(var))\n",
    "\n",
    "var = 4.2\n",
    "print(type(var))\n",
    "\n",
    "var = 4 + 3j\n",
    "print(type(var))\n",
    "\n",
    "var = True\n",
    "print(type(var))\n",
    "\n",
    "var = {1, 0, 2}\n",
    "print(type(var))\n",
    "\n",
    "var = [1, 0, 2]\n",
    "print(type(var))\n",
    "\n",
    "var = (1, 0, 2)\n",
    "print(type(var))\n",
    "\n",
    "var = {1: \"q\", 2:\"a\"}\n",
    "print(type(var))\n"
   ]
  },
  {
   "cell_type": "code",
   "execution_count": 31,
   "metadata": {},
   "outputs": [],
   "source": [
    "# Q7 - Create a Markdown cell in jupyter and list the steps discussed in the session by\n",
    "# Dr. Darshan Ingle sir to create Github profile and upload Githubs Assignment link."
   ]
  },
  {
   "cell_type": "markdown",
   "metadata": {},
   "source": [
    "Create a folder in your PC as Day3 and download the solution jupyter notebook as ipynb in this folder\n",
    "\n",
    "1. Vist github.com\n",
    "\n",
    "2. sign up with your mail id\n",
    "\n",
    "3. Create a Repository as LetsUpgrade_AIML and description as Assignments\n",
    "\n",
    "4. click upload a existing file and  copt this Day3 folder\n",
    "\n",
    "5. Go to this folder in git\n",
    "\n",
    "6. copy the url link and copy this link in the assignments google form from LU"
   ]
  },
  {
   "cell_type": "code",
   "execution_count": null,
   "metadata": {},
   "outputs": [],
   "source": [
    "# End of Day3 Assignments"
   ]
  }
 ],
 "metadata": {
  "kernelspec": {
   "display_name": "Python 3",
   "language": "python",
   "name": "python3"
  },
  "language_info": {
   "codemirror_mode": {
    "name": "ipython",
    "version": 3
   },
   "file_extension": ".py",
   "mimetype": "text/x-python",
   "name": "python",
   "nbconvert_exporter": "python",
   "pygments_lexer": "ipython3",
   "version": "3.7.6"
  },
  "toc": {
   "base_numbering": 1,
   "nav_menu": {},
   "number_sections": true,
   "sideBar": true,
   "skip_h1_title": false,
   "title_cell": "Table of Contents",
   "title_sidebar": "Contents",
   "toc_cell": false,
   "toc_position": {},
   "toc_section_display": true,
   "toc_window_display": true
  }
 },
 "nbformat": 4,
 "nbformat_minor": 4
}
