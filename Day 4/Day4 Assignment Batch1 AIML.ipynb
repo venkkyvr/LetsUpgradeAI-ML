{
 "cells": [
  {
   "cell_type": "code",
   "execution_count": null,
   "metadata": {},
   "outputs": [],
   "source": [
    "# Day4 Assignment Batch1 AIML  - 9/7/2020\n",
    "# Venkkatesh V R "
   ]
  },
  {
   "cell_type": "code",
   "execution_count": 9,
   "metadata": {},
   "outputs": [],
   "source": [
    "# Question 1 :\n",
    "# Research on whether addition, subtraction, multiplication, division, floor division and modulo\n",
    "# operations be performed on complex numbers. Based on your study, implement a Python\n",
    "# program to demonstrate these operations.\n"
   ]
  },
  {
   "cell_type": "code",
   "execution_count": 13,
   "metadata": {},
   "outputs": [
    {
     "name": "stdout",
     "output_type": "stream",
     "text": [
      "(6+3j)\n",
      "(8+6j)\n"
     ]
    }
   ],
   "source": [
    "# define complex number\n",
    "c1 = 4 + 3j\n",
    "n1 = 2\n",
    "\n",
    "# add complex number and int\n",
    "var = c1 + n1\n",
    "print(var)\n",
    "\n",
    "# add complex number and complex number\n",
    "var = c1 + c1\n",
    "print(var)"
   ]
  },
  {
   "cell_type": "code",
   "execution_count": 14,
   "metadata": {},
   "outputs": [
    {
     "name": "stdout",
     "output_type": "stream",
     "text": [
      "(2+3j)\n",
      "0j\n"
     ]
    }
   ],
   "source": [
    "# subract complex number and int\n",
    "var = c1 - n1\n",
    "print(var)\n",
    "\n",
    "# subract complex number and complex number\n",
    "var = c1 - c1\n",
    "print(var)"
   ]
  },
  {
   "cell_type": "code",
   "execution_count": 15,
   "metadata": {},
   "outputs": [
    {
     "name": "stdout",
     "output_type": "stream",
     "text": [
      "(8+6j)\n",
      "(7+24j)\n"
     ]
    }
   ],
   "source": [
    "# Multiply complex number and int\n",
    "var = c1 * n1\n",
    "print(var)\n",
    "\n",
    "# Multiply complex number and complex number\n",
    "var = c1 * c1\n",
    "print(var)"
   ]
  },
  {
   "cell_type": "code",
   "execution_count": 17,
   "metadata": {},
   "outputs": [
    {
     "name": "stdout",
     "output_type": "stream",
     "text": [
      "(2+1.5j)\n",
      "(1+0j)\n"
     ]
    }
   ],
   "source": [
    "# Divide complex number and int\n",
    "var = c1 / n1\n",
    "print(var)\n",
    "\n",
    "# Divide complex number and complex number\n",
    "var = c1 / c1\n",
    "print(var)"
   ]
  },
  {
   "cell_type": "code",
   "execution_count": 20,
   "metadata": {},
   "outputs": [
    {
     "name": "stdout",
     "output_type": "stream",
     "text": [
      "Can't mod complex numbers.\n"
     ]
    }
   ],
   "source": [
    "# Modulo complex number\n",
    "print(\"Can't mod complex numbers.\")"
   ]
  },
  {
   "cell_type": "code",
   "execution_count": 22,
   "metadata": {},
   "outputs": [
    {
     "name": "stdout",
     "output_type": "stream",
     "text": [
      "Can't take floor of complex number.\n"
     ]
    }
   ],
   "source": [
    "# Floor Division complex number\n",
    "print(\"Can't take floor of complex number.\")"
   ]
  },
  {
   "cell_type": "code",
   "execution_count": 23,
   "metadata": {},
   "outputs": [],
   "source": [
    "# Question 2 :\n",
    "# Research on range() functions and its parameters. Create a markdown cell and write in your own\n",
    "# words (no copy-paste from google please) what you understand about it. Implement a small\n",
    "# program of your choice on the same"
   ]
  },
  {
   "cell_type": "markdown",
   "metadata": {},
   "source": [
    "Range function creates a sequence of numbers based on the parameters.\n",
    "\n",
    "Range function accepts maximum of three parameters. 1. start, 2. stop, 3. step\n",
    "1. start parameter is optional. if provided, then the range function starts to return numbers starting from this number\n",
    "2. stop parameter is compulsory. The range function stops returning number less than this number.\n",
    "3. step parameter is optional. The range functions adds this number to the previous number during number creation"
   ]
  },
  {
   "cell_type": "code",
   "execution_count": 32,
   "metadata": {},
   "outputs": [
    {
     "name": "stdout",
     "output_type": "stream",
     "text": [
      "range example with only stop parameter\n",
      "0\n",
      "1\n",
      "2\n",
      "3\n",
      "4\n",
      "range example with start, stop parameter\n",
      "2\n",
      "3\n",
      "4\n",
      "5\n",
      "range example with start, stop, step parameter\n",
      "2\n",
      "5\n"
     ]
    }
   ],
   "source": [
    "# range with only stop parameter\n",
    "print(\"range example with only stop parameter\")\n",
    "var = range(5)\n",
    "\n",
    "for i in var:\n",
    "    print(i)\n",
    "\n",
    "# range with start, stop parameter\n",
    "print(\"range example with start, stop parameter\")\n",
    "var = range(2,6)\n",
    "\n",
    "for i in var:\n",
    "    print(i)\n",
    "    \n",
    "\n",
    "# range with start, stop, step parameter\n",
    "print(\"range example with start, stop, step parameter\")\n",
    "var = range(2,8,3)\n",
    "\n",
    "for i in var:\n",
    "    print(i)"
   ]
  },
  {
   "cell_type": "code",
   "execution_count": 33,
   "metadata": {},
   "outputs": [],
   "source": [
    "# Question 3:\n",
    "# Consider two numbers. Perform their subtraction and if the result of subtraction is greater than\n",
    "# 25, print their multiplication result else print their division result."
   ]
  },
  {
   "cell_type": "code",
   "execution_count": 39,
   "metadata": {},
   "outputs": [
    {
     "name": "stdout",
     "output_type": "stream",
     "text": [
      "Case1:\n",
      "Subraction of i, j = 20\n",
      "Division of i= 64 ,j= 44 is :  1.4545454545454546\n",
      "\n",
      "Case2:\n",
      "Subraction of i, j = 30\n",
      "Multiplication of i= 74 ,j= 44 is :  3256\n"
     ]
    }
   ],
   "source": [
    "print(\"Case1:\")\n",
    "i, j = 64, 44\n",
    "\n",
    "minus = i - j\n",
    "print(\"Subraction of i, j =\", minus)\n",
    "\n",
    "if minus > 25:\n",
    "    print(\"Multiplication of i=\",i,\",j=\",j,\"is : \",i*j )\n",
    "else:\n",
    "    print(\"Division of i=\",i,\",j=\",j,\"is : \",i/j )\n",
    "    \n",
    "print(\"\\nCase2:\")\n",
    "i, j = 74, 44\n",
    "\n",
    "minus = i - j\n",
    "print(\"Subraction of i, j =\", minus)\n",
    "\n",
    "if minus > 25:\n",
    "    print(\"Multiplication of i=\",i,\",j=\",j,\"is : \",i*j )\n",
    "else:\n",
    "    print(\"Division of i=\",i,\",j=\",j,\"is : \",i/j )"
   ]
  },
  {
   "cell_type": "code",
   "execution_count": 40,
   "metadata": {},
   "outputs": [],
   "source": [
    "# Question 4:\n",
    "# Consider a list of 10 elements of integer values. If the number in the list is divisible by 2, print the\n",
    "# result as \"square of that number minus 2\".\n"
   ]
  },
  {
   "cell_type": "code",
   "execution_count": 42,
   "metadata": {},
   "outputs": [
    {
     "name": "stdout",
     "output_type": "stream",
     "text": [
      "List of numbers =  [6, 7, 8, 9, 10, 11, 12, 13, 14, 15]\n",
      "6  is divisible by 2 so the value is :  34\n",
      "8  is divisible by 2 so the value is :  62\n",
      "10  is divisible by 2 so the value is :  98\n",
      "12  is divisible by 2 so the value is :  142\n",
      "14  is divisible by 2 so the value is :  194\n"
     ]
    }
   ],
   "source": [
    "lst = [6,7,8,9,10,11,12,13,14,15]\n",
    "print(\"List of numbers = \",lst)\n",
    "\n",
    "for i in lst:\n",
    "    if i % 2 == 0:\n",
    "        print(i, \" is divisible by 2 so the value is : \", (i**2)-2)\n",
    "    else:\n",
    "        continue\n"
   ]
  },
  {
   "cell_type": "code",
   "execution_count": 43,
   "metadata": {},
   "outputs": [],
   "source": [
    "# Question 5:\n",
    "# Consider a list of 10 elements. Print all the elements in the list which are greater than 7 when that\n",
    "# number is divided 2."
   ]
  },
  {
   "cell_type": "code",
   "execution_count": 47,
   "metadata": {},
   "outputs": [
    {
     "name": "stdout",
     "output_type": "stream",
     "text": [
      "List of numbers =  [10, 12, 13, 14, 15, 16, 17, 18, 19, 20]\n",
      "16  is divisible by 2 so the value is greater than 7 :  8\n",
      "17  is divisible by 2 so the value is greater than 7 :  8\n",
      "18  is divisible by 2 so the value is greater than 7 :  9\n",
      "19  is divisible by 2 so the value is greater than 7 :  9\n",
      "20  is divisible by 2 so the value is greater than 7 :  10\n"
     ]
    },
    {
     "data": {
      "text/plain": [
       "7"
      ]
     },
     "execution_count": 47,
     "metadata": {},
     "output_type": "execute_result"
    }
   ],
   "source": [
    "lst = [10,12,13,14,15,16,17,18,19,20]\n",
    "print(\"List of numbers = \",lst)\n",
    "\n",
    "for i in lst:\n",
    "    if i // 2 > 7:\n",
    "        print(i, \" is divisible by 2 so the value is greater than 7 : \", (i//2))\n",
    "    else:\n",
    "        continue\n",
    "\n",
    "15//2"
   ]
  },
  {
   "cell_type": "code",
   "execution_count": null,
   "metadata": {},
   "outputs": [],
   "source": [
    "# End of Day4 Assignments"
   ]
  }
 ],
 "metadata": {
  "kernelspec": {
   "display_name": "Python 3",
   "language": "python",
   "name": "python3"
  },
  "language_info": {
   "codemirror_mode": {
    "name": "ipython",
    "version": 3
   },
   "file_extension": ".py",
   "mimetype": "text/x-python",
   "name": "python",
   "nbconvert_exporter": "python",
   "pygments_lexer": "ipython3",
   "version": "3.7.6"
  },
  "toc": {
   "base_numbering": 1,
   "nav_menu": {},
   "number_sections": true,
   "sideBar": true,
   "skip_h1_title": false,
   "title_cell": "Table of Contents",
   "title_sidebar": "Contents",
   "toc_cell": false,
   "toc_position": {},
   "toc_section_display": true,
   "toc_window_display": true
  }
 },
 "nbformat": 4,
 "nbformat_minor": 4
}
