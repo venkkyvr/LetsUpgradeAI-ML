{
 "cells": [
  {
   "cell_type": "code",
   "execution_count": 1,
   "metadata": {},
   "outputs": [],
   "source": [
    "# Day5 Assignment Batch1 AIML  - 10/7/2020\n",
    "# Venkkatesh V R "
   ]
  },
  {
   "cell_type": "markdown",
   "metadata": {},
   "source": [
    "Question 1 :\n",
    "Write a Python program to find the first 20 non-even prime natural numbers.\n"
   ]
  },
  {
   "cell_type": "code",
   "execution_count": 13,
   "metadata": {},
   "outputs": [
    {
     "name": "stdout",
     "output_type": "stream",
     "text": [
      " First 20 non-even prime numbers are : [3, 5, 7, 9, 11, 13, 15, 17, 19, 21, 23, 25, 27, 29, 31, 33, 35, 37, 39, 41]\n"
     ]
    }
   ],
   "source": [
    "count = 0\n",
    "n = 2\n",
    "lst = []\n",
    "\n",
    "while count < 20:\n",
    "    \n",
    "    if n % 2 == 0:\n",
    "        pass\n",
    "    else:\n",
    "        lst.append(n)\n",
    "        count = count + 1\n",
    "    n = n + 1\n",
    "    \n",
    "print(\" First 20 non-even prime numbers are :\",lst)\n"
   ]
  },
  {
   "cell_type": "markdown",
   "metadata": {},
   "source": [
    "Question 2 :\n",
    "Write a Python program to implement 15 functions of string.\n"
   ]
  },
  {
   "cell_type": "code",
   "execution_count": 39,
   "metadata": {},
   "outputs": [
    {
     "name": "stdout",
     "output_type": "stream",
     "text": [
      "1.  Letsupgrade\n",
      "2.  letsupgrade\n",
      "3.  2\n",
      "4.      LetsUpgrade     \n",
      "5.  5\n",
      "6.  False\n",
      "7.  False\n",
      "8.  6\n",
      "9.  LETSUPGRADE\n",
      "10.  lETSuPGRADE\n",
      "11.  Letsupgrade\n",
      "12.  True\n",
      "13.  False\n",
      "14.  b'LetsUpgrade'\n",
      "15.  Letsupgrade\n"
     ]
    }
   ],
   "source": [
    "var = \"LetsUpgrade\"\n",
    "print(\"1. \",var.capitalize())\n",
    "print(\"2. \",var.casefold())\n",
    "print(\"3. \",var.count('e'))\n",
    "print(\"4. \",var.center(20,' '))\n",
    "print(\"5. \",var.index('p'))\n",
    "print(\"6. \",var.islower())\n",
    "print(\"7. \",var.isdecimal())\n",
    "print(\"8. \",var.find('gr'))\n",
    "print(\"9. \",var.upper())\n",
    "print(\"10. \",var.swapcase())\n",
    "print(\"11. \",var.title())\n",
    "print(\"12. \",var.endswith('de'))\n",
    "print(\"13. \",var.startswith('LE'))\n",
    "print(\"14. \",var.encode(encoding='utf-8'))\n",
    "print(\"15. \",var.replace('Up','up'))"
   ]
  },
  {
   "cell_type": "markdown",
   "metadata": {},
   "source": [
    "Question 3:\n",
    "Write a Python program to check if the given string is a Palindrome or Anagram or None of them.\n",
    "Display the message accordingly to the user.\n"
   ]
  },
  {
   "cell_type": "code",
   "execution_count": 46,
   "metadata": {},
   "outputs": [
    {
     "name": "stdout",
     "output_type": "stream",
     "text": [
      "The given string is neither Palindrome or Anagram\n"
     ]
    }
   ],
   "source": [
    "# var = 'OYO'\n",
    "# var = 'LISTEN'\n",
    "var = 'Example'\n",
    "\n",
    "var2 = 'SILENT'\n",
    "\n",
    "var1 = reversed(var)\n",
    "\n",
    "\n",
    "if list(var) == list(var1):\n",
    "    print(\"The given string is Palindrome.\")\n",
    "elif list(sorted(var)) == list(sorted(var2)):\n",
    "    print(\"The given string is Anagram\")\n",
    "else:\n",
    "    print(\"The given string is neither Palindrome or Anagram\")\n",
    "    \n",
    "\n",
    "    "
   ]
  },
  {
   "cell_type": "markdown",
   "metadata": {},
   "source": [
    "Question 4:\n",
    "Write a Python's user defined function that removes all the additional characters from the string\n",
    "and converts it finally to lower case using built-in lower(). eg: If the string is \"Dr. Darshan Ingle\n",
    "@AI-ML Trainer\", then the output be \"drdarshaningleaimltrainer\""
   ]
  },
  {
   "cell_type": "code",
   "execution_count": 66,
   "metadata": {},
   "outputs": [
    {
     "name": "stdout",
     "output_type": "stream",
     "text": [
      "Dr. Darshan Ingle @AI-ML Trainer\n",
      "DrDarshanIngleAIMLTrainer\n"
     ]
    }
   ],
   "source": [
    "def removeextra(str):\n",
    "    print(str)\n",
    "    str = list(str)\n",
    "    str1=\"\"\n",
    "    j = 0\n",
    "\n",
    "    for i in str:\n",
    "        if str[j].isalpha():\n",
    "            str1 = str1 + i\n",
    "        j = j+1\n",
    "        \n",
    "    return str1.lower()\n",
    "\n",
    "str = \"Dr. Darshan Ingle @AI-ML Trainer\"\n",
    "var = removeextra(str)\n",
    "print(var)\n"
   ]
  },
  {
   "cell_type": "markdown",
   "metadata": {},
   "source": [
    "End of Day5 Assignment"
   ]
  }
 ],
 "metadata": {
  "kernelspec": {
   "display_name": "Python 3",
   "language": "python",
   "name": "python3"
  },
  "language_info": {
   "codemirror_mode": {
    "name": "ipython",
    "version": 3
   },
   "file_extension": ".py",
   "mimetype": "text/x-python",
   "name": "python",
   "nbconvert_exporter": "python",
   "pygments_lexer": "ipython3",
   "version": "3.7.6"
  },
  "toc": {
   "base_numbering": 1,
   "nav_menu": {},
   "number_sections": true,
   "sideBar": true,
   "skip_h1_title": false,
   "title_cell": "Table of Contents",
   "title_sidebar": "Contents",
   "toc_cell": false,
   "toc_position": {},
   "toc_section_display": true,
   "toc_window_display": true
  }
 },
 "nbformat": 4,
 "nbformat_minor": 4
}
