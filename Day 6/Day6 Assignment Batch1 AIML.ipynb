{
 "cells": [
  {
   "cell_type": "code",
   "execution_count": null,
   "metadata": {},
   "outputs": [],
   "source": [
    "# Day6 Assignment Batch1 AIML  - 13/7/2020\n",
    "# Venkkatesh V R "
   ]
  },
  {
   "cell_type": "markdown",
   "metadata": {},
   "source": [
    "## Question 1:\n",
    "Assuming that we have some email addresses in the \"username@companyname.com\" format, please write program\n",
    "to print the company name of a given email address. Both user names and company names are composed of letters\n",
    "only."
   ]
  },
  {
   "cell_type": "code",
   "execution_count": 3,
   "metadata": {},
   "outputs": [
    {
     "name": "stdout",
     "output_type": "stream",
     "text": [
      " Company name is :  letsupgrade\n"
     ]
    }
   ],
   "source": [
    "email = \"darshan@letsupgrade.com\"\n",
    "ix1 = email.index(\"@\")\n",
    "ix2 = email.index(\".\")\n",
    "company = email[ix1+1:ix2]\n",
    "print(\" Company name is : \",company)"
   ]
  },
  {
   "cell_type": "markdown",
   "metadata": {},
   "source": [
    "## Question 2:\n",
    "Write a program that accepts a comma-separated sequence of words as input and prints the words in a comma\n",
    "separated sequence after sorting them alphabetically.\n",
    "Input Format:\n",
    "The first line of input contains words separated by the comma.\n",
    "Output Format:\n",
    "Print the sorted words separated by the comma."
   ]
  },
  {
   "cell_type": "code",
   "execution_count": 19,
   "metadata": {},
   "outputs": [
    {
     "name": "stdout",
     "output_type": "stream",
     "text": [
      "Enter only comma seperated words : without,hello,bag,world\n",
      "without,hello,bag,world\n",
      "bag,hello,without,world\n"
     ]
    }
   ],
   "source": [
    "var = input(\"Enter only comma seperated words : \")\n",
    "print(var)\n",
    "lst = var.split(\",\")\n",
    "\n",
    "#print(lst)\n",
    "lst.sort()\n",
    "#print(lst)\n",
    "\n",
    "var1=''\n",
    "j = 0\n",
    "for i in lst:\n",
    "    if j == 0:\n",
    "        var1= i\n",
    "    else:\n",
    "        var1 = var1 + ',' + i\n",
    "    j += 1\n",
    "    \n",
    "print(var1)"
   ]
  },
  {
   "cell_type": "markdown",
   "metadata": {},
   "source": [
    "## Question 3:\n",
    "Create your own Jupyter Notebook for Sets"
   ]
  },
  {
   "cell_type": "markdown",
   "metadata": {},
   "source": [
    "__Set__\n",
    "\n",
    "A set is a collection which is unordered and unindexed. In Python sets are written with curly brackets."
   ]
  },
  {
   "cell_type": "code",
   "execution_count": 67,
   "metadata": {},
   "outputs": [
    {
     "name": "stdout",
     "output_type": "stream",
     "text": [
      "{'C', 'B', 'A'}\n"
     ]
    }
   ],
   "source": [
    "# Create a Set:\n",
    "\n",
    "set1 = {\"A\", \"B\", \"C\"}\n",
    "print(set1)\n"
   ]
  },
  {
   "cell_type": "code",
   "execution_count": 68,
   "metadata": {},
   "outputs": [
    {
     "name": "stdout",
     "output_type": "stream",
     "text": [
      "{'C', 'B', 'D', 'A'}\n"
     ]
    }
   ],
   "source": [
    "# Modify a Set:\n",
    "\n",
    "set1.add('D')\n",
    "print(set1)\n"
   ]
  },
  {
   "cell_type": "code",
   "execution_count": 69,
   "metadata": {},
   "outputs": [
    {
     "data": {
      "text/plain": [
       "'C'"
      ]
     },
     "execution_count": 69,
     "metadata": {},
     "output_type": "execute_result"
    }
   ],
   "source": [
    "# Remove an random element\n",
    "set1.pop()"
   ]
  },
  {
   "cell_type": "code",
   "execution_count": 70,
   "metadata": {},
   "outputs": [
    {
     "data": {
      "text/plain": [
       "{'A', 'B'}"
      ]
     },
     "execution_count": 70,
     "metadata": {},
     "output_type": "execute_result"
    }
   ],
   "source": [
    "# REmove an element\n",
    "set1.remove('D')\n",
    "set1"
   ]
  },
  {
   "cell_type": "code",
   "execution_count": 71,
   "metadata": {},
   "outputs": [
    {
     "data": {
      "text/plain": [
       "set()"
      ]
     },
     "execution_count": 71,
     "metadata": {},
     "output_type": "execute_result"
    }
   ],
   "source": [
    "# Empty the set\n",
    "\n",
    "set1.clear()\n",
    "set1"
   ]
  },
  {
   "cell_type": "markdown",
   "metadata": {},
   "source": [
    "## Question 4:\n",
    "Given a list of n-1 numbers ranging from 1 to n, your task is to find the missing number. There are no duplicates.\n"
   ]
  },
  {
   "cell_type": "code",
   "execution_count": 51,
   "metadata": {},
   "outputs": [
    {
     "name": "stdout",
     "output_type": "stream",
     "text": [
      " Enter n-1 numbers with one missing number: 1 2 3 4 6 7\n",
      " Missing Number in the list is:  5\n"
     ]
    }
   ],
   "source": [
    "var = list(input(\" Enter n-1 numbers with one missing number: \"))\n",
    "var.sort()\n",
    "#print(var)\n",
    "\n",
    "var1 = 0\n",
    "for i in var:\n",
    "    if i == ' ':\n",
    "        pass\n",
    "    else:    \n",
    "        if int(i) - var1 > 1:\n",
    "            print(\" Missing Number in the list is: \", int(i)-1)\n",
    "            break\n",
    "        else:\n",
    "            var1 += 1\n"
   ]
  },
  {
   "cell_type": "markdown",
   "metadata": {},
   "source": [
    "## Question 5:\n",
    "With a given list L, write a program to print this list L after removing all duplicate values with original order reserved.\n",
    "Example:\n",
    "If the input list is\n",
    "12 24 35 24 88 120 155 88 120 155\n",
    "Then the output should be\n",
    "12 24 35 88 120 155"
   ]
  },
  {
   "cell_type": "code",
   "execution_count": 66,
   "metadata": {},
   "outputs": [
    {
     "name": "stdout",
     "output_type": "stream",
     "text": [
      "Enter list of numbers to remove duplicates: 12 20 35 20 40 50 35 60\n",
      "12 20 35 20 40 50 35 60\n",
      "12 20 35 40 50 60\n"
     ]
    }
   ],
   "source": [
    "def unite(x):\n",
    "    y = ''\n",
    "    j = 0\n",
    "    for i in x:\n",
    "        if j == 0:\n",
    "            y = i\n",
    "        else:\n",
    "            y = y + ' ' +  i\n",
    "        j += 1\n",
    "    \n",
    "    print(y)\n",
    "        \n",
    "        \n",
    "\n",
    "var = input(\"Enter list of numbers to remove duplicates: \")\n",
    "\n",
    "print(var)\n",
    "\n",
    "var1 = list(var.split(' '))\n",
    "# print(var1)\n",
    "\n",
    "final = []\n",
    "j = 0\n",
    "for i in var1:\n",
    "    if i not in final:\n",
    "        final.append(i)\n",
    "        \n",
    "unite(final)\n",
    "        \n",
    "    \n",
    "    "
   ]
  },
  {
   "cell_type": "markdown",
   "metadata": {},
   "source": [
    "End of Day6 Assignment"
   ]
  }
 ],
 "metadata": {
  "kernelspec": {
   "display_name": "Python 3",
   "language": "python",
   "name": "python3"
  },
  "language_info": {
   "codemirror_mode": {
    "name": "ipython",
    "version": 3
   },
   "file_extension": ".py",
   "mimetype": "text/x-python",
   "name": "python",
   "nbconvert_exporter": "python",
   "pygments_lexer": "ipython3",
   "version": "3.7.6"
  },
  "toc": {
   "base_numbering": 1,
   "nav_menu": {},
   "number_sections": true,
   "sideBar": true,
   "skip_h1_title": false,
   "title_cell": "Table of Contents",
   "title_sidebar": "Contents",
   "toc_cell": false,
   "toc_position": {},
   "toc_section_display": true,
   "toc_window_display": true
  }
 },
 "nbformat": 4,
 "nbformat_minor": 4
}
