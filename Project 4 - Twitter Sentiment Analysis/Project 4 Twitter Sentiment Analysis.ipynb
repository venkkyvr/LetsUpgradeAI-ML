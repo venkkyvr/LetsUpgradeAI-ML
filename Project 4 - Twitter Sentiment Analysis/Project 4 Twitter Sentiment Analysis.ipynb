{
 "cells": [
  {
   "cell_type": "markdown",
   "metadata": {},
   "source": [
    "# Project 4 : Twitter Sentiment Analysis"
   ]
  },
  {
   "cell_type": "markdown",
   "metadata": {},
   "source": [
    "\n",
    "To collect text data using Twitter API."
   ]
  },
  {
   "cell_type": "markdown",
   "metadata": {},
   "source": [
    "## Import Libraries"
   ]
  },
  {
   "cell_type": "code",
   "execution_count": 29,
   "metadata": {},
   "outputs": [],
   "source": [
    "import numpy as np\n",
    "import pandas as pd\n",
    "import tweepy\n",
    "import openpyxl\n",
    "import json\n",
    "from tweepy import OAuthHandler\n",
    "from textblob import TextBlob\n",
    "import re"
   ]
  },
  {
   "cell_type": "markdown",
   "metadata": {},
   "source": [
    "## Define the Twitter API Keys\n",
    "\n",
    "consumer_key\n",
    "\n",
    "consumer_secret\n",
    "\n",
    "access_token\n",
    "\n",
    "access_token_secret\n",
    "\n",
    "**The above keys are confidential, So masking it for submission**"
   ]
  },
  {
   "cell_type": "code",
   "execution_count": 4,
   "metadata": {},
   "outputs": [],
   "source": [
    "consumer_key = \"xxxx\"\n",
    "consumer_secret = \"xxxx\"\n",
    "access_token = \"xxxxx\"\n",
    "access_token_secret = \"xxxx\""
   ]
  },
  {
   "cell_type": "markdown",
   "metadata": {},
   "source": [
    "## Connect to twitter using API"
   ]
  },
  {
   "cell_type": "code",
   "execution_count": 9,
   "metadata": {},
   "outputs": [],
   "source": [
    "auth = tweepy.OAuthHandler( consumer_key , consumer_secret )\n",
    "auth.set_access_token( access_token , access_token_secret )\n",
    "api = tweepy.API(auth)"
   ]
  },
  {
   "cell_type": "markdown",
   "metadata": {},
   "source": [
    "## Test API in twitter to search for latest trending tweets : Raw format"
   ]
  },
  {
   "cell_type": "code",
   "execution_count": 16,
   "metadata": {},
   "outputs": [],
   "source": [
    "query = \"covid cases in chennai\""
   ]
  },
  {
   "cell_type": "code",
   "execution_count": 17,
   "metadata": {},
   "outputs": [
    {
     "name": "stdout",
     "output_type": "stream",
     "text": [
      "Status(_api=<tweepy.api.API object at 0x000001D507EF6848>, _json={'created_at': 'Sun Nov 22 13:56:54 +0000 2020', 'id': 1330510570295074818, 'id_str': '1330510570295074818', 'full_text': '@EPSTamilNadu @Vijayabaskarofl @narendramodi @MoHFW_INDIA @AmitShah this is how the cases go unnoticed not only in Tamilnadu but in other states also. Where govt  is not worried about health of people and has not developed infrastructure in healthcare https://t.co/m8Vvq37KOx', 'truncated': False, 'display_text_range': [0, 275], 'entities': {'hashtags': [], 'symbols': [], 'user_mentions': [{'screen_name': 'EPSTamilNadu', 'name': 'Edappadi K Palaniswami', 'id': 973935385557413889, 'id_str': '973935385557413889', 'indices': [0, 13]}, {'screen_name': 'Vijayabaskarofl', 'name': 'Dr C Vijayabaskar', 'id': 1019887446417215489, 'id_str': '1019887446417215489', 'indices': [14, 30]}, {'screen_name': 'narendramodi', 'name': 'Narendra Modi', 'id': 18839785, 'id_str': '18839785', 'indices': [31, 44]}, {'screen_name': 'MoHFW_INDIA', 'name': 'Ministry of Health', 'id': 2596143056, 'id_str': '2596143056', 'indices': [45, 57]}, {'screen_name': 'AmitShah', 'name': 'Amit Shah', 'id': 1447949844, 'id_str': '1447949844', 'indices': [58, 67]}], 'urls': [{'url': 'https://t.co/m8Vvq37KOx', 'expanded_url': 'https://m.timesofindia.com/city/chennai/tamil-nadu-passengers-from-cities-with-high-covid-19-cases-go-unmonitored/amp_articleshow/79348146.cms', 'display_url': 'm.timesofindia.com/city/chennai/t…', 'indices': [252, 275]}]}, 'metadata': {'iso_language_code': 'en', 'result_type': 'recent'}, 'source': '<a href=\"http://twitter.com/download/android\" rel=\"nofollow\">Twitter for Android</a>', 'in_reply_to_status_id': None, 'in_reply_to_status_id_str': None, 'in_reply_to_user_id': 973935385557413889, 'in_reply_to_user_id_str': '973935385557413889', 'in_reply_to_screen_name': 'EPSTamilNadu', 'user': {'id': 3300663056, 'id_str': '3300663056', 'name': 'vasankj1', 'screen_name': 'vasankj1', 'location': 'India, Chennai ', 'description': 'Software professional', 'url': None, 'entities': {'description': {'urls': []}}, 'protected': False, 'followers_count': 6, 'friends_count': 6, 'listed_count': 0, 'created_at': 'Wed Jul 29 15:37:04 +0000 2015', 'favourites_count': 92, 'utc_offset': None, 'time_zone': None, 'geo_enabled': False, 'verified': False, 'statuses_count': 846, 'lang': None, 'contributors_enabled': False, 'is_translator': False, 'is_translation_enabled': False, 'profile_background_color': 'C0DEED', 'profile_background_image_url': 'http://abs.twimg.com/images/themes/theme1/bg.png', 'profile_background_image_url_https': 'https://abs.twimg.com/images/themes/theme1/bg.png', 'profile_background_tile': False, 'profile_image_url': 'http://pbs.twimg.com/profile_images/1202221214187442176/wa0KrZuD_normal.jpg', 'profile_image_url_https': 'https://pbs.twimg.com/profile_images/1202221214187442176/wa0KrZuD_normal.jpg', 'profile_link_color': '1DA1F2', 'profile_sidebar_border_color': 'C0DEED', 'profile_sidebar_fill_color': 'DDEEF6', 'profile_text_color': '333333', 'profile_use_background_image': True, 'has_extended_profile': False, 'default_profile': True, 'default_profile_image': False, 'following': False, 'follow_request_sent': False, 'notifications': False, 'translator_type': 'none'}, 'geo': None, 'coordinates': None, 'place': None, 'contributors': None, 'is_quote_status': False, 'retweet_count': 0, 'favorite_count': 0, 'favorited': False, 'retweeted': False, 'possibly_sensitive': False, 'lang': 'en'}, created_at=datetime.datetime(2020, 11, 22, 13, 56, 54), id=1330510570295074818, id_str='1330510570295074818', full_text='@EPSTamilNadu @Vijayabaskarofl @narendramodi @MoHFW_INDIA @AmitShah this is how the cases go unnoticed not only in Tamilnadu but in other states also. Where govt  is not worried about health of people and has not developed infrastructure in healthcare https://t.co/m8Vvq37KOx', truncated=False, display_text_range=[0, 275], entities={'hashtags': [], 'symbols': [], 'user_mentions': [{'screen_name': 'EPSTamilNadu', 'name': 'Edappadi K Palaniswami', 'id': 973935385557413889, 'id_str': '973935385557413889', 'indices': [0, 13]}, {'screen_name': 'Vijayabaskarofl', 'name': 'Dr C Vijayabaskar', 'id': 1019887446417215489, 'id_str': '1019887446417215489', 'indices': [14, 30]}, {'screen_name': 'narendramodi', 'name': 'Narendra Modi', 'id': 18839785, 'id_str': '18839785', 'indices': [31, 44]}, {'screen_name': 'MoHFW_INDIA', 'name': 'Ministry of Health', 'id': 2596143056, 'id_str': '2596143056', 'indices': [45, 57]}, {'screen_name': 'AmitShah', 'name': 'Amit Shah', 'id': 1447949844, 'id_str': '1447949844', 'indices': [58, 67]}], 'urls': [{'url': 'https://t.co/m8Vvq37KOx', 'expanded_url': 'https://m.timesofindia.com/city/chennai/tamil-nadu-passengers-from-cities-with-high-covid-19-cases-go-unmonitored/amp_articleshow/79348146.cms', 'display_url': 'm.timesofindia.com/city/chennai/t…', 'indices': [252, 275]}]}, metadata={'iso_language_code': 'en', 'result_type': 'recent'}, source='Twitter for Android', source_url='http://twitter.com/download/android', in_reply_to_status_id=None, in_reply_to_status_id_str=None, in_reply_to_user_id=973935385557413889, in_reply_to_user_id_str='973935385557413889', in_reply_to_screen_name='EPSTamilNadu', author=User(_api=<tweepy.api.API object at 0x000001D507EF6848>, _json={'id': 3300663056, 'id_str': '3300663056', 'name': 'vasankj1', 'screen_name': 'vasankj1', 'location': 'India, Chennai ', 'description': 'Software professional', 'url': None, 'entities': {'description': {'urls': []}}, 'protected': False, 'followers_count': 6, 'friends_count': 6, 'listed_count': 0, 'created_at': 'Wed Jul 29 15:37:04 +0000 2015', 'favourites_count': 92, 'utc_offset': None, 'time_zone': None, 'geo_enabled': False, 'verified': False, 'statuses_count': 846, 'lang': None, 'contributors_enabled': False, 'is_translator': False, 'is_translation_enabled': False, 'profile_background_color': 'C0DEED', 'profile_background_image_url': 'http://abs.twimg.com/images/themes/theme1/bg.png', 'profile_background_image_url_https': 'https://abs.twimg.com/images/themes/theme1/bg.png', 'profile_background_tile': False, 'profile_image_url': 'http://pbs.twimg.com/profile_images/1202221214187442176/wa0KrZuD_normal.jpg', 'profile_image_url_https': 'https://pbs.twimg.com/profile_images/1202221214187442176/wa0KrZuD_normal.jpg', 'profile_link_color': '1DA1F2', 'profile_sidebar_border_color': 'C0DEED', 'profile_sidebar_fill_color': 'DDEEF6', 'profile_text_color': '333333', 'profile_use_background_image': True, 'has_extended_profile': False, 'default_profile': True, 'default_profile_image': False, 'following': False, 'follow_request_sent': False, 'notifications': False, 'translator_type': 'none'}, id=3300663056, id_str='3300663056', name='vasankj1', screen_name='vasankj1', location='India, Chennai ', description='Software professional', url=None, entities={'description': {'urls': []}}, protected=False, followers_count=6, friends_count=6, listed_count=0, created_at=datetime.datetime(2015, 7, 29, 15, 37, 4), favourites_count=92, utc_offset=None, time_zone=None, geo_enabled=False, verified=False, statuses_count=846, lang=None, contributors_enabled=False, is_translator=False, is_translation_enabled=False, profile_background_color='C0DEED', profile_background_image_url='http://abs.twimg.com/images/themes/theme1/bg.png', profile_background_image_url_https='https://abs.twimg.com/images/themes/theme1/bg.png', profile_background_tile=False, profile_image_url='http://pbs.twimg.com/profile_images/1202221214187442176/wa0KrZuD_normal.jpg', profile_image_url_https='https://pbs.twimg.com/profile_images/1202221214187442176/wa0KrZuD_normal.jpg', profile_link_color='1DA1F2', profile_sidebar_border_color='C0DEED', profile_sidebar_fill_color='DDEEF6', profile_text_color='333333', profile_use_background_image=True, has_extended_profile=False, default_profile=True, default_profile_image=False, following=False, follow_request_sent=False, notifications=False, translator_type='none'), user=User(_api=<tweepy.api.API object at 0x000001D507EF6848>, _json={'id': 3300663056, 'id_str': '3300663056', 'name': 'vasankj1', 'screen_name': 'vasankj1', 'location': 'India, Chennai ', 'description': 'Software professional', 'url': None, 'entities': {'description': {'urls': []}}, 'protected': False, 'followers_count': 6, 'friends_count': 6, 'listed_count': 0, 'created_at': 'Wed Jul 29 15:37:04 +0000 2015', 'favourites_count': 92, 'utc_offset': None, 'time_zone': None, 'geo_enabled': False, 'verified': False, 'statuses_count': 846, 'lang': None, 'contributors_enabled': False, 'is_translator': False, 'is_translation_enabled': False, 'profile_background_color': 'C0DEED', 'profile_background_image_url': 'http://abs.twimg.com/images/themes/theme1/bg.png', 'profile_background_image_url_https': 'https://abs.twimg.com/images/themes/theme1/bg.png', 'profile_background_tile': False, 'profile_image_url': 'http://pbs.twimg.com/profile_images/1202221214187442176/wa0KrZuD_normal.jpg', 'profile_image_url_https': 'https://pbs.twimg.com/profile_images/1202221214187442176/wa0KrZuD_normal.jpg', 'profile_link_color': '1DA1F2', 'profile_sidebar_border_color': 'C0DEED', 'profile_sidebar_fill_color': 'DDEEF6', 'profile_text_color': '333333', 'profile_use_background_image': True, 'has_extended_profile': False, 'default_profile': True, 'default_profile_image': False, 'following': False, 'follow_request_sent': False, 'notifications': False, 'translator_type': 'none'}, id=3300663056, id_str='3300663056', name='vasankj1', screen_name='vasankj1', location='India, Chennai ', description='Software professional', url=None, entities={'description': {'urls': []}}, protected=False, followers_count=6, friends_count=6, listed_count=0, created_at=datetime.datetime(2015, 7, 29, 15, 37, 4), favourites_count=92, utc_offset=None, time_zone=None, geo_enabled=False, verified=False, statuses_count=846, lang=None, contributors_enabled=False, is_translator=False, is_translation_enabled=False, profile_background_color='C0DEED', profile_background_image_url='http://abs.twimg.com/images/themes/theme1/bg.png', profile_background_image_url_https='https://abs.twimg.com/images/themes/theme1/bg.png', profile_background_tile=False, profile_image_url='http://pbs.twimg.com/profile_images/1202221214187442176/wa0KrZuD_normal.jpg', profile_image_url_https='https://pbs.twimg.com/profile_images/1202221214187442176/wa0KrZuD_normal.jpg', profile_link_color='1DA1F2', profile_sidebar_border_color='C0DEED', profile_sidebar_fill_color='DDEEF6', profile_text_color='333333', profile_use_background_image=True, has_extended_profile=False, default_profile=True, default_profile_image=False, following=False, follow_request_sent=False, notifications=False, translator_type='none'), geo=None, coordinates=None, place=None, contributors=None, is_quote_status=False, retweet_count=0, favorite_count=0, favorited=False, retweeted=False, possibly_sensitive=False, lang='en') \n",
      "\n",
      ".....................................\n",
      "\n",
      "Status(_api=<tweepy.api.API object at 0x000001D507EF6848>, _json={'created_at': 'Sun Nov 22 13:47:22 +0000 2020', 'id': 1330508173006888961, 'id_str': '1330508173006888961', 'full_text': '#TamilNadu district wise breakup of #COVID cases, active cases, discharged, death toll 👇\\n\\nToday, 489 cases in #Chennai 154 in #Coimbatore  108 in #Chengalpattu 92 in #Thiruvallur 72 in #Tiruppur \\n\\n#TNCoronaUpdates #COVID #COVID19India https://t.co/8coIBH7ALK', 'truncated': False, 'display_text_range': [0, 234], 'entities': {'hashtags': [{'text': 'TamilNadu', 'indices': [0, 10]}, {'text': 'COVID', 'indices': [36, 42]}, {'text': 'Chennai', 'indices': [110, 118]}, {'text': 'Coimbatore', 'indices': [126, 137]}, {'text': 'Chengalpattu', 'indices': [146, 159]}, {'text': 'Thiruvallur', 'indices': [166, 178]}, {'text': 'Tiruppur', 'indices': [185, 194]}, {'text': 'TNCoronaUpdates', 'indices': [197, 213]}, {'text': 'COVID', 'indices': [214, 220]}, {'text': 'COVID19India', 'indices': [221, 234]}], 'symbols': [], 'user_mentions': [], 'urls': [], 'media': [{'id': 1330508156967981059, 'id_str': '1330508156967981059', 'indices': [235, 258], 'media_url': 'http://pbs.twimg.com/media/EnbqHpLWEAM2tN9.jpg', 'media_url_https': 'https://pbs.twimg.com/media/EnbqHpLWEAM2tN9.jpg', 'url': 'https://t.co/8coIBH7ALK', 'display_url': 'pic.twitter.com/8coIBH7ALK', 'expanded_url': 'https://twitter.com/smitha_tk/status/1330508173006888961/photo/1', 'type': 'photo', 'sizes': {'thumb': {'w': 150, 'h': 150, 'resize': 'crop'}, 'medium': {'w': 1037, 'h': 1200, 'resize': 'fit'}, 'large': {'w': 1080, 'h': 1250, 'resize': 'fit'}, 'small': {'w': 588, 'h': 680, 'resize': 'fit'}}}]}, 'extended_entities': {'media': [{'id': 1330508156967981059, 'id_str': '1330508156967981059', 'indices': [235, 258], 'media_url': 'http://pbs.twimg.com/media/EnbqHpLWEAM2tN9.jpg', 'media_url_https': 'https://pbs.twimg.com/media/EnbqHpLWEAM2tN9.jpg', 'url': 'https://t.co/8coIBH7ALK', 'display_url': 'pic.twitter.com/8coIBH7ALK', 'expanded_url': 'https://twitter.com/smitha_tk/status/1330508173006888961/photo/1', 'type': 'photo', 'sizes': {'thumb': {'w': 150, 'h': 150, 'resize': 'crop'}, 'medium': {'w': 1037, 'h': 1200, 'resize': 'fit'}, 'large': {'w': 1080, 'h': 1250, 'resize': 'fit'}, 'small': {'w': 588, 'h': 680, 'resize': 'fit'}}}, {'id': 1330508163746033666, 'id_str': '1330508163746033666', 'indices': [235, 258], 'media_url': 'http://pbs.twimg.com/media/EnbqICbW8AIqihK.jpg', 'media_url_https': 'https://pbs.twimg.com/media/EnbqICbW8AIqihK.jpg', 'url': 'https://t.co/8coIBH7ALK', 'display_url': 'pic.twitter.com/8coIBH7ALK', 'expanded_url': 'https://twitter.com/smitha_tk/status/1330508173006888961/photo/1', 'type': 'photo', 'sizes': {'thumb': {'w': 150, 'h': 150, 'resize': 'crop'}, 'medium': {'w': 977, 'h': 1200, 'resize': 'fit'}, 'small': {'w': 553, 'h': 680, 'resize': 'fit'}, 'large': {'w': 1080, 'h': 1327, 'resize': 'fit'}}}, {'id': 1330508170079375371, 'id_str': '1330508170079375371', 'indices': [235, 258], 'media_url': 'http://pbs.twimg.com/media/EnbqIaBWEAsXXAC.jpg', 'media_url_https': 'https://pbs.twimg.com/media/EnbqIaBWEAsXXAC.jpg', 'url': 'https://t.co/8coIBH7ALK', 'display_url': 'pic.twitter.com/8coIBH7ALK', 'expanded_url': 'https://twitter.com/smitha_tk/status/1330508173006888961/photo/1', 'type': 'photo', 'sizes': {'thumb': {'w': 150, 'h': 150, 'resize': 'crop'}, 'medium': {'w': 1023, 'h': 1200, 'resize': 'fit'}, 'small': {'w': 580, 'h': 680, 'resize': 'fit'}, 'large': {'w': 1080, 'h': 1267, 'resize': 'fit'}}}]}, 'metadata': {'iso_language_code': 'en', 'result_type': 'recent'}, 'source': '<a href=\"http://twitter.com/download/android\" rel=\"nofollow\">Twitter for Android</a>', 'in_reply_to_status_id': 1330507378823888898, 'in_reply_to_status_id_str': '1330507378823888898', 'in_reply_to_user_id': 2334791696, 'in_reply_to_user_id_str': '2334791696', 'in_reply_to_screen_name': 'smitha_tk', 'user': {'id': 2334791696, 'id_str': '2334791696', 'name': 'Smitha  T K', 'screen_name': 'smitha_tk', 'location': 'Chennai, India', 'description': 'Senior Correspondent at The Quint | Former NDTV Prime/ NDTV 24x7 & Hindustan Times | Theatre | Food | ACJ Alumna\\nAll views are personal.', 'url': 'https://t.co/VxC9Pw6slo', 'entities': {'url': {'urls': [{'url': 'https://t.co/VxC9Pw6slo', 'expanded_url': 'https://www.thequint.com/author/322435/smitha-tk', 'display_url': 'thequint.com/author/322435/…', 'indices': [0, 23]}]}, 'description': {'urls': []}}, 'protected': False, 'followers_count': 12450, 'friends_count': 1423, 'listed_count': 68, 'created_at': 'Sun Feb 09 08:47:20 +0000 2014', 'favourites_count': 6361, 'utc_offset': None, 'time_zone': None, 'geo_enabled': True, 'verified': False, 'statuses_count': 15457, 'lang': None, 'contributors_enabled': False, 'is_translator': False, 'is_translation_enabled': False, 'profile_background_color': '000000', 'profile_background_image_url': 'http://abs.twimg.com/images/themes/theme1/bg.png', 'profile_background_image_url_https': 'https://abs.twimg.com/images/themes/theme1/bg.png', 'profile_background_tile': False, 'profile_image_url': 'http://pbs.twimg.com/profile_images/1291234027513421825/4KLr1tF6_normal.jpg', 'profile_image_url_https': 'https://pbs.twimg.com/profile_images/1291234027513421825/4KLr1tF6_normal.jpg', 'profile_banner_url': 'https://pbs.twimg.com/profile_banners/2334791696/1596690273', 'profile_link_color': 'FAB81E', 'profile_sidebar_border_color': '000000', 'profile_sidebar_fill_color': '000000', 'profile_text_color': '000000', 'profile_use_background_image': False, 'has_extended_profile': True, 'default_profile': False, 'default_profile_image': False, 'following': False, 'follow_request_sent': False, 'notifications': False, 'translator_type': 'none'}, 'geo': None, 'coordinates': None, 'place': None, 'contributors': None, 'is_quote_status': False, 'retweet_count': 3, 'favorite_count': 2, 'favorited': False, 'retweeted': False, 'possibly_sensitive': False, 'lang': 'en'}, created_at=datetime.datetime(2020, 11, 22, 13, 47, 22), id=1330508173006888961, id_str='1330508173006888961', full_text='#TamilNadu district wise breakup of #COVID cases, active cases, discharged, death toll 👇\\n\\nToday, 489 cases in #Chennai 154 in #Coimbatore  108 in #Chengalpattu 92 in #Thiruvallur 72 in #Tiruppur \\n\\n#TNCoronaUpdates #COVID #COVID19India https://t.co/8coIBH7ALK', truncated=False, display_text_range=[0, 234], entities={'hashtags': [{'text': 'TamilNadu', 'indices': [0, 10]}, {'text': 'COVID', 'indices': [36, 42]}, {'text': 'Chennai', 'indices': [110, 118]}, {'text': 'Coimbatore', 'indices': [126, 137]}, {'text': 'Chengalpattu', 'indices': [146, 159]}, {'text': 'Thiruvallur', 'indices': [166, 178]}, {'text': 'Tiruppur', 'indices': [185, 194]}, {'text': 'TNCoronaUpdates', 'indices': [197, 213]}, {'text': 'COVID', 'indices': [214, 220]}, {'text': 'COVID19India', 'indices': [221, 234]}], 'symbols': [], 'user_mentions': [], 'urls': [], 'media': [{'id': 1330508156967981059, 'id_str': '1330508156967981059', 'indices': [235, 258], 'media_url': 'http://pbs.twimg.com/media/EnbqHpLWEAM2tN9.jpg', 'media_url_https': 'https://pbs.twimg.com/media/EnbqHpLWEAM2tN9.jpg', 'url': 'https://t.co/8coIBH7ALK', 'display_url': 'pic.twitter.com/8coIBH7ALK', 'expanded_url': 'https://twitter.com/smitha_tk/status/1330508173006888961/photo/1', 'type': 'photo', 'sizes': {'thumb': {'w': 150, 'h': 150, 'resize': 'crop'}, 'medium': {'w': 1037, 'h': 1200, 'resize': 'fit'}, 'large': {'w': 1080, 'h': 1250, 'resize': 'fit'}, 'small': {'w': 588, 'h': 680, 'resize': 'fit'}}}]}, extended_entities={'media': [{'id': 1330508156967981059, 'id_str': '1330508156967981059', 'indices': [235, 258], 'media_url': 'http://pbs.twimg.com/media/EnbqHpLWEAM2tN9.jpg', 'media_url_https': 'https://pbs.twimg.com/media/EnbqHpLWEAM2tN9.jpg', 'url': 'https://t.co/8coIBH7ALK', 'display_url': 'pic.twitter.com/8coIBH7ALK', 'expanded_url': 'https://twitter.com/smitha_tk/status/1330508173006888961/photo/1', 'type': 'photo', 'sizes': {'thumb': {'w': 150, 'h': 150, 'resize': 'crop'}, 'medium': {'w': 1037, 'h': 1200, 'resize': 'fit'}, 'large': {'w': 1080, 'h': 1250, 'resize': 'fit'}, 'small': {'w': 588, 'h': 680, 'resize': 'fit'}}}, {'id': 1330508163746033666, 'id_str': '1330508163746033666', 'indices': [235, 258], 'media_url': 'http://pbs.twimg.com/media/EnbqICbW8AIqihK.jpg', 'media_url_https': 'https://pbs.twimg.com/media/EnbqICbW8AIqihK.jpg', 'url': 'https://t.co/8coIBH7ALK', 'display_url': 'pic.twitter.com/8coIBH7ALK', 'expanded_url': 'https://twitter.com/smitha_tk/status/1330508173006888961/photo/1', 'type': 'photo', 'sizes': {'thumb': {'w': 150, 'h': 150, 'resize': 'crop'}, 'medium': {'w': 977, 'h': 1200, 'resize': 'fit'}, 'small': {'w': 553, 'h': 680, 'resize': 'fit'}, 'large': {'w': 1080, 'h': 1327, 'resize': 'fit'}}}, {'id': 1330508170079375371, 'id_str': '1330508170079375371', 'indices': [235, 258], 'media_url': 'http://pbs.twimg.com/media/EnbqIaBWEAsXXAC.jpg', 'media_url_https': 'https://pbs.twimg.com/media/EnbqIaBWEAsXXAC.jpg', 'url': 'https://t.co/8coIBH7ALK', 'display_url': 'pic.twitter.com/8coIBH7ALK', 'expanded_url': 'https://twitter.com/smitha_tk/status/1330508173006888961/photo/1', 'type': 'photo', 'sizes': {'thumb': {'w': 150, 'h': 150, 'resize': 'crop'}, 'medium': {'w': 1023, 'h': 1200, 'resize': 'fit'}, 'small': {'w': 580, 'h': 680, 'resize': 'fit'}, 'large': {'w': 1080, 'h': 1267, 'resize': 'fit'}}}]}, metadata={'iso_language_code': 'en', 'result_type': 'recent'}, source='Twitter for Android', source_url='http://twitter.com/download/android', in_reply_to_status_id=1330507378823888898, in_reply_to_status_id_str='1330507378823888898', in_reply_to_user_id=2334791696, in_reply_to_user_id_str='2334791696', in_reply_to_screen_name='smitha_tk', author=User(_api=<tweepy.api.API object at 0x000001D507EF6848>, _json={'id': 2334791696, 'id_str': '2334791696', 'name': 'Smitha  T K', 'screen_name': 'smitha_tk', 'location': 'Chennai, India', 'description': 'Senior Correspondent at The Quint | Former NDTV Prime/ NDTV 24x7 & Hindustan Times | Theatre | Food | ACJ Alumna\\nAll views are personal.', 'url': 'https://t.co/VxC9Pw6slo', 'entities': {'url': {'urls': [{'url': 'https://t.co/VxC9Pw6slo', 'expanded_url': 'https://www.thequint.com/author/322435/smitha-tk', 'display_url': 'thequint.com/author/322435/…', 'indices': [0, 23]}]}, 'description': {'urls': []}}, 'protected': False, 'followers_count': 12450, 'friends_count': 1423, 'listed_count': 68, 'created_at': 'Sun Feb 09 08:47:20 +0000 2014', 'favourites_count': 6361, 'utc_offset': None, 'time_zone': None, 'geo_enabled': True, 'verified': False, 'statuses_count': 15457, 'lang': None, 'contributors_enabled': False, 'is_translator': False, 'is_translation_enabled': False, 'profile_background_color': '000000', 'profile_background_image_url': 'http://abs.twimg.com/images/themes/theme1/bg.png', 'profile_background_image_url_https': 'https://abs.twimg.com/images/themes/theme1/bg.png', 'profile_background_tile': False, 'profile_image_url': 'http://pbs.twimg.com/profile_images/1291234027513421825/4KLr1tF6_normal.jpg', 'profile_image_url_https': 'https://pbs.twimg.com/profile_images/1291234027513421825/4KLr1tF6_normal.jpg', 'profile_banner_url': 'https://pbs.twimg.com/profile_banners/2334791696/1596690273', 'profile_link_color': 'FAB81E', 'profile_sidebar_border_color': '000000', 'profile_sidebar_fill_color': '000000', 'profile_text_color': '000000', 'profile_use_background_image': False, 'has_extended_profile': True, 'default_profile': False, 'default_profile_image': False, 'following': False, 'follow_request_sent': False, 'notifications': False, 'translator_type': 'none'}, id=2334791696, id_str='2334791696', name='Smitha  T K', screen_name='smitha_tk', location='Chennai, India', description='Senior Correspondent at The Quint | Former NDTV Prime/ NDTV 24x7 & Hindustan Times | Theatre | Food | ACJ Alumna\\nAll views are personal.', url='https://t.co/VxC9Pw6slo', entities={'url': {'urls': [{'url': 'https://t.co/VxC9Pw6slo', 'expanded_url': 'https://www.thequint.com/author/322435/smitha-tk', 'display_url': 'thequint.com/author/322435/…', 'indices': [0, 23]}]}, 'description': {'urls': []}}, protected=False, followers_count=12450, friends_count=1423, listed_count=68, created_at=datetime.datetime(2014, 2, 9, 8, 47, 20), favourites_count=6361, utc_offset=None, time_zone=None, geo_enabled=True, verified=False, statuses_count=15457, lang=None, contributors_enabled=False, is_translator=False, is_translation_enabled=False, profile_background_color='000000', profile_background_image_url='http://abs.twimg.com/images/themes/theme1/bg.png', profile_background_image_url_https='https://abs.twimg.com/images/themes/theme1/bg.png', profile_background_tile=False, profile_image_url='http://pbs.twimg.com/profile_images/1291234027513421825/4KLr1tF6_normal.jpg', profile_image_url_https='https://pbs.twimg.com/profile_images/1291234027513421825/4KLr1tF6_normal.jpg', profile_banner_url='https://pbs.twimg.com/profile_banners/2334791696/1596690273', profile_link_color='FAB81E', profile_sidebar_border_color='000000', profile_sidebar_fill_color='000000', profile_text_color='000000', profile_use_background_image=False, has_extended_profile=True, default_profile=False, default_profile_image=False, following=False, follow_request_sent=False, notifications=False, translator_type='none'), user=User(_api=<tweepy.api.API object at 0x000001D507EF6848>, _json={'id': 2334791696, 'id_str': '2334791696', 'name': 'Smitha  T K', 'screen_name': 'smitha_tk', 'location': 'Chennai, India', 'description': 'Senior Correspondent at The Quint | Former NDTV Prime/ NDTV 24x7 & Hindustan Times | Theatre | Food | ACJ Alumna\\nAll views are personal.', 'url': 'https://t.co/VxC9Pw6slo', 'entities': {'url': {'urls': [{'url': 'https://t.co/VxC9Pw6slo', 'expanded_url': 'https://www.thequint.com/author/322435/smitha-tk', 'display_url': 'thequint.com/author/322435/…', 'indices': [0, 23]}]}, 'description': {'urls': []}}, 'protected': False, 'followers_count': 12450, 'friends_count': 1423, 'listed_count': 68, 'created_at': 'Sun Feb 09 08:47:20 +0000 2014', 'favourites_count': 6361, 'utc_offset': None, 'time_zone': None, 'geo_enabled': True, 'verified': False, 'statuses_count': 15457, 'lang': None, 'contributors_enabled': False, 'is_translator': False, 'is_translation_enabled': False, 'profile_background_color': '000000', 'profile_background_image_url': 'http://abs.twimg.com/images/themes/theme1/bg.png', 'profile_background_image_url_https': 'https://abs.twimg.com/images/themes/theme1/bg.png', 'profile_background_tile': False, 'profile_image_url': 'http://pbs.twimg.com/profile_images/1291234027513421825/4KLr1tF6_normal.jpg', 'profile_image_url_https': 'https://pbs.twimg.com/profile_images/1291234027513421825/4KLr1tF6_normal.jpg', 'profile_banner_url': 'https://pbs.twimg.com/profile_banners/2334791696/1596690273', 'profile_link_color': 'FAB81E', 'profile_sidebar_border_color': '000000', 'profile_sidebar_fill_color': '000000', 'profile_text_color': '000000', 'profile_use_background_image': False, 'has_extended_profile': True, 'default_profile': False, 'default_profile_image': False, 'following': False, 'follow_request_sent': False, 'notifications': False, 'translator_type': 'none'}, id=2334791696, id_str='2334791696', name='Smitha  T K', screen_name='smitha_tk', location='Chennai, India', description='Senior Correspondent at The Quint | Former NDTV Prime/ NDTV 24x7 & Hindustan Times | Theatre | Food | ACJ Alumna\\nAll views are personal.', url='https://t.co/VxC9Pw6slo', entities={'url': {'urls': [{'url': 'https://t.co/VxC9Pw6slo', 'expanded_url': 'https://www.thequint.com/author/322435/smitha-tk', 'display_url': 'thequint.com/author/322435/…', 'indices': [0, 23]}]}, 'description': {'urls': []}}, protected=False, followers_count=12450, friends_count=1423, listed_count=68, created_at=datetime.datetime(2014, 2, 9, 8, 47, 20), favourites_count=6361, utc_offset=None, time_zone=None, geo_enabled=True, verified=False, statuses_count=15457, lang=None, contributors_enabled=False, is_translator=False, is_translation_enabled=False, profile_background_color='000000', profile_background_image_url='http://abs.twimg.com/images/themes/theme1/bg.png', profile_background_image_url_https='https://abs.twimg.com/images/themes/theme1/bg.png', profile_background_tile=False, profile_image_url='http://pbs.twimg.com/profile_images/1291234027513421825/4KLr1tF6_normal.jpg', profile_image_url_https='https://pbs.twimg.com/profile_images/1291234027513421825/4KLr1tF6_normal.jpg', profile_banner_url='https://pbs.twimg.com/profile_banners/2334791696/1596690273', profile_link_color='FAB81E', profile_sidebar_border_color='000000', profile_sidebar_fill_color='000000', profile_text_color='000000', profile_use_background_image=False, has_extended_profile=True, default_profile=False, default_profile_image=False, following=False, follow_request_sent=False, notifications=False, translator_type='none'), geo=None, coordinates=None, place=None, contributors=None, is_quote_status=False, retweet_count=3, favorite_count=2, favorited=False, retweeted=False, possibly_sensitive=False, lang='en') \n",
      "\n",
      ".....................................\n",
      "\n",
      "Status(_api=<tweepy.api.API object at 0x000001D507EF6848>, _json={'created_at': 'Sun Nov 22 13:44:13 +0000 2020', 'id': 1330507378823888898, 'id_str': '1330507378823888898', 'full_text': '1,655 #covid19 cases reported in #TamilNadu today\\n\\nOf which 489 cases from #Chennai \\n\\n70,139 persons tested, 2,010 patients discharged, 19 deaths reported today\\n\\nTotal: 7,69,995 #coronavirus cases, 7,45,848 discharged, 11,605 deaths\\n\\n#TNCoronaUpdates #coronavirus #COVID https://t.co/FplPH2AfpW', 'truncated': False, 'display_text_range': [0, 270], 'entities': {'hashtags': [{'text': 'covid19', 'indices': [6, 14]}, {'text': 'TamilNadu', 'indices': [33, 43]}, {'text': 'Chennai', 'indices': [75, 83]}, {'text': 'coronavirus', 'indices': [178, 190]}, {'text': 'TNCoronaUpdates', 'indices': [234, 250]}, {'text': 'coronavirus', 'indices': [251, 263]}, {'text': 'COVID', 'indices': [264, 270]}], 'symbols': [], 'user_mentions': [], 'urls': [], 'media': [{'id': 1330507360381661196, 'id_str': '1330507360381661196', 'indices': [271, 294], 'media_url': 'http://pbs.twimg.com/media/EnbpZRqXcAwtIqk.jpg', 'media_url_https': 'https://pbs.twimg.com/media/EnbpZRqXcAwtIqk.jpg', 'url': 'https://t.co/FplPH2AfpW', 'display_url': 'pic.twitter.com/FplPH2AfpW', 'expanded_url': 'https://twitter.com/smitha_tk/status/1330507378823888898/photo/1', 'type': 'photo', 'sizes': {'small': {'w': 663, 'h': 680, 'resize': 'fit'}, 'thumb': {'w': 150, 'h': 150, 'resize': 'crop'}, 'large': {'w': 1080, 'h': 1108, 'resize': 'fit'}, 'medium': {'w': 1080, 'h': 1108, 'resize': 'fit'}}}]}, 'extended_entities': {'media': [{'id': 1330507360381661196, 'id_str': '1330507360381661196', 'indices': [271, 294], 'media_url': 'http://pbs.twimg.com/media/EnbpZRqXcAwtIqk.jpg', 'media_url_https': 'https://pbs.twimg.com/media/EnbpZRqXcAwtIqk.jpg', 'url': 'https://t.co/FplPH2AfpW', 'display_url': 'pic.twitter.com/FplPH2AfpW', 'expanded_url': 'https://twitter.com/smitha_tk/status/1330507378823888898/photo/1', 'type': 'photo', 'sizes': {'small': {'w': 663, 'h': 680, 'resize': 'fit'}, 'thumb': {'w': 150, 'h': 150, 'resize': 'crop'}, 'large': {'w': 1080, 'h': 1108, 'resize': 'fit'}, 'medium': {'w': 1080, 'h': 1108, 'resize': 'fit'}}}, {'id': 1330507369588133888, 'id_str': '1330507369588133888', 'indices': [271, 294], 'media_url': 'http://pbs.twimg.com/media/EnbpZz9XEAAnX2E.jpg', 'media_url_https': 'https://pbs.twimg.com/media/EnbpZz9XEAAnX2E.jpg', 'url': 'https://t.co/FplPH2AfpW', 'display_url': 'pic.twitter.com/FplPH2AfpW', 'expanded_url': 'https://twitter.com/smitha_tk/status/1330507378823888898/photo/1', 'type': 'photo', 'sizes': {'thumb': {'w': 150, 'h': 150, 'resize': 'crop'}, 'medium': {'w': 1080, 'h': 582, 'resize': 'fit'}, 'large': {'w': 1080, 'h': 582, 'resize': 'fit'}, 'small': {'w': 680, 'h': 366, 'resize': 'fit'}}}, {'id': 1330507376106102786, 'id_str': '1330507376106102786', 'indices': [271, 294], 'media_url': 'http://pbs.twimg.com/media/EnbpaMPXYAIvdOR.jpg', 'media_url_https': 'https://pbs.twimg.com/media/EnbpaMPXYAIvdOR.jpg', 'url': 'https://t.co/FplPH2AfpW', 'display_url': 'pic.twitter.com/FplPH2AfpW', 'expanded_url': 'https://twitter.com/smitha_tk/status/1330507378823888898/photo/1', 'type': 'photo', 'sizes': {'thumb': {'w': 150, 'h': 150, 'resize': 'crop'}, 'medium': {'w': 1015, 'h': 1200, 'resize': 'fit'}, 'small': {'w': 575, 'h': 680, 'resize': 'fit'}, 'large': {'w': 1080, 'h': 1277, 'resize': 'fit'}}}]}, 'metadata': {'iso_language_code': 'en', 'result_type': 'recent'}, 'source': '<a href=\"http://twitter.com/download/android\" rel=\"nofollow\">Twitter for Android</a>', 'in_reply_to_status_id': None, 'in_reply_to_status_id_str': None, 'in_reply_to_user_id': None, 'in_reply_to_user_id_str': None, 'in_reply_to_screen_name': None, 'user': {'id': 2334791696, 'id_str': '2334791696', 'name': 'Smitha  T K', 'screen_name': 'smitha_tk', 'location': 'Chennai, India', 'description': 'Senior Correspondent at The Quint | Former NDTV Prime/ NDTV 24x7 & Hindustan Times | Theatre | Food | ACJ Alumna\\nAll views are personal.', 'url': 'https://t.co/VxC9Pw6slo', 'entities': {'url': {'urls': [{'url': 'https://t.co/VxC9Pw6slo', 'expanded_url': 'https://www.thequint.com/author/322435/smitha-tk', 'display_url': 'thequint.com/author/322435/…', 'indices': [0, 23]}]}, 'description': {'urls': []}}, 'protected': False, 'followers_count': 12450, 'friends_count': 1423, 'listed_count': 68, 'created_at': 'Sun Feb 09 08:47:20 +0000 2014', 'favourites_count': 6361, 'utc_offset': None, 'time_zone': None, 'geo_enabled': True, 'verified': False, 'statuses_count': 15457, 'lang': None, 'contributors_enabled': False, 'is_translator': False, 'is_translation_enabled': False, 'profile_background_color': '000000', 'profile_background_image_url': 'http://abs.twimg.com/images/themes/theme1/bg.png', 'profile_background_image_url_https': 'https://abs.twimg.com/images/themes/theme1/bg.png', 'profile_background_tile': False, 'profile_image_url': 'http://pbs.twimg.com/profile_images/1291234027513421825/4KLr1tF6_normal.jpg', 'profile_image_url_https': 'https://pbs.twimg.com/profile_images/1291234027513421825/4KLr1tF6_normal.jpg', 'profile_banner_url': 'https://pbs.twimg.com/profile_banners/2334791696/1596690273', 'profile_link_color': 'FAB81E', 'profile_sidebar_border_color': '000000', 'profile_sidebar_fill_color': '000000', 'profile_text_color': '000000', 'profile_use_background_image': False, 'has_extended_profile': True, 'default_profile': False, 'default_profile_image': False, 'following': False, 'follow_request_sent': False, 'notifications': False, 'translator_type': 'none'}, 'geo': None, 'coordinates': None, 'place': None, 'contributors': None, 'is_quote_status': False, 'retweet_count': 2, 'favorite_count': 5, 'favorited': False, 'retweeted': False, 'possibly_sensitive': False, 'lang': 'en'}, created_at=datetime.datetime(2020, 11, 22, 13, 44, 13), id=1330507378823888898, id_str='1330507378823888898', full_text='1,655 #covid19 cases reported in #TamilNadu today\\n\\nOf which 489 cases from #Chennai \\n\\n70,139 persons tested, 2,010 patients discharged, 19 deaths reported today\\n\\nTotal: 7,69,995 #coronavirus cases, 7,45,848 discharged, 11,605 deaths\\n\\n#TNCoronaUpdates #coronavirus #COVID https://t.co/FplPH2AfpW', truncated=False, display_text_range=[0, 270], entities={'hashtags': [{'text': 'covid19', 'indices': [6, 14]}, {'text': 'TamilNadu', 'indices': [33, 43]}, {'text': 'Chennai', 'indices': [75, 83]}, {'text': 'coronavirus', 'indices': [178, 190]}, {'text': 'TNCoronaUpdates', 'indices': [234, 250]}, {'text': 'coronavirus', 'indices': [251, 263]}, {'text': 'COVID', 'indices': [264, 270]}], 'symbols': [], 'user_mentions': [], 'urls': [], 'media': [{'id': 1330507360381661196, 'id_str': '1330507360381661196', 'indices': [271, 294], 'media_url': 'http://pbs.twimg.com/media/EnbpZRqXcAwtIqk.jpg', 'media_url_https': 'https://pbs.twimg.com/media/EnbpZRqXcAwtIqk.jpg', 'url': 'https://t.co/FplPH2AfpW', 'display_url': 'pic.twitter.com/FplPH2AfpW', 'expanded_url': 'https://twitter.com/smitha_tk/status/1330507378823888898/photo/1', 'type': 'photo', 'sizes': {'small': {'w': 663, 'h': 680, 'resize': 'fit'}, 'thumb': {'w': 150, 'h': 150, 'resize': 'crop'}, 'large': {'w': 1080, 'h': 1108, 'resize': 'fit'}, 'medium': {'w': 1080, 'h': 1108, 'resize': 'fit'}}}]}, extended_entities={'media': [{'id': 1330507360381661196, 'id_str': '1330507360381661196', 'indices': [271, 294], 'media_url': 'http://pbs.twimg.com/media/EnbpZRqXcAwtIqk.jpg', 'media_url_https': 'https://pbs.twimg.com/media/EnbpZRqXcAwtIqk.jpg', 'url': 'https://t.co/FplPH2AfpW', 'display_url': 'pic.twitter.com/FplPH2AfpW', 'expanded_url': 'https://twitter.com/smitha_tk/status/1330507378823888898/photo/1', 'type': 'photo', 'sizes': {'small': {'w': 663, 'h': 680, 'resize': 'fit'}, 'thumb': {'w': 150, 'h': 150, 'resize': 'crop'}, 'large': {'w': 1080, 'h': 1108, 'resize': 'fit'}, 'medium': {'w': 1080, 'h': 1108, 'resize': 'fit'}}}, {'id': 1330507369588133888, 'id_str': '1330507369588133888', 'indices': [271, 294], 'media_url': 'http://pbs.twimg.com/media/EnbpZz9XEAAnX2E.jpg', 'media_url_https': 'https://pbs.twimg.com/media/EnbpZz9XEAAnX2E.jpg', 'url': 'https://t.co/FplPH2AfpW', 'display_url': 'pic.twitter.com/FplPH2AfpW', 'expanded_url': 'https://twitter.com/smitha_tk/status/1330507378823888898/photo/1', 'type': 'photo', 'sizes': {'thumb': {'w': 150, 'h': 150, 'resize': 'crop'}, 'medium': {'w': 1080, 'h': 582, 'resize': 'fit'}, 'large': {'w': 1080, 'h': 582, 'resize': 'fit'}, 'small': {'w': 680, 'h': 366, 'resize': 'fit'}}}, {'id': 1330507376106102786, 'id_str': '1330507376106102786', 'indices': [271, 294], 'media_url': 'http://pbs.twimg.com/media/EnbpaMPXYAIvdOR.jpg', 'media_url_https': 'https://pbs.twimg.com/media/EnbpaMPXYAIvdOR.jpg', 'url': 'https://t.co/FplPH2AfpW', 'display_url': 'pic.twitter.com/FplPH2AfpW', 'expanded_url': 'https://twitter.com/smitha_tk/status/1330507378823888898/photo/1', 'type': 'photo', 'sizes': {'thumb': {'w': 150, 'h': 150, 'resize': 'crop'}, 'medium': {'w': 1015, 'h': 1200, 'resize': 'fit'}, 'small': {'w': 575, 'h': 680, 'resize': 'fit'}, 'large': {'w': 1080, 'h': 1277, 'resize': 'fit'}}}]}, metadata={'iso_language_code': 'en', 'result_type': 'recent'}, source='Twitter for Android', source_url='http://twitter.com/download/android', in_reply_to_status_id=None, in_reply_to_status_id_str=None, in_reply_to_user_id=None, in_reply_to_user_id_str=None, in_reply_to_screen_name=None, author=User(_api=<tweepy.api.API object at 0x000001D507EF6848>, _json={'id': 2334791696, 'id_str': '2334791696', 'name': 'Smitha  T K', 'screen_name': 'smitha_tk', 'location': 'Chennai, India', 'description': 'Senior Correspondent at The Quint | Former NDTV Prime/ NDTV 24x7 & Hindustan Times | Theatre | Food | ACJ Alumna\\nAll views are personal.', 'url': 'https://t.co/VxC9Pw6slo', 'entities': {'url': {'urls': [{'url': 'https://t.co/VxC9Pw6slo', 'expanded_url': 'https://www.thequint.com/author/322435/smitha-tk', 'display_url': 'thequint.com/author/322435/…', 'indices': [0, 23]}]}, 'description': {'urls': []}}, 'protected': False, 'followers_count': 12450, 'friends_count': 1423, 'listed_count': 68, 'created_at': 'Sun Feb 09 08:47:20 +0000 2014', 'favourites_count': 6361, 'utc_offset': None, 'time_zone': None, 'geo_enabled': True, 'verified': False, 'statuses_count': 15457, 'lang': None, 'contributors_enabled': False, 'is_translator': False, 'is_translation_enabled': False, 'profile_background_color': '000000', 'profile_background_image_url': 'http://abs.twimg.com/images/themes/theme1/bg.png', 'profile_background_image_url_https': 'https://abs.twimg.com/images/themes/theme1/bg.png', 'profile_background_tile': False, 'profile_image_url': 'http://pbs.twimg.com/profile_images/1291234027513421825/4KLr1tF6_normal.jpg', 'profile_image_url_https': 'https://pbs.twimg.com/profile_images/1291234027513421825/4KLr1tF6_normal.jpg', 'profile_banner_url': 'https://pbs.twimg.com/profile_banners/2334791696/1596690273', 'profile_link_color': 'FAB81E', 'profile_sidebar_border_color': '000000', 'profile_sidebar_fill_color': '000000', 'profile_text_color': '000000', 'profile_use_background_image': False, 'has_extended_profile': True, 'default_profile': False, 'default_profile_image': False, 'following': False, 'follow_request_sent': False, 'notifications': False, 'translator_type': 'none'}, id=2334791696, id_str='2334791696', name='Smitha  T K', screen_name='smitha_tk', location='Chennai, India', description='Senior Correspondent at The Quint | Former NDTV Prime/ NDTV 24x7 & Hindustan Times | Theatre | Food | ACJ Alumna\\nAll views are personal.', url='https://t.co/VxC9Pw6slo', entities={'url': {'urls': [{'url': 'https://t.co/VxC9Pw6slo', 'expanded_url': 'https://www.thequint.com/author/322435/smitha-tk', 'display_url': 'thequint.com/author/322435/…', 'indices': [0, 23]}]}, 'description': {'urls': []}}, protected=False, followers_count=12450, friends_count=1423, listed_count=68, created_at=datetime.datetime(2014, 2, 9, 8, 47, 20), favourites_count=6361, utc_offset=None, time_zone=None, geo_enabled=True, verified=False, statuses_count=15457, lang=None, contributors_enabled=False, is_translator=False, is_translation_enabled=False, profile_background_color='000000', profile_background_image_url='http://abs.twimg.com/images/themes/theme1/bg.png', profile_background_image_url_https='https://abs.twimg.com/images/themes/theme1/bg.png', profile_background_tile=False, profile_image_url='http://pbs.twimg.com/profile_images/1291234027513421825/4KLr1tF6_normal.jpg', profile_image_url_https='https://pbs.twimg.com/profile_images/1291234027513421825/4KLr1tF6_normal.jpg', profile_banner_url='https://pbs.twimg.com/profile_banners/2334791696/1596690273', profile_link_color='FAB81E', profile_sidebar_border_color='000000', profile_sidebar_fill_color='000000', profile_text_color='000000', profile_use_background_image=False, has_extended_profile=True, default_profile=False, default_profile_image=False, following=False, follow_request_sent=False, notifications=False, translator_type='none'), user=User(_api=<tweepy.api.API object at 0x000001D507EF6848>, _json={'id': 2334791696, 'id_str': '2334791696', 'name': 'Smitha  T K', 'screen_name': 'smitha_tk', 'location': 'Chennai, India', 'description': 'Senior Correspondent at The Quint | Former NDTV Prime/ NDTV 24x7 & Hindustan Times | Theatre | Food | ACJ Alumna\\nAll views are personal.', 'url': 'https://t.co/VxC9Pw6slo', 'entities': {'url': {'urls': [{'url': 'https://t.co/VxC9Pw6slo', 'expanded_url': 'https://www.thequint.com/author/322435/smitha-tk', 'display_url': 'thequint.com/author/322435/…', 'indices': [0, 23]}]}, 'description': {'urls': []}}, 'protected': False, 'followers_count': 12450, 'friends_count': 1423, 'listed_count': 68, 'created_at': 'Sun Feb 09 08:47:20 +0000 2014', 'favourites_count': 6361, 'utc_offset': None, 'time_zone': None, 'geo_enabled': True, 'verified': False, 'statuses_count': 15457, 'lang': None, 'contributors_enabled': False, 'is_translator': False, 'is_translation_enabled': False, 'profile_background_color': '000000', 'profile_background_image_url': 'http://abs.twimg.com/images/themes/theme1/bg.png', 'profile_background_image_url_https': 'https://abs.twimg.com/images/themes/theme1/bg.png', 'profile_background_tile': False, 'profile_image_url': 'http://pbs.twimg.com/profile_images/1291234027513421825/4KLr1tF6_normal.jpg', 'profile_image_url_https': 'https://pbs.twimg.com/profile_images/1291234027513421825/4KLr1tF6_normal.jpg', 'profile_banner_url': 'https://pbs.twimg.com/profile_banners/2334791696/1596690273', 'profile_link_color': 'FAB81E', 'profile_sidebar_border_color': '000000', 'profile_sidebar_fill_color': '000000', 'profile_text_color': '000000', 'profile_use_background_image': False, 'has_extended_profile': True, 'default_profile': False, 'default_profile_image': False, 'following': False, 'follow_request_sent': False, 'notifications': False, 'translator_type': 'none'}, id=2334791696, id_str='2334791696', name='Smitha  T K', screen_name='smitha_tk', location='Chennai, India', description='Senior Correspondent at The Quint | Former NDTV Prime/ NDTV 24x7 & Hindustan Times | Theatre | Food | ACJ Alumna\\nAll views are personal.', url='https://t.co/VxC9Pw6slo', entities={'url': {'urls': [{'url': 'https://t.co/VxC9Pw6slo', 'expanded_url': 'https://www.thequint.com/author/322435/smitha-tk', 'display_url': 'thequint.com/author/322435/…', 'indices': [0, 23]}]}, 'description': {'urls': []}}, protected=False, followers_count=12450, friends_count=1423, listed_count=68, created_at=datetime.datetime(2014, 2, 9, 8, 47, 20), favourites_count=6361, utc_offset=None, time_zone=None, geo_enabled=True, verified=False, statuses_count=15457, lang=None, contributors_enabled=False, is_translator=False, is_translation_enabled=False, profile_background_color='000000', profile_background_image_url='http://abs.twimg.com/images/themes/theme1/bg.png', profile_background_image_url_https='https://abs.twimg.com/images/themes/theme1/bg.png', profile_background_tile=False, profile_image_url='http://pbs.twimg.com/profile_images/1291234027513421825/4KLr1tF6_normal.jpg', profile_image_url_https='https://pbs.twimg.com/profile_images/1291234027513421825/4KLr1tF6_normal.jpg', profile_banner_url='https://pbs.twimg.com/profile_banners/2334791696/1596690273', profile_link_color='FAB81E', profile_sidebar_border_color='000000', profile_sidebar_fill_color='000000', profile_text_color='000000', profile_use_background_image=False, has_extended_profile=True, default_profile=False, default_profile_image=False, following=False, follow_request_sent=False, notifications=False, translator_type='none'), geo=None, coordinates=None, place=None, contributors=None, is_quote_status=False, retweet_count=2, favorite_count=5, favorited=False, retweeted=False, possibly_sensitive=False, lang='en') \n",
      "\n",
      ".....................................\n",
      "\n",
      "Status(_api=<tweepy.api.API object at 0x000001D507EF6848>, _json={'created_at': 'Sun Nov 22 13:41:00 +0000 2020', 'id': 1330506571068174350, 'id_str': '1330506571068174350', 'full_text': \"22.11.2020\\n#Covid_19+ve cases perday inTamilNadu continue to hover below 2000:today spiked by1655;inChennai spike is489;other districts- 1159. Total cases in TN rose to769995;Chennai's share 212104(27.5%).Discharged cases is745848(96.0%); fatalities-11605(1.5%)active cases-12532\", 'truncated': False, 'display_text_range': [0, 279], 'entities': {'hashtags': [{'text': 'Covid_19', 'indices': [11, 20]}], 'symbols': [], 'user_mentions': [], 'urls': []}, 'metadata': {'iso_language_code': 'en', 'result_type': 'recent'}, 'source': '<a href=\"http://twitter.com/download/android\" rel=\"nofollow\">Twitter for Android</a>', 'in_reply_to_status_id': None, 'in_reply_to_status_id_str': None, 'in_reply_to_user_id': None, 'in_reply_to_user_id_str': None, 'in_reply_to_screen_name': None, 'user': {'id': 779670312732372993, 'id_str': '779670312732372993', 'name': 'Dr. C. Murukadas', 'screen_name': 'drmurukadas', 'location': 'Chennai, India', 'description': 'Senior Professor of Economics (Rtd.)University of Madras, Chennai;Fr Member:TNBackward Classes Commission.Writer& Orator.Not responsible for content of retweets', 'url': None, 'entities': {'description': {'urls': []}}, 'protected': False, 'followers_count': 519, 'friends_count': 1312, 'listed_count': 3, 'created_at': 'Sat Sep 24 13:14:22 +0000 2016', 'favourites_count': 668, 'utc_offset': None, 'time_zone': None, 'geo_enabled': True, 'verified': False, 'statuses_count': 14965, 'lang': None, 'contributors_enabled': False, 'is_translator': False, 'is_translation_enabled': False, 'profile_background_color': '000000', 'profile_background_image_url': 'http://abs.twimg.com/images/themes/theme1/bg.png', 'profile_background_image_url_https': 'https://abs.twimg.com/images/themes/theme1/bg.png', 'profile_background_tile': False, 'profile_image_url': 'http://pbs.twimg.com/profile_images/959032875231232000/2EvrT8jp_normal.jpg', 'profile_image_url_https': 'https://pbs.twimg.com/profile_images/959032875231232000/2EvrT8jp_normal.jpg', 'profile_link_color': '1B95E0', 'profile_sidebar_border_color': '000000', 'profile_sidebar_fill_color': '000000', 'profile_text_color': '000000', 'profile_use_background_image': False, 'has_extended_profile': True, 'default_profile': False, 'default_profile_image': False, 'following': False, 'follow_request_sent': False, 'notifications': False, 'translator_type': 'none'}, 'geo': None, 'coordinates': None, 'place': {'id': '4ad0fa6d89777d40', 'url': 'https://api.twitter.com/1.1/geo/id/4ad0fa6d89777d40.json', 'place_type': 'city', 'name': 'Egmore Nungambakkam', 'full_name': 'Egmore Nungambakkam, India', 'country_code': 'IN', 'country': 'India', 'contained_within': [], 'bounding_box': {'type': 'Polygon', 'coordinates': [[[80.1851996, 13.0417174], [80.2712123, 13.0417174], [80.2712123, 13.091511], [80.1851996, 13.091511]]]}, 'attributes': {}}, 'contributors': None, 'is_quote_status': False, 'retweet_count': 0, 'favorite_count': 0, 'favorited': False, 'retweeted': False, 'lang': 'en'}, created_at=datetime.datetime(2020, 11, 22, 13, 41), id=1330506571068174350, id_str='1330506571068174350', full_text=\"22.11.2020\\n#Covid_19+ve cases perday inTamilNadu continue to hover below 2000:today spiked by1655;inChennai spike is489;other districts- 1159. Total cases in TN rose to769995;Chennai's share 212104(27.5%).Discharged cases is745848(96.0%); fatalities-11605(1.5%)active cases-12532\", truncated=False, display_text_range=[0, 279], entities={'hashtags': [{'text': 'Covid_19', 'indices': [11, 20]}], 'symbols': [], 'user_mentions': [], 'urls': []}, metadata={'iso_language_code': 'en', 'result_type': 'recent'}, source='Twitter for Android', source_url='http://twitter.com/download/android', in_reply_to_status_id=None, in_reply_to_status_id_str=None, in_reply_to_user_id=None, in_reply_to_user_id_str=None, in_reply_to_screen_name=None, author=User(_api=<tweepy.api.API object at 0x000001D507EF6848>, _json={'id': 779670312732372993, 'id_str': '779670312732372993', 'name': 'Dr. C. Murukadas', 'screen_name': 'drmurukadas', 'location': 'Chennai, India', 'description': 'Senior Professor of Economics (Rtd.)University of Madras, Chennai;Fr Member:TNBackward Classes Commission.Writer& Orator.Not responsible for content of retweets', 'url': None, 'entities': {'description': {'urls': []}}, 'protected': False, 'followers_count': 519, 'friends_count': 1312, 'listed_count': 3, 'created_at': 'Sat Sep 24 13:14:22 +0000 2016', 'favourites_count': 668, 'utc_offset': None, 'time_zone': None, 'geo_enabled': True, 'verified': False, 'statuses_count': 14965, 'lang': None, 'contributors_enabled': False, 'is_translator': False, 'is_translation_enabled': False, 'profile_background_color': '000000', 'profile_background_image_url': 'http://abs.twimg.com/images/themes/theme1/bg.png', 'profile_background_image_url_https': 'https://abs.twimg.com/images/themes/theme1/bg.png', 'profile_background_tile': False, 'profile_image_url': 'http://pbs.twimg.com/profile_images/959032875231232000/2EvrT8jp_normal.jpg', 'profile_image_url_https': 'https://pbs.twimg.com/profile_images/959032875231232000/2EvrT8jp_normal.jpg', 'profile_link_color': '1B95E0', 'profile_sidebar_border_color': '000000', 'profile_sidebar_fill_color': '000000', 'profile_text_color': '000000', 'profile_use_background_image': False, 'has_extended_profile': True, 'default_profile': False, 'default_profile_image': False, 'following': False, 'follow_request_sent': False, 'notifications': False, 'translator_type': 'none'}, id=779670312732372993, id_str='779670312732372993', name='Dr. C. Murukadas', screen_name='drmurukadas', location='Chennai, India', description='Senior Professor of Economics (Rtd.)University of Madras, Chennai;Fr Member:TNBackward Classes Commission.Writer& Orator.Not responsible for content of retweets', url=None, entities={'description': {'urls': []}}, protected=False, followers_count=519, friends_count=1312, listed_count=3, created_at=datetime.datetime(2016, 9, 24, 13, 14, 22), favourites_count=668, utc_offset=None, time_zone=None, geo_enabled=True, verified=False, statuses_count=14965, lang=None, contributors_enabled=False, is_translator=False, is_translation_enabled=False, profile_background_color='000000', profile_background_image_url='http://abs.twimg.com/images/themes/theme1/bg.png', profile_background_image_url_https='https://abs.twimg.com/images/themes/theme1/bg.png', profile_background_tile=False, profile_image_url='http://pbs.twimg.com/profile_images/959032875231232000/2EvrT8jp_normal.jpg', profile_image_url_https='https://pbs.twimg.com/profile_images/959032875231232000/2EvrT8jp_normal.jpg', profile_link_color='1B95E0', profile_sidebar_border_color='000000', profile_sidebar_fill_color='000000', profile_text_color='000000', profile_use_background_image=False, has_extended_profile=True, default_profile=False, default_profile_image=False, following=False, follow_request_sent=False, notifications=False, translator_type='none'), user=User(_api=<tweepy.api.API object at 0x000001D507EF6848>, _json={'id': 779670312732372993, 'id_str': '779670312732372993', 'name': 'Dr. C. Murukadas', 'screen_name': 'drmurukadas', 'location': 'Chennai, India', 'description': 'Senior Professor of Economics (Rtd.)University of Madras, Chennai;Fr Member:TNBackward Classes Commission.Writer& Orator.Not responsible for content of retweets', 'url': None, 'entities': {'description': {'urls': []}}, 'protected': False, 'followers_count': 519, 'friends_count': 1312, 'listed_count': 3, 'created_at': 'Sat Sep 24 13:14:22 +0000 2016', 'favourites_count': 668, 'utc_offset': None, 'time_zone': None, 'geo_enabled': True, 'verified': False, 'statuses_count': 14965, 'lang': None, 'contributors_enabled': False, 'is_translator': False, 'is_translation_enabled': False, 'profile_background_color': '000000', 'profile_background_image_url': 'http://abs.twimg.com/images/themes/theme1/bg.png', 'profile_background_image_url_https': 'https://abs.twimg.com/images/themes/theme1/bg.png', 'profile_background_tile': False, 'profile_image_url': 'http://pbs.twimg.com/profile_images/959032875231232000/2EvrT8jp_normal.jpg', 'profile_image_url_https': 'https://pbs.twimg.com/profile_images/959032875231232000/2EvrT8jp_normal.jpg', 'profile_link_color': '1B95E0', 'profile_sidebar_border_color': '000000', 'profile_sidebar_fill_color': '000000', 'profile_text_color': '000000', 'profile_use_background_image': False, 'has_extended_profile': True, 'default_profile': False, 'default_profile_image': False, 'following': False, 'follow_request_sent': False, 'notifications': False, 'translator_type': 'none'}, id=779670312732372993, id_str='779670312732372993', name='Dr. C. Murukadas', screen_name='drmurukadas', location='Chennai, India', description='Senior Professor of Economics (Rtd.)University of Madras, Chennai;Fr Member:TNBackward Classes Commission.Writer& Orator.Not responsible for content of retweets', url=None, entities={'description': {'urls': []}}, protected=False, followers_count=519, friends_count=1312, listed_count=3, created_at=datetime.datetime(2016, 9, 24, 13, 14, 22), favourites_count=668, utc_offset=None, time_zone=None, geo_enabled=True, verified=False, statuses_count=14965, lang=None, contributors_enabled=False, is_translator=False, is_translation_enabled=False, profile_background_color='000000', profile_background_image_url='http://abs.twimg.com/images/themes/theme1/bg.png', profile_background_image_url_https='https://abs.twimg.com/images/themes/theme1/bg.png', profile_background_tile=False, profile_image_url='http://pbs.twimg.com/profile_images/959032875231232000/2EvrT8jp_normal.jpg', profile_image_url_https='https://pbs.twimg.com/profile_images/959032875231232000/2EvrT8jp_normal.jpg', profile_link_color='1B95E0', profile_sidebar_border_color='000000', profile_sidebar_fill_color='000000', profile_text_color='000000', profile_use_background_image=False, has_extended_profile=True, default_profile=False, default_profile_image=False, following=False, follow_request_sent=False, notifications=False, translator_type='none'), geo=None, coordinates=None, place=Place(_api=<tweepy.api.API object at 0x000001D507EF6848>, id='4ad0fa6d89777d40', url='https://api.twitter.com/1.1/geo/id/4ad0fa6d89777d40.json', place_type='city', name='Egmore Nungambakkam', full_name='Egmore Nungambakkam, India', country_code='IN', country='India', contained_within=[], bounding_box=BoundingBox(_api=<tweepy.api.API object at 0x000001D507EF6848>, type='Polygon', coordinates=[[[80.1851996, 13.0417174], [80.2712123, 13.0417174], [80.2712123, 13.091511], [80.1851996, 13.091511]]]), attributes={}), contributors=None, is_quote_status=False, retweet_count=0, favorite_count=0, favorited=False, retweeted=False, lang='en') \n",
      "\n",
      ".....................................\n",
      "\n",
      "Status(_api=<tweepy.api.API object at 0x000001D507EF6848>, _json={'created_at': 'Sun Nov 22 12:46:49 +0000 2020', 'id': 1330492935515885568, 'id_str': '1330492935515885568', 'full_text': '#Breaking: #CoronaTNUpdate Chennai registers 489 New cases on Nov 22nd! #Coronavirus positive cases in #Chennai Total - 212,014 | #COVID19 \\n\\n#COVID #COVID19India #CoronaVirus #Corona #TNCoronaUpdate #GalattaCares', 'truncated': False, 'display_text_range': [0, 212], 'entities': {'hashtags': [{'text': 'Breaking', 'indices': [0, 9]}, {'text': 'CoronaTNUpdate', 'indices': [11, 26]}, {'text': 'Coronavirus', 'indices': [72, 84]}, {'text': 'Chennai', 'indices': [103, 111]}, {'text': 'COVID19', 'indices': [130, 138]}, {'text': 'COVID', 'indices': [141, 147]}, {'text': 'COVID19India', 'indices': [148, 161]}, {'text': 'CoronaVirus', 'indices': [162, 174]}, {'text': 'Corona', 'indices': [175, 182]}, {'text': 'TNCoronaUpdate', 'indices': [183, 198]}, {'text': 'GalattaCares', 'indices': [199, 212]}], 'symbols': [], 'user_mentions': [], 'urls': []}, 'metadata': {'iso_language_code': 'en', 'result_type': 'recent'}, 'source': '<a href=\"https://mobile.twitter.com\" rel=\"nofollow\">Twitter Web App</a>', 'in_reply_to_status_id': None, 'in_reply_to_status_id_str': None, 'in_reply_to_user_id': None, 'in_reply_to_user_id_str': None, 'in_reply_to_screen_name': None, 'user': {'id': 42896611, 'id_str': '42896611', 'name': 'galattadotcom', 'screen_name': 'galattadotcom', 'location': 'Chennai, India', 'description': 'Serving up authentic, fresh & #Galatta news about Movies, Celebrities, social happenings & lots more. Website link - https://t.co/7vy92zJErV For Queries Contact 7338992111', 'url': 'https://t.co/v4brdWseBH', 'entities': {'url': {'urls': [{'url': 'https://t.co/v4brdWseBH', 'expanded_url': 'https://www.instagram.com/galattadotcom/', 'display_url': 'instagram.com/galattadotcom/', 'indices': [0, 23]}]}, 'description': {'urls': [{'url': 'https://t.co/7vy92zJErV', 'expanded_url': 'http://galatta.com', 'display_url': 'galatta.com', 'indices': [117, 140]}]}}, 'protected': False, 'followers_count': 211613, 'friends_count': 1324, 'listed_count': 134, 'created_at': 'Wed May 27 14:46:57 +0000 2009', 'favourites_count': 4337, 'utc_offset': None, 'time_zone': None, 'geo_enabled': True, 'verified': False, 'statuses_count': 155170, 'lang': None, 'contributors_enabled': False, 'is_translator': False, 'is_translation_enabled': False, 'profile_background_color': '000000', 'profile_background_image_url': 'http://abs.twimg.com/images/themes/theme4/bg.gif', 'profile_background_image_url_https': 'https://abs.twimg.com/images/themes/theme4/bg.gif', 'profile_background_tile': False, 'profile_image_url': 'http://pbs.twimg.com/profile_images/1240903417158987777/LKuIAa7W_normal.jpg', 'profile_image_url_https': 'https://pbs.twimg.com/profile_images/1240903417158987777/LKuIAa7W_normal.jpg', 'profile_banner_url': 'https://pbs.twimg.com/profile_banners/42896611/1597668700', 'profile_link_color': '1B95E0', 'profile_sidebar_border_color': '000000', 'profile_sidebar_fill_color': '000000', 'profile_text_color': '000000', 'profile_use_background_image': False, 'has_extended_profile': False, 'default_profile': False, 'default_profile_image': False, 'following': False, 'follow_request_sent': False, 'notifications': False, 'translator_type': 'none'}, 'geo': None, 'coordinates': None, 'place': None, 'contributors': None, 'is_quote_status': False, 'retweet_count': 0, 'favorite_count': 5, 'favorited': False, 'retweeted': False, 'lang': 'en'}, created_at=datetime.datetime(2020, 11, 22, 12, 46, 49), id=1330492935515885568, id_str='1330492935515885568', full_text='#Breaking: #CoronaTNUpdate Chennai registers 489 New cases on Nov 22nd! #Coronavirus positive cases in #Chennai Total - 212,014 | #COVID19 \\n\\n#COVID #COVID19India #CoronaVirus #Corona #TNCoronaUpdate #GalattaCares', truncated=False, display_text_range=[0, 212], entities={'hashtags': [{'text': 'Breaking', 'indices': [0, 9]}, {'text': 'CoronaTNUpdate', 'indices': [11, 26]}, {'text': 'Coronavirus', 'indices': [72, 84]}, {'text': 'Chennai', 'indices': [103, 111]}, {'text': 'COVID19', 'indices': [130, 138]}, {'text': 'COVID', 'indices': [141, 147]}, {'text': 'COVID19India', 'indices': [148, 161]}, {'text': 'CoronaVirus', 'indices': [162, 174]}, {'text': 'Corona', 'indices': [175, 182]}, {'text': 'TNCoronaUpdate', 'indices': [183, 198]}, {'text': 'GalattaCares', 'indices': [199, 212]}], 'symbols': [], 'user_mentions': [], 'urls': []}, metadata={'iso_language_code': 'en', 'result_type': 'recent'}, source='Twitter Web App', source_url='https://mobile.twitter.com', in_reply_to_status_id=None, in_reply_to_status_id_str=None, in_reply_to_user_id=None, in_reply_to_user_id_str=None, in_reply_to_screen_name=None, author=User(_api=<tweepy.api.API object at 0x000001D507EF6848>, _json={'id': 42896611, 'id_str': '42896611', 'name': 'galattadotcom', 'screen_name': 'galattadotcom', 'location': 'Chennai, India', 'description': 'Serving up authentic, fresh & #Galatta news about Movies, Celebrities, social happenings & lots more. Website link - https://t.co/7vy92zJErV For Queries Contact 7338992111', 'url': 'https://t.co/v4brdWseBH', 'entities': {'url': {'urls': [{'url': 'https://t.co/v4brdWseBH', 'expanded_url': 'https://www.instagram.com/galattadotcom/', 'display_url': 'instagram.com/galattadotcom/', 'indices': [0, 23]}]}, 'description': {'urls': [{'url': 'https://t.co/7vy92zJErV', 'expanded_url': 'http://galatta.com', 'display_url': 'galatta.com', 'indices': [117, 140]}]}}, 'protected': False, 'followers_count': 211613, 'friends_count': 1324, 'listed_count': 134, 'created_at': 'Wed May 27 14:46:57 +0000 2009', 'favourites_count': 4337, 'utc_offset': None, 'time_zone': None, 'geo_enabled': True, 'verified': False, 'statuses_count': 155170, 'lang': None, 'contributors_enabled': False, 'is_translator': False, 'is_translation_enabled': False, 'profile_background_color': '000000', 'profile_background_image_url': 'http://abs.twimg.com/images/themes/theme4/bg.gif', 'profile_background_image_url_https': 'https://abs.twimg.com/images/themes/theme4/bg.gif', 'profile_background_tile': False, 'profile_image_url': 'http://pbs.twimg.com/profile_images/1240903417158987777/LKuIAa7W_normal.jpg', 'profile_image_url_https': 'https://pbs.twimg.com/profile_images/1240903417158987777/LKuIAa7W_normal.jpg', 'profile_banner_url': 'https://pbs.twimg.com/profile_banners/42896611/1597668700', 'profile_link_color': '1B95E0', 'profile_sidebar_border_color': '000000', 'profile_sidebar_fill_color': '000000', 'profile_text_color': '000000', 'profile_use_background_image': False, 'has_extended_profile': False, 'default_profile': False, 'default_profile_image': False, 'following': False, 'follow_request_sent': False, 'notifications': False, 'translator_type': 'none'}, id=42896611, id_str='42896611', name='galattadotcom', screen_name='galattadotcom', location='Chennai, India', description='Serving up authentic, fresh & #Galatta news about Movies, Celebrities, social happenings & lots more. Website link - https://t.co/7vy92zJErV For Queries Contact 7338992111', url='https://t.co/v4brdWseBH', entities={'url': {'urls': [{'url': 'https://t.co/v4brdWseBH', 'expanded_url': 'https://www.instagram.com/galattadotcom/', 'display_url': 'instagram.com/galattadotcom/', 'indices': [0, 23]}]}, 'description': {'urls': [{'url': 'https://t.co/7vy92zJErV', 'expanded_url': 'http://galatta.com', 'display_url': 'galatta.com', 'indices': [117, 140]}]}}, protected=False, followers_count=211613, friends_count=1324, listed_count=134, created_at=datetime.datetime(2009, 5, 27, 14, 46, 57), favourites_count=4337, utc_offset=None, time_zone=None, geo_enabled=True, verified=False, statuses_count=155170, lang=None, contributors_enabled=False, is_translator=False, is_translation_enabled=False, profile_background_color='000000', profile_background_image_url='http://abs.twimg.com/images/themes/theme4/bg.gif', profile_background_image_url_https='https://abs.twimg.com/images/themes/theme4/bg.gif', profile_background_tile=False, profile_image_url='http://pbs.twimg.com/profile_images/1240903417158987777/LKuIAa7W_normal.jpg', profile_image_url_https='https://pbs.twimg.com/profile_images/1240903417158987777/LKuIAa7W_normal.jpg', profile_banner_url='https://pbs.twimg.com/profile_banners/42896611/1597668700', profile_link_color='1B95E0', profile_sidebar_border_color='000000', profile_sidebar_fill_color='000000', profile_text_color='000000', profile_use_background_image=False, has_extended_profile=False, default_profile=False, default_profile_image=False, following=False, follow_request_sent=False, notifications=False, translator_type='none'), user=User(_api=<tweepy.api.API object at 0x000001D507EF6848>, _json={'id': 42896611, 'id_str': '42896611', 'name': 'galattadotcom', 'screen_name': 'galattadotcom', 'location': 'Chennai, India', 'description': 'Serving up authentic, fresh & #Galatta news about Movies, Celebrities, social happenings & lots more. Website link - https://t.co/7vy92zJErV For Queries Contact 7338992111', 'url': 'https://t.co/v4brdWseBH', 'entities': {'url': {'urls': [{'url': 'https://t.co/v4brdWseBH', 'expanded_url': 'https://www.instagram.com/galattadotcom/', 'display_url': 'instagram.com/galattadotcom/', 'indices': [0, 23]}]}, 'description': {'urls': [{'url': 'https://t.co/7vy92zJErV', 'expanded_url': 'http://galatta.com', 'display_url': 'galatta.com', 'indices': [117, 140]}]}}, 'protected': False, 'followers_count': 211613, 'friends_count': 1324, 'listed_count': 134, 'created_at': 'Wed May 27 14:46:57 +0000 2009', 'favourites_count': 4337, 'utc_offset': None, 'time_zone': None, 'geo_enabled': True, 'verified': False, 'statuses_count': 155170, 'lang': None, 'contributors_enabled': False, 'is_translator': False, 'is_translation_enabled': False, 'profile_background_color': '000000', 'profile_background_image_url': 'http://abs.twimg.com/images/themes/theme4/bg.gif', 'profile_background_image_url_https': 'https://abs.twimg.com/images/themes/theme4/bg.gif', 'profile_background_tile': False, 'profile_image_url': 'http://pbs.twimg.com/profile_images/1240903417158987777/LKuIAa7W_normal.jpg', 'profile_image_url_https': 'https://pbs.twimg.com/profile_images/1240903417158987777/LKuIAa7W_normal.jpg', 'profile_banner_url': 'https://pbs.twimg.com/profile_banners/42896611/1597668700', 'profile_link_color': '1B95E0', 'profile_sidebar_border_color': '000000', 'profile_sidebar_fill_color': '000000', 'profile_text_color': '000000', 'profile_use_background_image': False, 'has_extended_profile': False, 'default_profile': False, 'default_profile_image': False, 'following': False, 'follow_request_sent': False, 'notifications': False, 'translator_type': 'none'}, id=42896611, id_str='42896611', name='galattadotcom', screen_name='galattadotcom', location='Chennai, India', description='Serving up authentic, fresh & #Galatta news about Movies, Celebrities, social happenings & lots more. Website link - https://t.co/7vy92zJErV For Queries Contact 7338992111', url='https://t.co/v4brdWseBH', entities={'url': {'urls': [{'url': 'https://t.co/v4brdWseBH', 'expanded_url': 'https://www.instagram.com/galattadotcom/', 'display_url': 'instagram.com/galattadotcom/', 'indices': [0, 23]}]}, 'description': {'urls': [{'url': 'https://t.co/7vy92zJErV', 'expanded_url': 'http://galatta.com', 'display_url': 'galatta.com', 'indices': [117, 140]}]}}, protected=False, followers_count=211613, friends_count=1324, listed_count=134, created_at=datetime.datetime(2009, 5, 27, 14, 46, 57), favourites_count=4337, utc_offset=None, time_zone=None, geo_enabled=True, verified=False, statuses_count=155170, lang=None, contributors_enabled=False, is_translator=False, is_translation_enabled=False, profile_background_color='000000', profile_background_image_url='http://abs.twimg.com/images/themes/theme4/bg.gif', profile_background_image_url_https='https://abs.twimg.com/images/themes/theme4/bg.gif', profile_background_tile=False, profile_image_url='http://pbs.twimg.com/profile_images/1240903417158987777/LKuIAa7W_normal.jpg', profile_image_url_https='https://pbs.twimg.com/profile_images/1240903417158987777/LKuIAa7W_normal.jpg', profile_banner_url='https://pbs.twimg.com/profile_banners/42896611/1597668700', profile_link_color='1B95E0', profile_sidebar_border_color='000000', profile_sidebar_fill_color='000000', profile_text_color='000000', profile_use_background_image=False, has_extended_profile=False, default_profile=False, default_profile_image=False, following=False, follow_request_sent=False, notifications=False, translator_type='none'), geo=None, coordinates=None, place=None, contributors=None, is_quote_status=False, retweet_count=0, favorite_count=5, favorited=False, retweeted=False, lang='en') \n",
      "\n",
      ".....................................\n",
      "\n",
      "Status(_api=<tweepy.api.API object at 0x000001D507EF6848>, _json={'created_at': 'Sun Nov 22 12:41:44 +0000 2020', 'id': 1330491654088736768, 'id_str': '1330491654088736768', 'full_text': 'Today #covid status. #TamilNadu  reports 1655 new cases of covid . 489 cases  in #Chennai. Total number of cases for Chennai rises to 212014, #TNCoronaUpdate https://t.co/Dv2uMLan1s', 'truncated': False, 'display_text_range': [0, 157], 'entities': {'hashtags': [{'text': 'covid', 'indices': [6, 12]}, {'text': 'TamilNadu', 'indices': [21, 31]}, {'text': 'Chennai', 'indices': [81, 89]}, {'text': 'TNCoronaUpdate', 'indices': [142, 157]}], 'symbols': [], 'user_mentions': [], 'urls': [], 'media': [{'id': 1330491644102144000, 'id_str': '1330491644102144000', 'indices': [158, 181], 'media_url': 'http://pbs.twimg.com/media/EnbbGd9VcAAW1gY.jpg', 'media_url_https': 'https://pbs.twimg.com/media/EnbbGd9VcAAW1gY.jpg', 'url': 'https://t.co/Dv2uMLan1s', 'display_url': 'pic.twitter.com/Dv2uMLan1s', 'expanded_url': 'https://twitter.com/RainChennai1/status/1330491654088736768/photo/1', 'type': 'photo', 'sizes': {'thumb': {'w': 150, 'h': 150, 'resize': 'crop'}, 'medium': {'w': 1000, 'h': 1200, 'resize': 'fit'}, 'large': {'w': 1181, 'h': 1417, 'resize': 'fit'}, 'small': {'w': 567, 'h': 680, 'resize': 'fit'}}}]}, 'extended_entities': {'media': [{'id': 1330491644102144000, 'id_str': '1330491644102144000', 'indices': [158, 181], 'media_url': 'http://pbs.twimg.com/media/EnbbGd9VcAAW1gY.jpg', 'media_url_https': 'https://pbs.twimg.com/media/EnbbGd9VcAAW1gY.jpg', 'url': 'https://t.co/Dv2uMLan1s', 'display_url': 'pic.twitter.com/Dv2uMLan1s', 'expanded_url': 'https://twitter.com/RainChennai1/status/1330491654088736768/photo/1', 'type': 'photo', 'sizes': {'thumb': {'w': 150, 'h': 150, 'resize': 'crop'}, 'medium': {'w': 1000, 'h': 1200, 'resize': 'fit'}, 'large': {'w': 1181, 'h': 1417, 'resize': 'fit'}, 'small': {'w': 567, 'h': 680, 'resize': 'fit'}}}]}, 'metadata': {'iso_language_code': 'en', 'result_type': 'recent'}, 'source': '<a href=\"http://twitter.com/download/iphone\" rel=\"nofollow\">Twitter for iPhone</a>', 'in_reply_to_status_id': None, 'in_reply_to_status_id_str': None, 'in_reply_to_user_id': None, 'in_reply_to_user_id_str': None, 'in_reply_to_screen_name': None, 'user': {'id': 1144104203033333763, 'id_str': '1144104203033333763', 'name': 'Rain@Chennai', 'screen_name': 'RainChennai1', 'location': '', 'description': 'Weather enthusiast, Views expressed are personal', 'url': None, 'entities': {'description': {'urls': []}}, 'protected': False, 'followers_count': 44, 'friends_count': 0, 'listed_count': 1, 'created_at': 'Thu Jun 27 04:44:33 +0000 2019', 'favourites_count': 51, 'utc_offset': None, 'time_zone': None, 'geo_enabled': False, 'verified': False, 'statuses_count': 363, 'lang': None, 'contributors_enabled': False, 'is_translator': False, 'is_translation_enabled': False, 'profile_background_color': 'F5F8FA', 'profile_background_image_url': None, 'profile_background_image_url_https': None, 'profile_background_tile': False, 'profile_image_url': 'http://pbs.twimg.com/profile_images/1144104816404131842/ruA12cMm_normal.jpg', 'profile_image_url_https': 'https://pbs.twimg.com/profile_images/1144104816404131842/ruA12cMm_normal.jpg', 'profile_banner_url': 'https://pbs.twimg.com/profile_banners/1144104203033333763/1562116301', 'profile_link_color': '1DA1F2', 'profile_sidebar_border_color': 'C0DEED', 'profile_sidebar_fill_color': 'DDEEF6', 'profile_text_color': '333333', 'profile_use_background_image': True, 'has_extended_profile': False, 'default_profile': True, 'default_profile_image': False, 'following': False, 'follow_request_sent': False, 'notifications': False, 'translator_type': 'none'}, 'geo': None, 'coordinates': None, 'place': None, 'contributors': None, 'is_quote_status': False, 'retweet_count': 1, 'favorite_count': 1, 'favorited': False, 'retweeted': False, 'possibly_sensitive': False, 'lang': 'en'}, created_at=datetime.datetime(2020, 11, 22, 12, 41, 44), id=1330491654088736768, id_str='1330491654088736768', full_text='Today #covid status. #TamilNadu  reports 1655 new cases of covid . 489 cases  in #Chennai. Total number of cases for Chennai rises to 212014, #TNCoronaUpdate https://t.co/Dv2uMLan1s', truncated=False, display_text_range=[0, 157], entities={'hashtags': [{'text': 'covid', 'indices': [6, 12]}, {'text': 'TamilNadu', 'indices': [21, 31]}, {'text': 'Chennai', 'indices': [81, 89]}, {'text': 'TNCoronaUpdate', 'indices': [142, 157]}], 'symbols': [], 'user_mentions': [], 'urls': [], 'media': [{'id': 1330491644102144000, 'id_str': '1330491644102144000', 'indices': [158, 181], 'media_url': 'http://pbs.twimg.com/media/EnbbGd9VcAAW1gY.jpg', 'media_url_https': 'https://pbs.twimg.com/media/EnbbGd9VcAAW1gY.jpg', 'url': 'https://t.co/Dv2uMLan1s', 'display_url': 'pic.twitter.com/Dv2uMLan1s', 'expanded_url': 'https://twitter.com/RainChennai1/status/1330491654088736768/photo/1', 'type': 'photo', 'sizes': {'thumb': {'w': 150, 'h': 150, 'resize': 'crop'}, 'medium': {'w': 1000, 'h': 1200, 'resize': 'fit'}, 'large': {'w': 1181, 'h': 1417, 'resize': 'fit'}, 'small': {'w': 567, 'h': 680, 'resize': 'fit'}}}]}, extended_entities={'media': [{'id': 1330491644102144000, 'id_str': '1330491644102144000', 'indices': [158, 181], 'media_url': 'http://pbs.twimg.com/media/EnbbGd9VcAAW1gY.jpg', 'media_url_https': 'https://pbs.twimg.com/media/EnbbGd9VcAAW1gY.jpg', 'url': 'https://t.co/Dv2uMLan1s', 'display_url': 'pic.twitter.com/Dv2uMLan1s', 'expanded_url': 'https://twitter.com/RainChennai1/status/1330491654088736768/photo/1', 'type': 'photo', 'sizes': {'thumb': {'w': 150, 'h': 150, 'resize': 'crop'}, 'medium': {'w': 1000, 'h': 1200, 'resize': 'fit'}, 'large': {'w': 1181, 'h': 1417, 'resize': 'fit'}, 'small': {'w': 567, 'h': 680, 'resize': 'fit'}}}]}, metadata={'iso_language_code': 'en', 'result_type': 'recent'}, source='Twitter for iPhone', source_url='http://twitter.com/download/iphone', in_reply_to_status_id=None, in_reply_to_status_id_str=None, in_reply_to_user_id=None, in_reply_to_user_id_str=None, in_reply_to_screen_name=None, author=User(_api=<tweepy.api.API object at 0x000001D507EF6848>, _json={'id': 1144104203033333763, 'id_str': '1144104203033333763', 'name': 'Rain@Chennai', 'screen_name': 'RainChennai1', 'location': '', 'description': 'Weather enthusiast, Views expressed are personal', 'url': None, 'entities': {'description': {'urls': []}}, 'protected': False, 'followers_count': 44, 'friends_count': 0, 'listed_count': 1, 'created_at': 'Thu Jun 27 04:44:33 +0000 2019', 'favourites_count': 51, 'utc_offset': None, 'time_zone': None, 'geo_enabled': False, 'verified': False, 'statuses_count': 363, 'lang': None, 'contributors_enabled': False, 'is_translator': False, 'is_translation_enabled': False, 'profile_background_color': 'F5F8FA', 'profile_background_image_url': None, 'profile_background_image_url_https': None, 'profile_background_tile': False, 'profile_image_url': 'http://pbs.twimg.com/profile_images/1144104816404131842/ruA12cMm_normal.jpg', 'profile_image_url_https': 'https://pbs.twimg.com/profile_images/1144104816404131842/ruA12cMm_normal.jpg', 'profile_banner_url': 'https://pbs.twimg.com/profile_banners/1144104203033333763/1562116301', 'profile_link_color': '1DA1F2', 'profile_sidebar_border_color': 'C0DEED', 'profile_sidebar_fill_color': 'DDEEF6', 'profile_text_color': '333333', 'profile_use_background_image': True, 'has_extended_profile': False, 'default_profile': True, 'default_profile_image': False, 'following': False, 'follow_request_sent': False, 'notifications': False, 'translator_type': 'none'}, id=1144104203033333763, id_str='1144104203033333763', name='Rain@Chennai', screen_name='RainChennai1', location='', description='Weather enthusiast, Views expressed are personal', url=None, entities={'description': {'urls': []}}, protected=False, followers_count=44, friends_count=0, listed_count=1, created_at=datetime.datetime(2019, 6, 27, 4, 44, 33), favourites_count=51, utc_offset=None, time_zone=None, geo_enabled=False, verified=False, statuses_count=363, lang=None, contributors_enabled=False, is_translator=False, is_translation_enabled=False, profile_background_color='F5F8FA', profile_background_image_url=None, profile_background_image_url_https=None, profile_background_tile=False, profile_image_url='http://pbs.twimg.com/profile_images/1144104816404131842/ruA12cMm_normal.jpg', profile_image_url_https='https://pbs.twimg.com/profile_images/1144104816404131842/ruA12cMm_normal.jpg', profile_banner_url='https://pbs.twimg.com/profile_banners/1144104203033333763/1562116301', profile_link_color='1DA1F2', profile_sidebar_border_color='C0DEED', profile_sidebar_fill_color='DDEEF6', profile_text_color='333333', profile_use_background_image=True, has_extended_profile=False, default_profile=True, default_profile_image=False, following=False, follow_request_sent=False, notifications=False, translator_type='none'), user=User(_api=<tweepy.api.API object at 0x000001D507EF6848>, _json={'id': 1144104203033333763, 'id_str': '1144104203033333763', 'name': 'Rain@Chennai', 'screen_name': 'RainChennai1', 'location': '', 'description': 'Weather enthusiast, Views expressed are personal', 'url': None, 'entities': {'description': {'urls': []}}, 'protected': False, 'followers_count': 44, 'friends_count': 0, 'listed_count': 1, 'created_at': 'Thu Jun 27 04:44:33 +0000 2019', 'favourites_count': 51, 'utc_offset': None, 'time_zone': None, 'geo_enabled': False, 'verified': False, 'statuses_count': 363, 'lang': None, 'contributors_enabled': False, 'is_translator': False, 'is_translation_enabled': False, 'profile_background_color': 'F5F8FA', 'profile_background_image_url': None, 'profile_background_image_url_https': None, 'profile_background_tile': False, 'profile_image_url': 'http://pbs.twimg.com/profile_images/1144104816404131842/ruA12cMm_normal.jpg', 'profile_image_url_https': 'https://pbs.twimg.com/profile_images/1144104816404131842/ruA12cMm_normal.jpg', 'profile_banner_url': 'https://pbs.twimg.com/profile_banners/1144104203033333763/1562116301', 'profile_link_color': '1DA1F2', 'profile_sidebar_border_color': 'C0DEED', 'profile_sidebar_fill_color': 'DDEEF6', 'profile_text_color': '333333', 'profile_use_background_image': True, 'has_extended_profile': False, 'default_profile': True, 'default_profile_image': False, 'following': False, 'follow_request_sent': False, 'notifications': False, 'translator_type': 'none'}, id=1144104203033333763, id_str='1144104203033333763', name='Rain@Chennai', screen_name='RainChennai1', location='', description='Weather enthusiast, Views expressed are personal', url=None, entities={'description': {'urls': []}}, protected=False, followers_count=44, friends_count=0, listed_count=1, created_at=datetime.datetime(2019, 6, 27, 4, 44, 33), favourites_count=51, utc_offset=None, time_zone=None, geo_enabled=False, verified=False, statuses_count=363, lang=None, contributors_enabled=False, is_translator=False, is_translation_enabled=False, profile_background_color='F5F8FA', profile_background_image_url=None, profile_background_image_url_https=None, profile_background_tile=False, profile_image_url='http://pbs.twimg.com/profile_images/1144104816404131842/ruA12cMm_normal.jpg', profile_image_url_https='https://pbs.twimg.com/profile_images/1144104816404131842/ruA12cMm_normal.jpg', profile_banner_url='https://pbs.twimg.com/profile_banners/1144104203033333763/1562116301', profile_link_color='1DA1F2', profile_sidebar_border_color='C0DEED', profile_sidebar_fill_color='DDEEF6', profile_text_color='333333', profile_use_background_image=True, has_extended_profile=False, default_profile=True, default_profile_image=False, following=False, follow_request_sent=False, notifications=False, translator_type='none'), geo=None, coordinates=None, place=None, contributors=None, is_quote_status=False, retweet_count=1, favorite_count=1, favorited=False, retweeted=False, possibly_sensitive=False, lang='en') \n",
      "\n",
      ".....................................\n",
      "\n",
      "Status(_api=<tweepy.api.API object at 0x000001D507EF6848>, _json={'created_at': 'Sun Nov 22 12:37:47 +0000 2020', 'id': 1330490658839261185, 'id_str': '1330490658839261185', 'full_text': 'Covid updates - Nov 22:\\n\\nActive cases: 12,542\\n\\nNew cases across TN: 1,655\\n\\nNew cases in Chennai:489\\n\\nTotal positives so far: 7,69,995\\n\\nSamples tested: 70,809\\n\\n2,010 Covid patients discharged today; Total: 7,45,848\\n\\nDeaths: 19/ 11,605\\n\\n@xpresstn \\n\\n@NewIndianXpress https://t.co/WZ1G2d4F3u', 'truncated': False, 'display_text_range': [0, 263], 'entities': {'hashtags': [], 'symbols': [], 'user_mentions': [{'screen_name': 'xpresstn', 'name': 'TNIE Tamil Nadu', 'id': 1181906273152843777, 'id_str': '1181906273152843777', 'indices': [235, 244]}, {'screen_name': 'NewIndianXpress', 'name': 'The New Indian Express', 'id': 94761188, 'id_str': '94761188', 'indices': [247, 263]}], 'urls': [], 'media': [{'id': 1330490595182321665, 'id_str': '1330490595182321665', 'indices': [264, 287], 'media_url': 'http://pbs.twimg.com/media/EnbaJabXIAEUven.jpg', 'media_url_https': 'https://pbs.twimg.com/media/EnbaJabXIAEUven.jpg', 'url': 'https://t.co/WZ1G2d4F3u', 'display_url': 'pic.twitter.com/WZ1G2d4F3u', 'expanded_url': 'https://twitter.com/muruga_TNIE/status/1330490658839261185/photo/1', 'type': 'photo', 'sizes': {'thumb': {'w': 150, 'h': 150, 'resize': 'crop'}, 'medium': {'w': 1080, 'h': 1149, 'resize': 'fit'}, 'small': {'w': 639, 'h': 680, 'resize': 'fit'}, 'large': {'w': 1080, 'h': 1149, 'resize': 'fit'}}}]}, 'extended_entities': {'media': [{'id': 1330490595182321665, 'id_str': '1330490595182321665', 'indices': [264, 287], 'media_url': 'http://pbs.twimg.com/media/EnbaJabXIAEUven.jpg', 'media_url_https': 'https://pbs.twimg.com/media/EnbaJabXIAEUven.jpg', 'url': 'https://t.co/WZ1G2d4F3u', 'display_url': 'pic.twitter.com/WZ1G2d4F3u', 'expanded_url': 'https://twitter.com/muruga_TNIE/status/1330490658839261185/photo/1', 'type': 'photo', 'sizes': {'thumb': {'w': 150, 'h': 150, 'resize': 'crop'}, 'medium': {'w': 1080, 'h': 1149, 'resize': 'fit'}, 'small': {'w': 639, 'h': 680, 'resize': 'fit'}, 'large': {'w': 1080, 'h': 1149, 'resize': 'fit'}}}, {'id': 1330490610634031104, 'id_str': '1330490610634031104', 'indices': [264, 287], 'media_url': 'http://pbs.twimg.com/media/EnbaKT_VgAAfnRt.jpg', 'media_url_https': 'https://pbs.twimg.com/media/EnbaKT_VgAAfnRt.jpg', 'url': 'https://t.co/WZ1G2d4F3u', 'display_url': 'pic.twitter.com/WZ1G2d4F3u', 'expanded_url': 'https://twitter.com/muruga_TNIE/status/1330490658839261185/photo/1', 'type': 'photo', 'sizes': {'large': {'w': 1080, 'h': 1152, 'resize': 'fit'}, 'thumb': {'w': 150, 'h': 150, 'resize': 'crop'}, 'medium': {'w': 1080, 'h': 1152, 'resize': 'fit'}, 'small': {'w': 638, 'h': 680, 'resize': 'fit'}}}, {'id': 1330490626740154368, 'id_str': '1330490626740154368', 'indices': [264, 287], 'media_url': 'http://pbs.twimg.com/media/EnbaLP_VcAAvtJI.jpg', 'media_url_https': 'https://pbs.twimg.com/media/EnbaLP_VcAAvtJI.jpg', 'url': 'https://t.co/WZ1G2d4F3u', 'display_url': 'pic.twitter.com/WZ1G2d4F3u', 'expanded_url': 'https://twitter.com/muruga_TNIE/status/1330490658839261185/photo/1', 'type': 'photo', 'sizes': {'large': {'w': 1080, 'h': 1190, 'resize': 'fit'}, 'thumb': {'w': 150, 'h': 150, 'resize': 'crop'}, 'small': {'w': 617, 'h': 680, 'resize': 'fit'}, 'medium': {'w': 1080, 'h': 1190, 'resize': 'fit'}}}, {'id': 1330490644150714371, 'id_str': '1330490644150714371', 'indices': [264, 287], 'media_url': 'http://pbs.twimg.com/media/EnbaMQ2VgAMpUO9.jpg', 'media_url_https': 'https://pbs.twimg.com/media/EnbaMQ2VgAMpUO9.jpg', 'url': 'https://t.co/WZ1G2d4F3u', 'display_url': 'pic.twitter.com/WZ1G2d4F3u', 'expanded_url': 'https://twitter.com/muruga_TNIE/status/1330490658839261185/photo/1', 'type': 'photo', 'sizes': {'thumb': {'w': 150, 'h': 150, 'resize': 'crop'}, 'large': {'w': 1080, 'h': 1161, 'resize': 'fit'}, 'small': {'w': 633, 'h': 680, 'resize': 'fit'}, 'medium': {'w': 1080, 'h': 1161, 'resize': 'fit'}}}]}, 'metadata': {'iso_language_code': 'en', 'result_type': 'recent'}, 'source': '<a href=\"http://twitter.com/download/android\" rel=\"nofollow\">Twitter for Android</a>', 'in_reply_to_status_id': None, 'in_reply_to_status_id_str': None, 'in_reply_to_user_id': None, 'in_reply_to_user_id_str': None, 'in_reply_to_screen_name': None, 'user': {'id': 2904461396, 'id_str': '2904461396', 'name': 'T Muruganandham', 'screen_name': 'muruga_TNIE', 'location': 'Mylapore, Chennai', 'description': 'Associate Editor, New Indian Express in Chennai. Covering Secretariat, Politics.', 'url': None, 'entities': {'description': {'urls': []}}, 'protected': False, 'followers_count': 4778, 'friends_count': 1242, 'listed_count': 47, 'created_at': 'Wed Nov 19 12:12:54 +0000 2014', 'favourites_count': 13843, 'utc_offset': None, 'time_zone': None, 'geo_enabled': True, 'verified': False, 'statuses_count': 18172, 'lang': None, 'contributors_enabled': False, 'is_translator': False, 'is_translation_enabled': False, 'profile_background_color': 'C0DEED', 'profile_background_image_url': 'http://abs.twimg.com/images/themes/theme1/bg.png', 'profile_background_image_url_https': 'https://abs.twimg.com/images/themes/theme1/bg.png', 'profile_background_tile': False, 'profile_image_url': 'http://pbs.twimg.com/profile_images/850331262950703105/bu8Gi4R4_normal.jpg', 'profile_image_url_https': 'https://pbs.twimg.com/profile_images/850331262950703105/bu8Gi4R4_normal.jpg', 'profile_link_color': '1DA1F2', 'profile_sidebar_border_color': 'C0DEED', 'profile_sidebar_fill_color': 'DDEEF6', 'profile_text_color': '333333', 'profile_use_background_image': True, 'has_extended_profile': False, 'default_profile': True, 'default_profile_image': False, 'following': False, 'follow_request_sent': False, 'notifications': False, 'translator_type': 'none'}, 'geo': None, 'coordinates': None, 'place': None, 'contributors': None, 'is_quote_status': False, 'retweet_count': 5, 'favorite_count': 6, 'favorited': False, 'retweeted': False, 'possibly_sensitive': False, 'lang': 'en'}, created_at=datetime.datetime(2020, 11, 22, 12, 37, 47), id=1330490658839261185, id_str='1330490658839261185', full_text='Covid updates - Nov 22:\\n\\nActive cases: 12,542\\n\\nNew cases across TN: 1,655\\n\\nNew cases in Chennai:489\\n\\nTotal positives so far: 7,69,995\\n\\nSamples tested: 70,809\\n\\n2,010 Covid patients discharged today; Total: 7,45,848\\n\\nDeaths: 19/ 11,605\\n\\n@xpresstn \\n\\n@NewIndianXpress https://t.co/WZ1G2d4F3u', truncated=False, display_text_range=[0, 263], entities={'hashtags': [], 'symbols': [], 'user_mentions': [{'screen_name': 'xpresstn', 'name': 'TNIE Tamil Nadu', 'id': 1181906273152843777, 'id_str': '1181906273152843777', 'indices': [235, 244]}, {'screen_name': 'NewIndianXpress', 'name': 'The New Indian Express', 'id': 94761188, 'id_str': '94761188', 'indices': [247, 263]}], 'urls': [], 'media': [{'id': 1330490595182321665, 'id_str': '1330490595182321665', 'indices': [264, 287], 'media_url': 'http://pbs.twimg.com/media/EnbaJabXIAEUven.jpg', 'media_url_https': 'https://pbs.twimg.com/media/EnbaJabXIAEUven.jpg', 'url': 'https://t.co/WZ1G2d4F3u', 'display_url': 'pic.twitter.com/WZ1G2d4F3u', 'expanded_url': 'https://twitter.com/muruga_TNIE/status/1330490658839261185/photo/1', 'type': 'photo', 'sizes': {'thumb': {'w': 150, 'h': 150, 'resize': 'crop'}, 'medium': {'w': 1080, 'h': 1149, 'resize': 'fit'}, 'small': {'w': 639, 'h': 680, 'resize': 'fit'}, 'large': {'w': 1080, 'h': 1149, 'resize': 'fit'}}}]}, extended_entities={'media': [{'id': 1330490595182321665, 'id_str': '1330490595182321665', 'indices': [264, 287], 'media_url': 'http://pbs.twimg.com/media/EnbaJabXIAEUven.jpg', 'media_url_https': 'https://pbs.twimg.com/media/EnbaJabXIAEUven.jpg', 'url': 'https://t.co/WZ1G2d4F3u', 'display_url': 'pic.twitter.com/WZ1G2d4F3u', 'expanded_url': 'https://twitter.com/muruga_TNIE/status/1330490658839261185/photo/1', 'type': 'photo', 'sizes': {'thumb': {'w': 150, 'h': 150, 'resize': 'crop'}, 'medium': {'w': 1080, 'h': 1149, 'resize': 'fit'}, 'small': {'w': 639, 'h': 680, 'resize': 'fit'}, 'large': {'w': 1080, 'h': 1149, 'resize': 'fit'}}}, {'id': 1330490610634031104, 'id_str': '1330490610634031104', 'indices': [264, 287], 'media_url': 'http://pbs.twimg.com/media/EnbaKT_VgAAfnRt.jpg', 'media_url_https': 'https://pbs.twimg.com/media/EnbaKT_VgAAfnRt.jpg', 'url': 'https://t.co/WZ1G2d4F3u', 'display_url': 'pic.twitter.com/WZ1G2d4F3u', 'expanded_url': 'https://twitter.com/muruga_TNIE/status/1330490658839261185/photo/1', 'type': 'photo', 'sizes': {'large': {'w': 1080, 'h': 1152, 'resize': 'fit'}, 'thumb': {'w': 150, 'h': 150, 'resize': 'crop'}, 'medium': {'w': 1080, 'h': 1152, 'resize': 'fit'}, 'small': {'w': 638, 'h': 680, 'resize': 'fit'}}}, {'id': 1330490626740154368, 'id_str': '1330490626740154368', 'indices': [264, 287], 'media_url': 'http://pbs.twimg.com/media/EnbaLP_VcAAvtJI.jpg', 'media_url_https': 'https://pbs.twimg.com/media/EnbaLP_VcAAvtJI.jpg', 'url': 'https://t.co/WZ1G2d4F3u', 'display_url': 'pic.twitter.com/WZ1G2d4F3u', 'expanded_url': 'https://twitter.com/muruga_TNIE/status/1330490658839261185/photo/1', 'type': 'photo', 'sizes': {'large': {'w': 1080, 'h': 1190, 'resize': 'fit'}, 'thumb': {'w': 150, 'h': 150, 'resize': 'crop'}, 'small': {'w': 617, 'h': 680, 'resize': 'fit'}, 'medium': {'w': 1080, 'h': 1190, 'resize': 'fit'}}}, {'id': 1330490644150714371, 'id_str': '1330490644150714371', 'indices': [264, 287], 'media_url': 'http://pbs.twimg.com/media/EnbaMQ2VgAMpUO9.jpg', 'media_url_https': 'https://pbs.twimg.com/media/EnbaMQ2VgAMpUO9.jpg', 'url': 'https://t.co/WZ1G2d4F3u', 'display_url': 'pic.twitter.com/WZ1G2d4F3u', 'expanded_url': 'https://twitter.com/muruga_TNIE/status/1330490658839261185/photo/1', 'type': 'photo', 'sizes': {'thumb': {'w': 150, 'h': 150, 'resize': 'crop'}, 'large': {'w': 1080, 'h': 1161, 'resize': 'fit'}, 'small': {'w': 633, 'h': 680, 'resize': 'fit'}, 'medium': {'w': 1080, 'h': 1161, 'resize': 'fit'}}}]}, metadata={'iso_language_code': 'en', 'result_type': 'recent'}, source='Twitter for Android', source_url='http://twitter.com/download/android', in_reply_to_status_id=None, in_reply_to_status_id_str=None, in_reply_to_user_id=None, in_reply_to_user_id_str=None, in_reply_to_screen_name=None, author=User(_api=<tweepy.api.API object at 0x000001D507EF6848>, _json={'id': 2904461396, 'id_str': '2904461396', 'name': 'T Muruganandham', 'screen_name': 'muruga_TNIE', 'location': 'Mylapore, Chennai', 'description': 'Associate Editor, New Indian Express in Chennai. Covering Secretariat, Politics.', 'url': None, 'entities': {'description': {'urls': []}}, 'protected': False, 'followers_count': 4778, 'friends_count': 1242, 'listed_count': 47, 'created_at': 'Wed Nov 19 12:12:54 +0000 2014', 'favourites_count': 13843, 'utc_offset': None, 'time_zone': None, 'geo_enabled': True, 'verified': False, 'statuses_count': 18172, 'lang': None, 'contributors_enabled': False, 'is_translator': False, 'is_translation_enabled': False, 'profile_background_color': 'C0DEED', 'profile_background_image_url': 'http://abs.twimg.com/images/themes/theme1/bg.png', 'profile_background_image_url_https': 'https://abs.twimg.com/images/themes/theme1/bg.png', 'profile_background_tile': False, 'profile_image_url': 'http://pbs.twimg.com/profile_images/850331262950703105/bu8Gi4R4_normal.jpg', 'profile_image_url_https': 'https://pbs.twimg.com/profile_images/850331262950703105/bu8Gi4R4_normal.jpg', 'profile_link_color': '1DA1F2', 'profile_sidebar_border_color': 'C0DEED', 'profile_sidebar_fill_color': 'DDEEF6', 'profile_text_color': '333333', 'profile_use_background_image': True, 'has_extended_profile': False, 'default_profile': True, 'default_profile_image': False, 'following': False, 'follow_request_sent': False, 'notifications': False, 'translator_type': 'none'}, id=2904461396, id_str='2904461396', name='T Muruganandham', screen_name='muruga_TNIE', location='Mylapore, Chennai', description='Associate Editor, New Indian Express in Chennai. Covering Secretariat, Politics.', url=None, entities={'description': {'urls': []}}, protected=False, followers_count=4778, friends_count=1242, listed_count=47, created_at=datetime.datetime(2014, 11, 19, 12, 12, 54), favourites_count=13843, utc_offset=None, time_zone=None, geo_enabled=True, verified=False, statuses_count=18172, lang=None, contributors_enabled=False, is_translator=False, is_translation_enabled=False, profile_background_color='C0DEED', profile_background_image_url='http://abs.twimg.com/images/themes/theme1/bg.png', profile_background_image_url_https='https://abs.twimg.com/images/themes/theme1/bg.png', profile_background_tile=False, profile_image_url='http://pbs.twimg.com/profile_images/850331262950703105/bu8Gi4R4_normal.jpg', profile_image_url_https='https://pbs.twimg.com/profile_images/850331262950703105/bu8Gi4R4_normal.jpg', profile_link_color='1DA1F2', profile_sidebar_border_color='C0DEED', profile_sidebar_fill_color='DDEEF6', profile_text_color='333333', profile_use_background_image=True, has_extended_profile=False, default_profile=True, default_profile_image=False, following=False, follow_request_sent=False, notifications=False, translator_type='none'), user=User(_api=<tweepy.api.API object at 0x000001D507EF6848>, _json={'id': 2904461396, 'id_str': '2904461396', 'name': 'T Muruganandham', 'screen_name': 'muruga_TNIE', 'location': 'Mylapore, Chennai', 'description': 'Associate Editor, New Indian Express in Chennai. Covering Secretariat, Politics.', 'url': None, 'entities': {'description': {'urls': []}}, 'protected': False, 'followers_count': 4778, 'friends_count': 1242, 'listed_count': 47, 'created_at': 'Wed Nov 19 12:12:54 +0000 2014', 'favourites_count': 13843, 'utc_offset': None, 'time_zone': None, 'geo_enabled': True, 'verified': False, 'statuses_count': 18172, 'lang': None, 'contributors_enabled': False, 'is_translator': False, 'is_translation_enabled': False, 'profile_background_color': 'C0DEED', 'profile_background_image_url': 'http://abs.twimg.com/images/themes/theme1/bg.png', 'profile_background_image_url_https': 'https://abs.twimg.com/images/themes/theme1/bg.png', 'profile_background_tile': False, 'profile_image_url': 'http://pbs.twimg.com/profile_images/850331262950703105/bu8Gi4R4_normal.jpg', 'profile_image_url_https': 'https://pbs.twimg.com/profile_images/850331262950703105/bu8Gi4R4_normal.jpg', 'profile_link_color': '1DA1F2', 'profile_sidebar_border_color': 'C0DEED', 'profile_sidebar_fill_color': 'DDEEF6', 'profile_text_color': '333333', 'profile_use_background_image': True, 'has_extended_profile': False, 'default_profile': True, 'default_profile_image': False, 'following': False, 'follow_request_sent': False, 'notifications': False, 'translator_type': 'none'}, id=2904461396, id_str='2904461396', name='T Muruganandham', screen_name='muruga_TNIE', location='Mylapore, Chennai', description='Associate Editor, New Indian Express in Chennai. Covering Secretariat, Politics.', url=None, entities={'description': {'urls': []}}, protected=False, followers_count=4778, friends_count=1242, listed_count=47, created_at=datetime.datetime(2014, 11, 19, 12, 12, 54), favourites_count=13843, utc_offset=None, time_zone=None, geo_enabled=True, verified=False, statuses_count=18172, lang=None, contributors_enabled=False, is_translator=False, is_translation_enabled=False, profile_background_color='C0DEED', profile_background_image_url='http://abs.twimg.com/images/themes/theme1/bg.png', profile_background_image_url_https='https://abs.twimg.com/images/themes/theme1/bg.png', profile_background_tile=False, profile_image_url='http://pbs.twimg.com/profile_images/850331262950703105/bu8Gi4R4_normal.jpg', profile_image_url_https='https://pbs.twimg.com/profile_images/850331262950703105/bu8Gi4R4_normal.jpg', profile_link_color='1DA1F2', profile_sidebar_border_color='C0DEED', profile_sidebar_fill_color='DDEEF6', profile_text_color='333333', profile_use_background_image=True, has_extended_profile=False, default_profile=True, default_profile_image=False, following=False, follow_request_sent=False, notifications=False, translator_type='none'), geo=None, coordinates=None, place=None, contributors=None, is_quote_status=False, retweet_count=5, favorite_count=6, favorited=False, retweeted=False, possibly_sensitive=False, lang='en') \n",
      "\n",
      ".....................................\n",
      "\n",
      "Status(_api=<tweepy.api.API object at 0x000001D507EF6848>, _json={'created_at': 'Sun Nov 22 12:09:44 +0000 2020', 'id': 1330483600920252416, 'id_str': '1330483600920252416', 'full_text': \"21.11.2020\\n#Covid_19+ve cases perday inTamilNadu continue to hover below 2000:today spiked by1663;inChennai spike is486;other districts- 1177. Total cases in TN rose to768360;Chennai's share 211570(27.5%).Discharged cases is743838(96.0%); fatalities-11586(1.5%)active cases-12916\", 'truncated': False, 'display_text_range': [0, 279], 'entities': {'hashtags': [{'text': 'Covid_19', 'indices': [11, 20]}], 'symbols': [], 'user_mentions': [], 'urls': []}, 'metadata': {'iso_language_code': 'en', 'result_type': 'recent'}, 'source': '<a href=\"http://twitter.com/download/android\" rel=\"nofollow\">Twitter for Android</a>', 'in_reply_to_status_id': None, 'in_reply_to_status_id_str': None, 'in_reply_to_user_id': None, 'in_reply_to_user_id_str': None, 'in_reply_to_screen_name': None, 'user': {'id': 779670312732372993, 'id_str': '779670312732372993', 'name': 'Dr. C. Murukadas', 'screen_name': 'drmurukadas', 'location': 'Chennai, India', 'description': 'Senior Professor of Economics (Rtd.)University of Madras, Chennai;Fr Member:TNBackward Classes Commission.Writer& Orator.Not responsible for content of retweets', 'url': None, 'entities': {'description': {'urls': []}}, 'protected': False, 'followers_count': 519, 'friends_count': 1312, 'listed_count': 3, 'created_at': 'Sat Sep 24 13:14:22 +0000 2016', 'favourites_count': 668, 'utc_offset': None, 'time_zone': None, 'geo_enabled': True, 'verified': False, 'statuses_count': 14965, 'lang': None, 'contributors_enabled': False, 'is_translator': False, 'is_translation_enabled': False, 'profile_background_color': '000000', 'profile_background_image_url': 'http://abs.twimg.com/images/themes/theme1/bg.png', 'profile_background_image_url_https': 'https://abs.twimg.com/images/themes/theme1/bg.png', 'profile_background_tile': False, 'profile_image_url': 'http://pbs.twimg.com/profile_images/959032875231232000/2EvrT8jp_normal.jpg', 'profile_image_url_https': 'https://pbs.twimg.com/profile_images/959032875231232000/2EvrT8jp_normal.jpg', 'profile_link_color': '1B95E0', 'profile_sidebar_border_color': '000000', 'profile_sidebar_fill_color': '000000', 'profile_text_color': '000000', 'profile_use_background_image': False, 'has_extended_profile': True, 'default_profile': False, 'default_profile_image': False, 'following': False, 'follow_request_sent': False, 'notifications': False, 'translator_type': 'none'}, 'geo': None, 'coordinates': None, 'place': {'id': '4ad0fa6d89777d40', 'url': 'https://api.twitter.com/1.1/geo/id/4ad0fa6d89777d40.json', 'place_type': 'city', 'name': 'Egmore Nungambakkam', 'full_name': 'Egmore Nungambakkam, India', 'country_code': 'IN', 'country': 'India', 'contained_within': [], 'bounding_box': {'type': 'Polygon', 'coordinates': [[[80.1851996, 13.0417174], [80.2712123, 13.0417174], [80.2712123, 13.091511], [80.1851996, 13.091511]]]}, 'attributes': {}}, 'contributors': None, 'is_quote_status': False, 'retweet_count': 0, 'favorite_count': 0, 'favorited': False, 'retweeted': False, 'lang': 'en'}, created_at=datetime.datetime(2020, 11, 22, 12, 9, 44), id=1330483600920252416, id_str='1330483600920252416', full_text=\"21.11.2020\\n#Covid_19+ve cases perday inTamilNadu continue to hover below 2000:today spiked by1663;inChennai spike is486;other districts- 1177. Total cases in TN rose to768360;Chennai's share 211570(27.5%).Discharged cases is743838(96.0%); fatalities-11586(1.5%)active cases-12916\", truncated=False, display_text_range=[0, 279], entities={'hashtags': [{'text': 'Covid_19', 'indices': [11, 20]}], 'symbols': [], 'user_mentions': [], 'urls': []}, metadata={'iso_language_code': 'en', 'result_type': 'recent'}, source='Twitter for Android', source_url='http://twitter.com/download/android', in_reply_to_status_id=None, in_reply_to_status_id_str=None, in_reply_to_user_id=None, in_reply_to_user_id_str=None, in_reply_to_screen_name=None, author=User(_api=<tweepy.api.API object at 0x000001D507EF6848>, _json={'id': 779670312732372993, 'id_str': '779670312732372993', 'name': 'Dr. C. Murukadas', 'screen_name': 'drmurukadas', 'location': 'Chennai, India', 'description': 'Senior Professor of Economics (Rtd.)University of Madras, Chennai;Fr Member:TNBackward Classes Commission.Writer& Orator.Not responsible for content of retweets', 'url': None, 'entities': {'description': {'urls': []}}, 'protected': False, 'followers_count': 519, 'friends_count': 1312, 'listed_count': 3, 'created_at': 'Sat Sep 24 13:14:22 +0000 2016', 'favourites_count': 668, 'utc_offset': None, 'time_zone': None, 'geo_enabled': True, 'verified': False, 'statuses_count': 14965, 'lang': None, 'contributors_enabled': False, 'is_translator': False, 'is_translation_enabled': False, 'profile_background_color': '000000', 'profile_background_image_url': 'http://abs.twimg.com/images/themes/theme1/bg.png', 'profile_background_image_url_https': 'https://abs.twimg.com/images/themes/theme1/bg.png', 'profile_background_tile': False, 'profile_image_url': 'http://pbs.twimg.com/profile_images/959032875231232000/2EvrT8jp_normal.jpg', 'profile_image_url_https': 'https://pbs.twimg.com/profile_images/959032875231232000/2EvrT8jp_normal.jpg', 'profile_link_color': '1B95E0', 'profile_sidebar_border_color': '000000', 'profile_sidebar_fill_color': '000000', 'profile_text_color': '000000', 'profile_use_background_image': False, 'has_extended_profile': True, 'default_profile': False, 'default_profile_image': False, 'following': False, 'follow_request_sent': False, 'notifications': False, 'translator_type': 'none'}, id=779670312732372993, id_str='779670312732372993', name='Dr. C. Murukadas', screen_name='drmurukadas', location='Chennai, India', description='Senior Professor of Economics (Rtd.)University of Madras, Chennai;Fr Member:TNBackward Classes Commission.Writer& Orator.Not responsible for content of retweets', url=None, entities={'description': {'urls': []}}, protected=False, followers_count=519, friends_count=1312, listed_count=3, created_at=datetime.datetime(2016, 9, 24, 13, 14, 22), favourites_count=668, utc_offset=None, time_zone=None, geo_enabled=True, verified=False, statuses_count=14965, lang=None, contributors_enabled=False, is_translator=False, is_translation_enabled=False, profile_background_color='000000', profile_background_image_url='http://abs.twimg.com/images/themes/theme1/bg.png', profile_background_image_url_https='https://abs.twimg.com/images/themes/theme1/bg.png', profile_background_tile=False, profile_image_url='http://pbs.twimg.com/profile_images/959032875231232000/2EvrT8jp_normal.jpg', profile_image_url_https='https://pbs.twimg.com/profile_images/959032875231232000/2EvrT8jp_normal.jpg', profile_link_color='1B95E0', profile_sidebar_border_color='000000', profile_sidebar_fill_color='000000', profile_text_color='000000', profile_use_background_image=False, has_extended_profile=True, default_profile=False, default_profile_image=False, following=False, follow_request_sent=False, notifications=False, translator_type='none'), user=User(_api=<tweepy.api.API object at 0x000001D507EF6848>, _json={'id': 779670312732372993, 'id_str': '779670312732372993', 'name': 'Dr. C. Murukadas', 'screen_name': 'drmurukadas', 'location': 'Chennai, India', 'description': 'Senior Professor of Economics (Rtd.)University of Madras, Chennai;Fr Member:TNBackward Classes Commission.Writer& Orator.Not responsible for content of retweets', 'url': None, 'entities': {'description': {'urls': []}}, 'protected': False, 'followers_count': 519, 'friends_count': 1312, 'listed_count': 3, 'created_at': 'Sat Sep 24 13:14:22 +0000 2016', 'favourites_count': 668, 'utc_offset': None, 'time_zone': None, 'geo_enabled': True, 'verified': False, 'statuses_count': 14965, 'lang': None, 'contributors_enabled': False, 'is_translator': False, 'is_translation_enabled': False, 'profile_background_color': '000000', 'profile_background_image_url': 'http://abs.twimg.com/images/themes/theme1/bg.png', 'profile_background_image_url_https': 'https://abs.twimg.com/images/themes/theme1/bg.png', 'profile_background_tile': False, 'profile_image_url': 'http://pbs.twimg.com/profile_images/959032875231232000/2EvrT8jp_normal.jpg', 'profile_image_url_https': 'https://pbs.twimg.com/profile_images/959032875231232000/2EvrT8jp_normal.jpg', 'profile_link_color': '1B95E0', 'profile_sidebar_border_color': '000000', 'profile_sidebar_fill_color': '000000', 'profile_text_color': '000000', 'profile_use_background_image': False, 'has_extended_profile': True, 'default_profile': False, 'default_profile_image': False, 'following': False, 'follow_request_sent': False, 'notifications': False, 'translator_type': 'none'}, id=779670312732372993, id_str='779670312732372993', name='Dr. C. Murukadas', screen_name='drmurukadas', location='Chennai, India', description='Senior Professor of Economics (Rtd.)University of Madras, Chennai;Fr Member:TNBackward Classes Commission.Writer& Orator.Not responsible for content of retweets', url=None, entities={'description': {'urls': []}}, protected=False, followers_count=519, friends_count=1312, listed_count=3, created_at=datetime.datetime(2016, 9, 24, 13, 14, 22), favourites_count=668, utc_offset=None, time_zone=None, geo_enabled=True, verified=False, statuses_count=14965, lang=None, contributors_enabled=False, is_translator=False, is_translation_enabled=False, profile_background_color='000000', profile_background_image_url='http://abs.twimg.com/images/themes/theme1/bg.png', profile_background_image_url_https='https://abs.twimg.com/images/themes/theme1/bg.png', profile_background_tile=False, profile_image_url='http://pbs.twimg.com/profile_images/959032875231232000/2EvrT8jp_normal.jpg', profile_image_url_https='https://pbs.twimg.com/profile_images/959032875231232000/2EvrT8jp_normal.jpg', profile_link_color='1B95E0', profile_sidebar_border_color='000000', profile_sidebar_fill_color='000000', profile_text_color='000000', profile_use_background_image=False, has_extended_profile=True, default_profile=False, default_profile_image=False, following=False, follow_request_sent=False, notifications=False, translator_type='none'), geo=None, coordinates=None, place=Place(_api=<tweepy.api.API object at 0x000001D507EF6848>, id='4ad0fa6d89777d40', url='https://api.twitter.com/1.1/geo/id/4ad0fa6d89777d40.json', place_type='city', name='Egmore Nungambakkam', full_name='Egmore Nungambakkam, India', country_code='IN', country='India', contained_within=[], bounding_box=BoundingBox(_api=<tweepy.api.API object at 0x000001D507EF6848>, type='Polygon', coordinates=[[[80.1851996, 13.0417174], [80.2712123, 13.0417174], [80.2712123, 13.091511], [80.1851996, 13.091511]]]), attributes={}), contributors=None, is_quote_status=False, retweet_count=0, favorite_count=0, favorited=False, retweeted=False, lang='en') \n",
      "\n",
      ".....................................\n",
      "\n",
      "Status(_api=<tweepy.api.API object at 0x000001D507EF6848>, _json={'created_at': 'Sun Nov 22 04:15:02 +0000 2020', 'id': 1330364139487825920, 'id_str': '1330364139487825920', 'full_text': 'Overall zone-wise detailed status of COVID-19 cases in #Chennai.\\n\\n#Covid19Chennai \\n#GCC \\n#ChennaiCorporation https://t.co/cI92wmGxhw', 'truncated': False, 'display_text_range': [0, 108], 'entities': {'hashtags': [{'text': 'Chennai', 'indices': [55, 63]}, {'text': 'Covid19Chennai', 'indices': [66, 81]}, {'text': 'GCC', 'indices': [83, 87]}, {'text': 'ChennaiCorporation', 'indices': [89, 108]}], 'symbols': [], 'user_mentions': [], 'urls': [], 'media': [{'id': 1330364137386467329, 'id_str': '1330364137386467329', 'indices': [109, 132], 'media_url': 'http://pbs.twimg.com/media/EnZnImbW4AEYT8s.jpg', 'media_url_https': 'https://pbs.twimg.com/media/EnZnImbW4AEYT8s.jpg', 'url': 'https://t.co/cI92wmGxhw', 'display_url': 'pic.twitter.com/cI92wmGxhw', 'expanded_url': 'https://twitter.com/chennaicorp/status/1330364139487825920/photo/1', 'type': 'photo', 'sizes': {'large': {'w': 2048, 'h': 1536, 'resize': 'fit'}, 'thumb': {'w': 150, 'h': 150, 'resize': 'crop'}, 'small': {'w': 680, 'h': 510, 'resize': 'fit'}, 'medium': {'w': 1200, 'h': 900, 'resize': 'fit'}}}]}, 'extended_entities': {'media': [{'id': 1330364137386467329, 'id_str': '1330364137386467329', 'indices': [109, 132], 'media_url': 'http://pbs.twimg.com/media/EnZnImbW4AEYT8s.jpg', 'media_url_https': 'https://pbs.twimg.com/media/EnZnImbW4AEYT8s.jpg', 'url': 'https://t.co/cI92wmGxhw', 'display_url': 'pic.twitter.com/cI92wmGxhw', 'expanded_url': 'https://twitter.com/chennaicorp/status/1330364139487825920/photo/1', 'type': 'photo', 'sizes': {'large': {'w': 2048, 'h': 1536, 'resize': 'fit'}, 'thumb': {'w': 150, 'h': 150, 'resize': 'crop'}, 'small': {'w': 680, 'h': 510, 'resize': 'fit'}, 'medium': {'w': 1200, 'h': 900, 'resize': 'fit'}}}]}, 'metadata': {'iso_language_code': 'en', 'result_type': 'recent'}, 'source': '<a href=\"https://www.hootsuite.com\" rel=\"nofollow\">Hootsuite Inc.</a>', 'in_reply_to_status_id': None, 'in_reply_to_status_id_str': None, 'in_reply_to_user_id': None, 'in_reply_to_user_id_str': None, 'in_reply_to_screen_name': None, 'user': {'id': 82821040, 'id_str': '82821040', 'name': 'Greater Chennai Corporation', 'screen_name': 'chennaicorp', 'location': 'Chennai, Tamilnadu', 'description': 'Official Twitter Page of Greater Chennai Corporation.\\n\\nYou can also follow us in Telegram https://t.co/h1QJOoXDgG', 'url': 'https://t.co/HUXzy71YuD', 'entities': {'url': {'urls': [{'url': 'https://t.co/HUXzy71YuD', 'expanded_url': 'http://covid19.chennaicorporation.gov.in', 'display_url': 'covid19.chennaicorporation.gov.in', 'indices': [0, 23]}]}, 'description': {'urls': [{'url': 'https://t.co/h1QJOoXDgG', 'expanded_url': 'http://t.me/ChennaiCorp', 'display_url': 't.me/ChennaiCorp', 'indices': [90, 113]}]}}, 'protected': False, 'followers_count': 113474, 'friends_count': 42, 'listed_count': 154, 'created_at': 'Fri Oct 16 07:08:49 +0000 2009', 'favourites_count': 515, 'utc_offset': None, 'time_zone': None, 'geo_enabled': True, 'verified': True, 'statuses_count': 4190, 'lang': None, 'contributors_enabled': False, 'is_translator': False, 'is_translation_enabled': False, 'profile_background_color': 'EBEBEB', 'profile_background_image_url': 'http://abs.twimg.com/images/themes/theme1/bg.png', 'profile_background_image_url_https': 'https://abs.twimg.com/images/themes/theme1/bg.png', 'profile_background_tile': False, 'profile_image_url': 'http://pbs.twimg.com/profile_images/1243477767913484288/CLgpI-PM_normal.jpg', 'profile_image_url_https': 'https://pbs.twimg.com/profile_images/1243477767913484288/CLgpI-PM_normal.jpg', 'profile_banner_url': 'https://pbs.twimg.com/profile_banners/82821040/1585309512', 'profile_link_color': '990000', 'profile_sidebar_border_color': 'DFDFDF', 'profile_sidebar_fill_color': 'F3F3F3', 'profile_text_color': '333333', 'profile_use_background_image': True, 'has_extended_profile': False, 'default_profile': False, 'default_profile_image': False, 'following': False, 'follow_request_sent': False, 'notifications': False, 'translator_type': 'none'}, 'geo': None, 'coordinates': None, 'place': None, 'contributors': None, 'is_quote_status': False, 'retweet_count': 3, 'favorite_count': 14, 'favorited': False, 'retweeted': False, 'possibly_sensitive': False, 'lang': 'en'}, created_at=datetime.datetime(2020, 11, 22, 4, 15, 2), id=1330364139487825920, id_str='1330364139487825920', full_text='Overall zone-wise detailed status of COVID-19 cases in #Chennai.\\n\\n#Covid19Chennai \\n#GCC \\n#ChennaiCorporation https://t.co/cI92wmGxhw', truncated=False, display_text_range=[0, 108], entities={'hashtags': [{'text': 'Chennai', 'indices': [55, 63]}, {'text': 'Covid19Chennai', 'indices': [66, 81]}, {'text': 'GCC', 'indices': [83, 87]}, {'text': 'ChennaiCorporation', 'indices': [89, 108]}], 'symbols': [], 'user_mentions': [], 'urls': [], 'media': [{'id': 1330364137386467329, 'id_str': '1330364137386467329', 'indices': [109, 132], 'media_url': 'http://pbs.twimg.com/media/EnZnImbW4AEYT8s.jpg', 'media_url_https': 'https://pbs.twimg.com/media/EnZnImbW4AEYT8s.jpg', 'url': 'https://t.co/cI92wmGxhw', 'display_url': 'pic.twitter.com/cI92wmGxhw', 'expanded_url': 'https://twitter.com/chennaicorp/status/1330364139487825920/photo/1', 'type': 'photo', 'sizes': {'large': {'w': 2048, 'h': 1536, 'resize': 'fit'}, 'thumb': {'w': 150, 'h': 150, 'resize': 'crop'}, 'small': {'w': 680, 'h': 510, 'resize': 'fit'}, 'medium': {'w': 1200, 'h': 900, 'resize': 'fit'}}}]}, extended_entities={'media': [{'id': 1330364137386467329, 'id_str': '1330364137386467329', 'indices': [109, 132], 'media_url': 'http://pbs.twimg.com/media/EnZnImbW4AEYT8s.jpg', 'media_url_https': 'https://pbs.twimg.com/media/EnZnImbW4AEYT8s.jpg', 'url': 'https://t.co/cI92wmGxhw', 'display_url': 'pic.twitter.com/cI92wmGxhw', 'expanded_url': 'https://twitter.com/chennaicorp/status/1330364139487825920/photo/1', 'type': 'photo', 'sizes': {'large': {'w': 2048, 'h': 1536, 'resize': 'fit'}, 'thumb': {'w': 150, 'h': 150, 'resize': 'crop'}, 'small': {'w': 680, 'h': 510, 'resize': 'fit'}, 'medium': {'w': 1200, 'h': 900, 'resize': 'fit'}}}]}, metadata={'iso_language_code': 'en', 'result_type': 'recent'}, source='Hootsuite Inc.', source_url='https://www.hootsuite.com', in_reply_to_status_id=None, in_reply_to_status_id_str=None, in_reply_to_user_id=None, in_reply_to_user_id_str=None, in_reply_to_screen_name=None, author=User(_api=<tweepy.api.API object at 0x000001D507EF6848>, _json={'id': 82821040, 'id_str': '82821040', 'name': 'Greater Chennai Corporation', 'screen_name': 'chennaicorp', 'location': 'Chennai, Tamilnadu', 'description': 'Official Twitter Page of Greater Chennai Corporation.\\n\\nYou can also follow us in Telegram https://t.co/h1QJOoXDgG', 'url': 'https://t.co/HUXzy71YuD', 'entities': {'url': {'urls': [{'url': 'https://t.co/HUXzy71YuD', 'expanded_url': 'http://covid19.chennaicorporation.gov.in', 'display_url': 'covid19.chennaicorporation.gov.in', 'indices': [0, 23]}]}, 'description': {'urls': [{'url': 'https://t.co/h1QJOoXDgG', 'expanded_url': 'http://t.me/ChennaiCorp', 'display_url': 't.me/ChennaiCorp', 'indices': [90, 113]}]}}, 'protected': False, 'followers_count': 113474, 'friends_count': 42, 'listed_count': 154, 'created_at': 'Fri Oct 16 07:08:49 +0000 2009', 'favourites_count': 515, 'utc_offset': None, 'time_zone': None, 'geo_enabled': True, 'verified': True, 'statuses_count': 4190, 'lang': None, 'contributors_enabled': False, 'is_translator': False, 'is_translation_enabled': False, 'profile_background_color': 'EBEBEB', 'profile_background_image_url': 'http://abs.twimg.com/images/themes/theme1/bg.png', 'profile_background_image_url_https': 'https://abs.twimg.com/images/themes/theme1/bg.png', 'profile_background_tile': False, 'profile_image_url': 'http://pbs.twimg.com/profile_images/1243477767913484288/CLgpI-PM_normal.jpg', 'profile_image_url_https': 'https://pbs.twimg.com/profile_images/1243477767913484288/CLgpI-PM_normal.jpg', 'profile_banner_url': 'https://pbs.twimg.com/profile_banners/82821040/1585309512', 'profile_link_color': '990000', 'profile_sidebar_border_color': 'DFDFDF', 'profile_sidebar_fill_color': 'F3F3F3', 'profile_text_color': '333333', 'profile_use_background_image': True, 'has_extended_profile': False, 'default_profile': False, 'default_profile_image': False, 'following': False, 'follow_request_sent': False, 'notifications': False, 'translator_type': 'none'}, id=82821040, id_str='82821040', name='Greater Chennai Corporation', screen_name='chennaicorp', location='Chennai, Tamilnadu', description='Official Twitter Page of Greater Chennai Corporation.\\n\\nYou can also follow us in Telegram https://t.co/h1QJOoXDgG', url='https://t.co/HUXzy71YuD', entities={'url': {'urls': [{'url': 'https://t.co/HUXzy71YuD', 'expanded_url': 'http://covid19.chennaicorporation.gov.in', 'display_url': 'covid19.chennaicorporation.gov.in', 'indices': [0, 23]}]}, 'description': {'urls': [{'url': 'https://t.co/h1QJOoXDgG', 'expanded_url': 'http://t.me/ChennaiCorp', 'display_url': 't.me/ChennaiCorp', 'indices': [90, 113]}]}}, protected=False, followers_count=113474, friends_count=42, listed_count=154, created_at=datetime.datetime(2009, 10, 16, 7, 8, 49), favourites_count=515, utc_offset=None, time_zone=None, geo_enabled=True, verified=True, statuses_count=4190, lang=None, contributors_enabled=False, is_translator=False, is_translation_enabled=False, profile_background_color='EBEBEB', profile_background_image_url='http://abs.twimg.com/images/themes/theme1/bg.png', profile_background_image_url_https='https://abs.twimg.com/images/themes/theme1/bg.png', profile_background_tile=False, profile_image_url='http://pbs.twimg.com/profile_images/1243477767913484288/CLgpI-PM_normal.jpg', profile_image_url_https='https://pbs.twimg.com/profile_images/1243477767913484288/CLgpI-PM_normal.jpg', profile_banner_url='https://pbs.twimg.com/profile_banners/82821040/1585309512', profile_link_color='990000', profile_sidebar_border_color='DFDFDF', profile_sidebar_fill_color='F3F3F3', profile_text_color='333333', profile_use_background_image=True, has_extended_profile=False, default_profile=False, default_profile_image=False, following=False, follow_request_sent=False, notifications=False, translator_type='none'), user=User(_api=<tweepy.api.API object at 0x000001D507EF6848>, _json={'id': 82821040, 'id_str': '82821040', 'name': 'Greater Chennai Corporation', 'screen_name': 'chennaicorp', 'location': 'Chennai, Tamilnadu', 'description': 'Official Twitter Page of Greater Chennai Corporation.\\n\\nYou can also follow us in Telegram https://t.co/h1QJOoXDgG', 'url': 'https://t.co/HUXzy71YuD', 'entities': {'url': {'urls': [{'url': 'https://t.co/HUXzy71YuD', 'expanded_url': 'http://covid19.chennaicorporation.gov.in', 'display_url': 'covid19.chennaicorporation.gov.in', 'indices': [0, 23]}]}, 'description': {'urls': [{'url': 'https://t.co/h1QJOoXDgG', 'expanded_url': 'http://t.me/ChennaiCorp', 'display_url': 't.me/ChennaiCorp', 'indices': [90, 113]}]}}, 'protected': False, 'followers_count': 113474, 'friends_count': 42, 'listed_count': 154, 'created_at': 'Fri Oct 16 07:08:49 +0000 2009', 'favourites_count': 515, 'utc_offset': None, 'time_zone': None, 'geo_enabled': True, 'verified': True, 'statuses_count': 4190, 'lang': None, 'contributors_enabled': False, 'is_translator': False, 'is_translation_enabled': False, 'profile_background_color': 'EBEBEB', 'profile_background_image_url': 'http://abs.twimg.com/images/themes/theme1/bg.png', 'profile_background_image_url_https': 'https://abs.twimg.com/images/themes/theme1/bg.png', 'profile_background_tile': False, 'profile_image_url': 'http://pbs.twimg.com/profile_images/1243477767913484288/CLgpI-PM_normal.jpg', 'profile_image_url_https': 'https://pbs.twimg.com/profile_images/1243477767913484288/CLgpI-PM_normal.jpg', 'profile_banner_url': 'https://pbs.twimg.com/profile_banners/82821040/1585309512', 'profile_link_color': '990000', 'profile_sidebar_border_color': 'DFDFDF', 'profile_sidebar_fill_color': 'F3F3F3', 'profile_text_color': '333333', 'profile_use_background_image': True, 'has_extended_profile': False, 'default_profile': False, 'default_profile_image': False, 'following': False, 'follow_request_sent': False, 'notifications': False, 'translator_type': 'none'}, id=82821040, id_str='82821040', name='Greater Chennai Corporation', screen_name='chennaicorp', location='Chennai, Tamilnadu', description='Official Twitter Page of Greater Chennai Corporation.\\n\\nYou can also follow us in Telegram https://t.co/h1QJOoXDgG', url='https://t.co/HUXzy71YuD', entities={'url': {'urls': [{'url': 'https://t.co/HUXzy71YuD', 'expanded_url': 'http://covid19.chennaicorporation.gov.in', 'display_url': 'covid19.chennaicorporation.gov.in', 'indices': [0, 23]}]}, 'description': {'urls': [{'url': 'https://t.co/h1QJOoXDgG', 'expanded_url': 'http://t.me/ChennaiCorp', 'display_url': 't.me/ChennaiCorp', 'indices': [90, 113]}]}}, protected=False, followers_count=113474, friends_count=42, listed_count=154, created_at=datetime.datetime(2009, 10, 16, 7, 8, 49), favourites_count=515, utc_offset=None, time_zone=None, geo_enabled=True, verified=True, statuses_count=4190, lang=None, contributors_enabled=False, is_translator=False, is_translation_enabled=False, profile_background_color='EBEBEB', profile_background_image_url='http://abs.twimg.com/images/themes/theme1/bg.png', profile_background_image_url_https='https://abs.twimg.com/images/themes/theme1/bg.png', profile_background_tile=False, profile_image_url='http://pbs.twimg.com/profile_images/1243477767913484288/CLgpI-PM_normal.jpg', profile_image_url_https='https://pbs.twimg.com/profile_images/1243477767913484288/CLgpI-PM_normal.jpg', profile_banner_url='https://pbs.twimg.com/profile_banners/82821040/1585309512', profile_link_color='990000', profile_sidebar_border_color='DFDFDF', profile_sidebar_fill_color='F3F3F3', profile_text_color='333333', profile_use_background_image=True, has_extended_profile=False, default_profile=False, default_profile_image=False, following=False, follow_request_sent=False, notifications=False, translator_type='none'), geo=None, coordinates=None, place=None, contributors=None, is_quote_status=False, retweet_count=3, favorite_count=14, favorited=False, retweeted=False, possibly_sensitive=False, lang='en') \n",
      "\n",
      ".....................................\n",
      "\n",
      "Status(_api=<tweepy.api.API object at 0x000001D507EF6848>, _json={'created_at': 'Sun Nov 22 04:00:06 +0000 2020', 'id': 1330360379449503746, 'id_str': '1330360379449503746', 'full_text': 'Tamil Nadu: Passengers from cities with high Covid-19 cases go unmonitored https://t.co/AtVvtFt2xm', 'truncated': False, 'display_text_range': [0, 98], 'entities': {'hashtags': [], 'symbols': [], 'user_mentions': [], 'urls': [{'url': 'https://t.co/AtVvtFt2xm', 'expanded_url': 'http://toi.in/njIRdZ', 'display_url': 'toi.in/njIRdZ', 'indices': [75, 98]}]}, 'metadata': {'iso_language_code': 'en', 'result_type': 'recent'}, 'source': '<a href=\"http://www.toi.in\" rel=\"nofollow\">cmssocialservice</a>', 'in_reply_to_status_id': None, 'in_reply_to_status_id_str': None, 'in_reply_to_user_id': None, 'in_reply_to_user_id_str': None, 'in_reply_to_screen_name': None, 'user': {'id': 31060130, 'id_str': '31060130', 'name': 'TOIChennai', 'screen_name': 'TOIChennai', 'location': '', 'description': 'Your town. Your neighborhood. Your block. Covered for you by http://t.co/EMRRmy2RYy.', 'url': 'http://t.co/VSKi1mCAsZ', 'entities': {'url': {'urls': [{'url': 'http://t.co/VSKi1mCAsZ', 'expanded_url': 'http://timesofindia.com', 'display_url': 'timesofindia.com', 'indices': [0, 22]}]}, 'description': {'urls': [{'url': 'http://t.co/EMRRmy2RYy', 'expanded_url': 'http://Timesofindia.com', 'display_url': 'Timesofindia.com', 'indices': [61, 83]}]}}, 'protected': False, 'followers_count': 26767, 'friends_count': 20, 'listed_count': 197, 'created_at': 'Tue Apr 14 04:45:10 +0000 2009', 'favourites_count': 1, 'utc_offset': None, 'time_zone': None, 'geo_enabled': False, 'verified': True, 'statuses_count': 100101, 'lang': None, 'contributors_enabled': False, 'is_translator': False, 'is_translation_enabled': False, 'profile_background_color': 'C0DEED', 'profile_background_image_url': 'http://abs.twimg.com/images/themes/theme1/bg.png', 'profile_background_image_url_https': 'https://abs.twimg.com/images/themes/theme1/bg.png', 'profile_background_tile': False, 'profile_image_url': 'http://pbs.twimg.com/profile_images/1282405642/icon_512_normal.png', 'profile_image_url_https': 'https://pbs.twimg.com/profile_images/1282405642/icon_512_normal.png', 'profile_banner_url': 'https://pbs.twimg.com/profile_banners/31060130/1480587068', 'profile_link_color': '0084B4', 'profile_sidebar_border_color': 'C0DEED', 'profile_sidebar_fill_color': 'DDEEF6', 'profile_text_color': '333333', 'profile_use_background_image': True, 'has_extended_profile': True, 'default_profile': False, 'default_profile_image': False, 'following': False, 'follow_request_sent': False, 'notifications': False, 'translator_type': 'none'}, 'geo': None, 'coordinates': None, 'place': None, 'contributors': None, 'is_quote_status': False, 'retweet_count': 1, 'favorite_count': 4, 'favorited': False, 'retweeted': False, 'possibly_sensitive': False, 'lang': 'en'}, created_at=datetime.datetime(2020, 11, 22, 4, 0, 6), id=1330360379449503746, id_str='1330360379449503746', full_text='Tamil Nadu: Passengers from cities with high Covid-19 cases go unmonitored https://t.co/AtVvtFt2xm', truncated=False, display_text_range=[0, 98], entities={'hashtags': [], 'symbols': [], 'user_mentions': [], 'urls': [{'url': 'https://t.co/AtVvtFt2xm', 'expanded_url': 'http://toi.in/njIRdZ', 'display_url': 'toi.in/njIRdZ', 'indices': [75, 98]}]}, metadata={'iso_language_code': 'en', 'result_type': 'recent'}, source='cmssocialservice', source_url='http://www.toi.in', in_reply_to_status_id=None, in_reply_to_status_id_str=None, in_reply_to_user_id=None, in_reply_to_user_id_str=None, in_reply_to_screen_name=None, author=User(_api=<tweepy.api.API object at 0x000001D507EF6848>, _json={'id': 31060130, 'id_str': '31060130', 'name': 'TOIChennai', 'screen_name': 'TOIChennai', 'location': '', 'description': 'Your town. Your neighborhood. Your block. Covered for you by http://t.co/EMRRmy2RYy.', 'url': 'http://t.co/VSKi1mCAsZ', 'entities': {'url': {'urls': [{'url': 'http://t.co/VSKi1mCAsZ', 'expanded_url': 'http://timesofindia.com', 'display_url': 'timesofindia.com', 'indices': [0, 22]}]}, 'description': {'urls': [{'url': 'http://t.co/EMRRmy2RYy', 'expanded_url': 'http://Timesofindia.com', 'display_url': 'Timesofindia.com', 'indices': [61, 83]}]}}, 'protected': False, 'followers_count': 26767, 'friends_count': 20, 'listed_count': 197, 'created_at': 'Tue Apr 14 04:45:10 +0000 2009', 'favourites_count': 1, 'utc_offset': None, 'time_zone': None, 'geo_enabled': False, 'verified': True, 'statuses_count': 100101, 'lang': None, 'contributors_enabled': False, 'is_translator': False, 'is_translation_enabled': False, 'profile_background_color': 'C0DEED', 'profile_background_image_url': 'http://abs.twimg.com/images/themes/theme1/bg.png', 'profile_background_image_url_https': 'https://abs.twimg.com/images/themes/theme1/bg.png', 'profile_background_tile': False, 'profile_image_url': 'http://pbs.twimg.com/profile_images/1282405642/icon_512_normal.png', 'profile_image_url_https': 'https://pbs.twimg.com/profile_images/1282405642/icon_512_normal.png', 'profile_banner_url': 'https://pbs.twimg.com/profile_banners/31060130/1480587068', 'profile_link_color': '0084B4', 'profile_sidebar_border_color': 'C0DEED', 'profile_sidebar_fill_color': 'DDEEF6', 'profile_text_color': '333333', 'profile_use_background_image': True, 'has_extended_profile': True, 'default_profile': False, 'default_profile_image': False, 'following': False, 'follow_request_sent': False, 'notifications': False, 'translator_type': 'none'}, id=31060130, id_str='31060130', name='TOIChennai', screen_name='TOIChennai', location='', description='Your town. Your neighborhood. Your block. Covered for you by http://t.co/EMRRmy2RYy.', url='http://t.co/VSKi1mCAsZ', entities={'url': {'urls': [{'url': 'http://t.co/VSKi1mCAsZ', 'expanded_url': 'http://timesofindia.com', 'display_url': 'timesofindia.com', 'indices': [0, 22]}]}, 'description': {'urls': [{'url': 'http://t.co/EMRRmy2RYy', 'expanded_url': 'http://Timesofindia.com', 'display_url': 'Timesofindia.com', 'indices': [61, 83]}]}}, protected=False, followers_count=26767, friends_count=20, listed_count=197, created_at=datetime.datetime(2009, 4, 14, 4, 45, 10), favourites_count=1, utc_offset=None, time_zone=None, geo_enabled=False, verified=True, statuses_count=100101, lang=None, contributors_enabled=False, is_translator=False, is_translation_enabled=False, profile_background_color='C0DEED', profile_background_image_url='http://abs.twimg.com/images/themes/theme1/bg.png', profile_background_image_url_https='https://abs.twimg.com/images/themes/theme1/bg.png', profile_background_tile=False, profile_image_url='http://pbs.twimg.com/profile_images/1282405642/icon_512_normal.png', profile_image_url_https='https://pbs.twimg.com/profile_images/1282405642/icon_512_normal.png', profile_banner_url='https://pbs.twimg.com/profile_banners/31060130/1480587068', profile_link_color='0084B4', profile_sidebar_border_color='C0DEED', profile_sidebar_fill_color='DDEEF6', profile_text_color='333333', profile_use_background_image=True, has_extended_profile=True, default_profile=False, default_profile_image=False, following=False, follow_request_sent=False, notifications=False, translator_type='none'), user=User(_api=<tweepy.api.API object at 0x000001D507EF6848>, _json={'id': 31060130, 'id_str': '31060130', 'name': 'TOIChennai', 'screen_name': 'TOIChennai', 'location': '', 'description': 'Your town. Your neighborhood. Your block. Covered for you by http://t.co/EMRRmy2RYy.', 'url': 'http://t.co/VSKi1mCAsZ', 'entities': {'url': {'urls': [{'url': 'http://t.co/VSKi1mCAsZ', 'expanded_url': 'http://timesofindia.com', 'display_url': 'timesofindia.com', 'indices': [0, 22]}]}, 'description': {'urls': [{'url': 'http://t.co/EMRRmy2RYy', 'expanded_url': 'http://Timesofindia.com', 'display_url': 'Timesofindia.com', 'indices': [61, 83]}]}}, 'protected': False, 'followers_count': 26767, 'friends_count': 20, 'listed_count': 197, 'created_at': 'Tue Apr 14 04:45:10 +0000 2009', 'favourites_count': 1, 'utc_offset': None, 'time_zone': None, 'geo_enabled': False, 'verified': True, 'statuses_count': 100101, 'lang': None, 'contributors_enabled': False, 'is_translator': False, 'is_translation_enabled': False, 'profile_background_color': 'C0DEED', 'profile_background_image_url': 'http://abs.twimg.com/images/themes/theme1/bg.png', 'profile_background_image_url_https': 'https://abs.twimg.com/images/themes/theme1/bg.png', 'profile_background_tile': False, 'profile_image_url': 'http://pbs.twimg.com/profile_images/1282405642/icon_512_normal.png', 'profile_image_url_https': 'https://pbs.twimg.com/profile_images/1282405642/icon_512_normal.png', 'profile_banner_url': 'https://pbs.twimg.com/profile_banners/31060130/1480587068', 'profile_link_color': '0084B4', 'profile_sidebar_border_color': 'C0DEED', 'profile_sidebar_fill_color': 'DDEEF6', 'profile_text_color': '333333', 'profile_use_background_image': True, 'has_extended_profile': True, 'default_profile': False, 'default_profile_image': False, 'following': False, 'follow_request_sent': False, 'notifications': False, 'translator_type': 'none'}, id=31060130, id_str='31060130', name='TOIChennai', screen_name='TOIChennai', location='', description='Your town. Your neighborhood. Your block. Covered for you by http://t.co/EMRRmy2RYy.', url='http://t.co/VSKi1mCAsZ', entities={'url': {'urls': [{'url': 'http://t.co/VSKi1mCAsZ', 'expanded_url': 'http://timesofindia.com', 'display_url': 'timesofindia.com', 'indices': [0, 22]}]}, 'description': {'urls': [{'url': 'http://t.co/EMRRmy2RYy', 'expanded_url': 'http://Timesofindia.com', 'display_url': 'Timesofindia.com', 'indices': [61, 83]}]}}, protected=False, followers_count=26767, friends_count=20, listed_count=197, created_at=datetime.datetime(2009, 4, 14, 4, 45, 10), favourites_count=1, utc_offset=None, time_zone=None, geo_enabled=False, verified=True, statuses_count=100101, lang=None, contributors_enabled=False, is_translator=False, is_translation_enabled=False, profile_background_color='C0DEED', profile_background_image_url='http://abs.twimg.com/images/themes/theme1/bg.png', profile_background_image_url_https='https://abs.twimg.com/images/themes/theme1/bg.png', profile_background_tile=False, profile_image_url='http://pbs.twimg.com/profile_images/1282405642/icon_512_normal.png', profile_image_url_https='https://pbs.twimg.com/profile_images/1282405642/icon_512_normal.png', profile_banner_url='https://pbs.twimg.com/profile_banners/31060130/1480587068', profile_link_color='0084B4', profile_sidebar_border_color='C0DEED', profile_sidebar_fill_color='DDEEF6', profile_text_color='333333', profile_use_background_image=True, has_extended_profile=True, default_profile=False, default_profile_image=False, following=False, follow_request_sent=False, notifications=False, translator_type='none'), geo=None, coordinates=None, place=None, contributors=None, is_quote_status=False, retweet_count=1, favorite_count=4, favorited=False, retweeted=False, possibly_sensitive=False, lang='en') \n",
      "\n",
      ".....................................\n",
      "\n"
     ]
    }
   ],
   "source": [
    "Tweets = api.search( query , count=10 , lang='en' , exclude='retweets' , tweet_mode='extended' )\n",
    "# tweet_mode='extended'\n",
    "# tweet_mode='compat'\n",
    "\n",
    "for tweet in Tweets:\n",
    "    print(tweet,\"\\n\")\n",
    "    print(\".....................................\\n\")"
   ]
  },
  {
   "cell_type": "markdown",
   "metadata": {},
   "source": [
    "## Get the tweets and some Attributes into dataframe"
   ]
  },
  {
   "cell_type": "code",
   "execution_count": 18,
   "metadata": {},
   "outputs": [
    {
     "name": "stdout",
     "output_type": "stream",
     "text": [
      "Empty DataFrame\n",
      "Columns: [Tweets, User, User_statuses_count, user_followers, User_location, User_verified, fav_count, rt_count, tweet_date]\n",
      "Index: []\n"
     ]
    }
   ],
   "source": [
    "df = pd.DataFrame(columns = ['Tweets' , 'User' , 'User_statuses_count' , \n",
    "                            'user_followers' , 'User_location' , 'User_verified' ,\n",
    "                            'fav_count' , 'rt_count' , 'tweet_date'] )\n",
    "print(df)\n",
    "# print(df.shape)"
   ]
  },
  {
   "cell_type": "code",
   "execution_count": 19,
   "metadata": {},
   "outputs": [],
   "source": [
    "def stream(data, file_name):\n",
    "    i = 0\n",
    "    for tweet in tweepy.Cursor(api.search, q=data, count=100, lang='en').items():\n",
    "        print(i, end='\\r')\n",
    "        df.loc[i, 'Tweets'] = tweet.text\n",
    "        df.loc[i, 'User'] = tweet.user.name\n",
    "        df.loc[i, 'User_statuses_count'] = tweet.user.statuses_count\n",
    "        df.loc[i, 'user_followers'] = tweet.user.followers_count\n",
    "        df.loc[i, 'User_location'] = tweet.user.location\n",
    "        df.loc[i, 'User_verified'] = tweet.user.verified\n",
    "        df.loc[i, 'fav_count'] = tweet.favorite_count\n",
    "        df.loc[i, 'rt_count'] = tweet.retweet_count\n",
    "        df.loc[i, 'tweet_date'] = tweet.created_at\n",
    "        df.to_excel('{}.xlsx'.format(file_name))\n",
    "        i = i+1\n",
    "        if i == 1000:\n",
    "            break\n",
    "        else:\n",
    "            pass"
   ]
  },
  {
   "cell_type": "code",
   "execution_count": 20,
   "metadata": {},
   "outputs": [
    {
     "name": "stdout",
     "output_type": "stream",
     "text": [
      "346\r"
     ]
    }
   ],
   "source": [
    "stream(data=[\"covid cases in chennai\"] , file_name='my_tweets')"
   ]
  },
  {
   "cell_type": "code",
   "execution_count": 24,
   "metadata": {},
   "outputs": [
    {
     "data": {
      "text/html": [
       "<div>\n",
       "<style scoped>\n",
       "    .dataframe tbody tr th:only-of-type {\n",
       "        vertical-align: middle;\n",
       "    }\n",
       "\n",
       "    .dataframe tbody tr th {\n",
       "        vertical-align: top;\n",
       "    }\n",
       "\n",
       "    .dataframe thead th {\n",
       "        text-align: right;\n",
       "    }\n",
       "</style>\n",
       "<table border=\"1\" class=\"dataframe\">\n",
       "  <thead>\n",
       "    <tr style=\"text-align: right;\">\n",
       "      <th></th>\n",
       "      <th>Tweets</th>\n",
       "      <th>User</th>\n",
       "      <th>User_statuses_count</th>\n",
       "      <th>user_followers</th>\n",
       "      <th>User_location</th>\n",
       "      <th>User_verified</th>\n",
       "      <th>fav_count</th>\n",
       "      <th>rt_count</th>\n",
       "      <th>tweet_date</th>\n",
       "    </tr>\n",
       "  </thead>\n",
       "  <tbody>\n",
       "    <tr>\n",
       "      <th>0</th>\n",
       "      <td>RT @smitha_tk: #TamilNadu district wise breaku...</td>\n",
       "      <td>Nikhil JP</td>\n",
       "      <td>299</td>\n",
       "      <td>5</td>\n",
       "      <td>Mumbai</td>\n",
       "      <td>False</td>\n",
       "      <td>0</td>\n",
       "      <td>3</td>\n",
       "      <td>2020-11-22 14:06:08</td>\n",
       "    </tr>\n",
       "    <tr>\n",
       "      <th>1</th>\n",
       "      <td>RT @smitha_tk: 1,655 #covid19 cases reported i...</td>\n",
       "      <td>Nikhil JP</td>\n",
       "      <td>299</td>\n",
       "      <td>5</td>\n",
       "      <td>Mumbai</td>\n",
       "      <td>False</td>\n",
       "      <td>0</td>\n",
       "      <td>2</td>\n",
       "      <td>2020-11-22 14:06:05</td>\n",
       "    </tr>\n",
       "    <tr>\n",
       "      <th>2</th>\n",
       "      <td>@EPSTamilNadu @Vijayabaskarofl @narendramodi @...</td>\n",
       "      <td>vasankj1</td>\n",
       "      <td>846</td>\n",
       "      <td>6</td>\n",
       "      <td>India, Chennai</td>\n",
       "      <td>False</td>\n",
       "      <td>0</td>\n",
       "      <td>0</td>\n",
       "      <td>2020-11-22 13:56:54</td>\n",
       "    </tr>\n",
       "    <tr>\n",
       "      <th>3</th>\n",
       "      <td>RT @smitha_tk: 1,655 #covid19 cases reported i...</td>\n",
       "      <td>Ashok M (மூ.அசோக்)</td>\n",
       "      <td>17545</td>\n",
       "      <td>298</td>\n",
       "      <td>chennai, India</td>\n",
       "      <td>False</td>\n",
       "      <td>0</td>\n",
       "      <td>2</td>\n",
       "      <td>2020-11-22 13:48:31</td>\n",
       "    </tr>\n",
       "    <tr>\n",
       "      <th>4</th>\n",
       "      <td>RT @smitha_tk: #TamilNadu district wise breaku...</td>\n",
       "      <td>Ashok M (மூ.அசோக்)</td>\n",
       "      <td>17545</td>\n",
       "      <td>298</td>\n",
       "      <td>chennai, India</td>\n",
       "      <td>False</td>\n",
       "      <td>0</td>\n",
       "      <td>3</td>\n",
       "      <td>2020-11-22 13:48:28</td>\n",
       "    </tr>\n",
       "  </tbody>\n",
       "</table>\n",
       "</div>"
      ],
      "text/plain": [
       "                                              Tweets                User  \\\n",
       "0  RT @smitha_tk: #TamilNadu district wise breaku...           Nikhil JP   \n",
       "1  RT @smitha_tk: 1,655 #covid19 cases reported i...           Nikhil JP   \n",
       "2  @EPSTamilNadu @Vijayabaskarofl @narendramodi @...            vasankj1   \n",
       "3  RT @smitha_tk: 1,655 #covid19 cases reported i...  Ashok M (மூ.அசோக்)   \n",
       "4  RT @smitha_tk: #TamilNadu district wise breaku...  Ashok M (மூ.அசோக்)   \n",
       "\n",
       "  User_statuses_count user_followers    User_location User_verified fav_count  \\\n",
       "0                 299              5           Mumbai         False         0   \n",
       "1                 299              5           Mumbai         False         0   \n",
       "2                 846              6  India, Chennai          False         0   \n",
       "3               17545            298  chennai, India          False         0   \n",
       "4               17545            298  chennai, India          False         0   \n",
       "\n",
       "  rt_count           tweet_date  \n",
       "0        3  2020-11-22 14:06:08  \n",
       "1        2  2020-11-22 14:06:05  \n",
       "2        0  2020-11-22 13:56:54  \n",
       "3        2  2020-11-22 13:48:31  \n",
       "4        3  2020-11-22 13:48:28  "
      ]
     },
     "execution_count": 24,
     "metadata": {},
     "output_type": "execute_result"
    }
   ],
   "source": [
    "df.head()"
   ]
  },
  {
   "cell_type": "code",
   "execution_count": 25,
   "metadata": {},
   "outputs": [
    {
     "data": {
      "text/plain": [
       "(347, 9)"
      ]
     },
     "execution_count": 25,
     "metadata": {},
     "output_type": "execute_result"
    }
   ],
   "source": [
    "df.shape"
   ]
  },
  {
   "cell_type": "markdown",
   "metadata": {},
   "source": [
    "## textblob functions to get Sentiment\n",
    "Sentiment(polarity, subjectivity)\n",
    "\n",
    "Polarity score: [-1 , +1]\n",
    "\n",
    "Subjectivity: [0.0 , 1.0] \n",
    "where 0.0 is very Objective and 1.0 is very Subjective."
   ]
  },
  {
   "cell_type": "code",
   "execution_count": 26,
   "metadata": {},
   "outputs": [],
   "source": [
    "def clean_tweet(tweet):\n",
    "    return ' '.join(re.sub('(@[A-Za-z0-9]+)|([^0-9A-Za-z \\t])|(\\w+:\\/\\/\\S+)', ' ', tweet).split())"
   ]
  },
  {
   "cell_type": "code",
   "execution_count": 27,
   "metadata": {},
   "outputs": [],
   "source": [
    "def analyze_sentiment(tweet):\n",
    "    analysis = TextBlob(tweet)\n",
    "    if analysis.sentiment.polarity > 0:\n",
    "        return 'Positive'\n",
    "    elif analysis.sentiment.polarity == 0:\n",
    "        return 'Neutral'\n",
    "    else:\n",
    "        return 'Negative'"
   ]
  },
  {
   "cell_type": "code",
   "execution_count": 30,
   "metadata": {},
   "outputs": [],
   "source": [
    "df['clean_tweet'] = df['Tweets'].apply(lambda x : clean_tweet(x))"
   ]
  },
  {
   "cell_type": "code",
   "execution_count": 31,
   "metadata": {},
   "outputs": [
    {
     "data": {
      "text/html": [
       "<div>\n",
       "<style scoped>\n",
       "    .dataframe tbody tr th:only-of-type {\n",
       "        vertical-align: middle;\n",
       "    }\n",
       "\n",
       "    .dataframe tbody tr th {\n",
       "        vertical-align: top;\n",
       "    }\n",
       "\n",
       "    .dataframe thead th {\n",
       "        text-align: right;\n",
       "    }\n",
       "</style>\n",
       "<table border=\"1\" class=\"dataframe\">\n",
       "  <thead>\n",
       "    <tr style=\"text-align: right;\">\n",
       "      <th></th>\n",
       "      <th>Tweets</th>\n",
       "      <th>User</th>\n",
       "      <th>User_statuses_count</th>\n",
       "      <th>user_followers</th>\n",
       "      <th>User_location</th>\n",
       "      <th>User_verified</th>\n",
       "      <th>fav_count</th>\n",
       "      <th>rt_count</th>\n",
       "      <th>tweet_date</th>\n",
       "      <th>clean_tweet</th>\n",
       "    </tr>\n",
       "  </thead>\n",
       "  <tbody>\n",
       "    <tr>\n",
       "      <th>0</th>\n",
       "      <td>RT @smitha_tk: #TamilNadu district wise breaku...</td>\n",
       "      <td>Nikhil JP</td>\n",
       "      <td>299</td>\n",
       "      <td>5</td>\n",
       "      <td>Mumbai</td>\n",
       "      <td>False</td>\n",
       "      <td>0</td>\n",
       "      <td>3</td>\n",
       "      <td>2020-11-22 14:06:08</td>\n",
       "      <td>RT tk TamilNadu district wise breakup of COVID...</td>\n",
       "    </tr>\n",
       "    <tr>\n",
       "      <th>1</th>\n",
       "      <td>RT @smitha_tk: 1,655 #covid19 cases reported i...</td>\n",
       "      <td>Nikhil JP</td>\n",
       "      <td>299</td>\n",
       "      <td>5</td>\n",
       "      <td>Mumbai</td>\n",
       "      <td>False</td>\n",
       "      <td>0</td>\n",
       "      <td>2</td>\n",
       "      <td>2020-11-22 14:06:05</td>\n",
       "      <td>RT tk 1 655 covid19 cases reported in TamilNad...</td>\n",
       "    </tr>\n",
       "    <tr>\n",
       "      <th>2</th>\n",
       "      <td>@EPSTamilNadu @Vijayabaskarofl @narendramodi @...</td>\n",
       "      <td>vasankj1</td>\n",
       "      <td>846</td>\n",
       "      <td>6</td>\n",
       "      <td>India, Chennai</td>\n",
       "      <td>False</td>\n",
       "      <td>0</td>\n",
       "      <td>0</td>\n",
       "      <td>2020-11-22 13:56:54</td>\n",
       "      <td>INDIA this is how the cases go unnoticed not o...</td>\n",
       "    </tr>\n",
       "    <tr>\n",
       "      <th>3</th>\n",
       "      <td>RT @smitha_tk: 1,655 #covid19 cases reported i...</td>\n",
       "      <td>Ashok M (மூ.அசோக்)</td>\n",
       "      <td>17545</td>\n",
       "      <td>298</td>\n",
       "      <td>chennai, India</td>\n",
       "      <td>False</td>\n",
       "      <td>0</td>\n",
       "      <td>2</td>\n",
       "      <td>2020-11-22 13:48:31</td>\n",
       "      <td>RT tk 1 655 covid19 cases reported in TamilNad...</td>\n",
       "    </tr>\n",
       "    <tr>\n",
       "      <th>4</th>\n",
       "      <td>RT @smitha_tk: #TamilNadu district wise breaku...</td>\n",
       "      <td>Ashok M (மூ.அசோக்)</td>\n",
       "      <td>17545</td>\n",
       "      <td>298</td>\n",
       "      <td>chennai, India</td>\n",
       "      <td>False</td>\n",
       "      <td>0</td>\n",
       "      <td>3</td>\n",
       "      <td>2020-11-22 13:48:28</td>\n",
       "      <td>RT tk TamilNadu district wise breakup of COVID...</td>\n",
       "    </tr>\n",
       "  </tbody>\n",
       "</table>\n",
       "</div>"
      ],
      "text/plain": [
       "                                              Tweets                User  \\\n",
       "0  RT @smitha_tk: #TamilNadu district wise breaku...           Nikhil JP   \n",
       "1  RT @smitha_tk: 1,655 #covid19 cases reported i...           Nikhil JP   \n",
       "2  @EPSTamilNadu @Vijayabaskarofl @narendramodi @...            vasankj1   \n",
       "3  RT @smitha_tk: 1,655 #covid19 cases reported i...  Ashok M (மூ.அசோக்)   \n",
       "4  RT @smitha_tk: #TamilNadu district wise breaku...  Ashok M (மூ.அசோக்)   \n",
       "\n",
       "  User_statuses_count user_followers    User_location User_verified fav_count  \\\n",
       "0                 299              5           Mumbai         False         0   \n",
       "1                 299              5           Mumbai         False         0   \n",
       "2                 846              6  India, Chennai          False         0   \n",
       "3               17545            298  chennai, India          False         0   \n",
       "4               17545            298  chennai, India          False         0   \n",
       "\n",
       "  rt_count           tweet_date  \\\n",
       "0        3  2020-11-22 14:06:08   \n",
       "1        2  2020-11-22 14:06:05   \n",
       "2        0  2020-11-22 13:56:54   \n",
       "3        2  2020-11-22 13:48:31   \n",
       "4        3  2020-11-22 13:48:28   \n",
       "\n",
       "                                         clean_tweet  \n",
       "0  RT tk TamilNadu district wise breakup of COVID...  \n",
       "1  RT tk 1 655 covid19 cases reported in TamilNad...  \n",
       "2  INDIA this is how the cases go unnoticed not o...  \n",
       "3  RT tk 1 655 covid19 cases reported in TamilNad...  \n",
       "4  RT tk TamilNadu district wise breakup of COVID...  "
      ]
     },
     "execution_count": 31,
     "metadata": {},
     "output_type": "execute_result"
    }
   ],
   "source": [
    "df.head()"
   ]
  },
  {
   "cell_type": "code",
   "execution_count": 32,
   "metadata": {},
   "outputs": [
    {
     "data": {
      "text/html": [
       "<div>\n",
       "<style scoped>\n",
       "    .dataframe tbody tr th:only-of-type {\n",
       "        vertical-align: middle;\n",
       "    }\n",
       "\n",
       "    .dataframe tbody tr th {\n",
       "        vertical-align: top;\n",
       "    }\n",
       "\n",
       "    .dataframe thead th {\n",
       "        text-align: right;\n",
       "    }\n",
       "</style>\n",
       "<table border=\"1\" class=\"dataframe\">\n",
       "  <thead>\n",
       "    <tr style=\"text-align: right;\">\n",
       "      <th></th>\n",
       "      <th>Tweets</th>\n",
       "      <th>User</th>\n",
       "      <th>User_statuses_count</th>\n",
       "      <th>user_followers</th>\n",
       "      <th>User_location</th>\n",
       "      <th>User_verified</th>\n",
       "      <th>fav_count</th>\n",
       "      <th>rt_count</th>\n",
       "      <th>tweet_date</th>\n",
       "      <th>clean_tweet</th>\n",
       "      <th>Sentiment</th>\n",
       "    </tr>\n",
       "  </thead>\n",
       "  <tbody>\n",
       "    <tr>\n",
       "      <th>0</th>\n",
       "      <td>RT @smitha_tk: #TamilNadu district wise breaku...</td>\n",
       "      <td>Nikhil JP</td>\n",
       "      <td>299</td>\n",
       "      <td>5</td>\n",
       "      <td>Mumbai</td>\n",
       "      <td>False</td>\n",
       "      <td>0</td>\n",
       "      <td>3</td>\n",
       "      <td>2020-11-22 14:06:08</td>\n",
       "      <td>RT tk TamilNadu district wise breakup of COVID...</td>\n",
       "      <td>Positive</td>\n",
       "    </tr>\n",
       "    <tr>\n",
       "      <th>1</th>\n",
       "      <td>RT @smitha_tk: 1,655 #covid19 cases reported i...</td>\n",
       "      <td>Nikhil JP</td>\n",
       "      <td>299</td>\n",
       "      <td>5</td>\n",
       "      <td>Mumbai</td>\n",
       "      <td>False</td>\n",
       "      <td>0</td>\n",
       "      <td>2</td>\n",
       "      <td>2020-11-22 14:06:05</td>\n",
       "      <td>RT tk 1 655 covid19 cases reported in TamilNad...</td>\n",
       "      <td>Neutral</td>\n",
       "    </tr>\n",
       "    <tr>\n",
       "      <th>2</th>\n",
       "      <td>@EPSTamilNadu @Vijayabaskarofl @narendramodi @...</td>\n",
       "      <td>vasankj1</td>\n",
       "      <td>846</td>\n",
       "      <td>6</td>\n",
       "      <td>India, Chennai</td>\n",
       "      <td>False</td>\n",
       "      <td>0</td>\n",
       "      <td>0</td>\n",
       "      <td>2020-11-22 13:56:54</td>\n",
       "      <td>INDIA this is how the cases go unnoticed not o...</td>\n",
       "      <td>Negative</td>\n",
       "    </tr>\n",
       "    <tr>\n",
       "      <th>3</th>\n",
       "      <td>RT @smitha_tk: 1,655 #covid19 cases reported i...</td>\n",
       "      <td>Ashok M (மூ.அசோக்)</td>\n",
       "      <td>17545</td>\n",
       "      <td>298</td>\n",
       "      <td>chennai, India</td>\n",
       "      <td>False</td>\n",
       "      <td>0</td>\n",
       "      <td>2</td>\n",
       "      <td>2020-11-22 13:48:31</td>\n",
       "      <td>RT tk 1 655 covid19 cases reported in TamilNad...</td>\n",
       "      <td>Neutral</td>\n",
       "    </tr>\n",
       "    <tr>\n",
       "      <th>4</th>\n",
       "      <td>RT @smitha_tk: #TamilNadu district wise breaku...</td>\n",
       "      <td>Ashok M (மூ.அசோக்)</td>\n",
       "      <td>17545</td>\n",
       "      <td>298</td>\n",
       "      <td>chennai, India</td>\n",
       "      <td>False</td>\n",
       "      <td>0</td>\n",
       "      <td>3</td>\n",
       "      <td>2020-11-22 13:48:28</td>\n",
       "      <td>RT tk TamilNadu district wise breakup of COVID...</td>\n",
       "      <td>Positive</td>\n",
       "    </tr>\n",
       "  </tbody>\n",
       "</table>\n",
       "</div>"
      ],
      "text/plain": [
       "                                              Tweets                User  \\\n",
       "0  RT @smitha_tk: #TamilNadu district wise breaku...           Nikhil JP   \n",
       "1  RT @smitha_tk: 1,655 #covid19 cases reported i...           Nikhil JP   \n",
       "2  @EPSTamilNadu @Vijayabaskarofl @narendramodi @...            vasankj1   \n",
       "3  RT @smitha_tk: 1,655 #covid19 cases reported i...  Ashok M (மூ.அசோக்)   \n",
       "4  RT @smitha_tk: #TamilNadu district wise breaku...  Ashok M (மூ.அசோக்)   \n",
       "\n",
       "  User_statuses_count user_followers    User_location User_verified fav_count  \\\n",
       "0                 299              5           Mumbai         False         0   \n",
       "1                 299              5           Mumbai         False         0   \n",
       "2                 846              6  India, Chennai          False         0   \n",
       "3               17545            298  chennai, India          False         0   \n",
       "4               17545            298  chennai, India          False         0   \n",
       "\n",
       "  rt_count           tweet_date  \\\n",
       "0        3  2020-11-22 14:06:08   \n",
       "1        2  2020-11-22 14:06:05   \n",
       "2        0  2020-11-22 13:56:54   \n",
       "3        2  2020-11-22 13:48:31   \n",
       "4        3  2020-11-22 13:48:28   \n",
       "\n",
       "                                         clean_tweet Sentiment  \n",
       "0  RT tk TamilNadu district wise breakup of COVID...  Positive  \n",
       "1  RT tk 1 655 covid19 cases reported in TamilNad...   Neutral  \n",
       "2  INDIA this is how the cases go unnoticed not o...  Negative  \n",
       "3  RT tk 1 655 covid19 cases reported in TamilNad...   Neutral  \n",
       "4  RT tk TamilNadu district wise breakup of COVID...  Positive  "
      ]
     },
     "execution_count": 32,
     "metadata": {},
     "output_type": "execute_result"
    }
   ],
   "source": [
    "df['Sentiment'] = df['clean_tweet'].apply(lambda x : analyze_sentiment(x) )\n",
    "df.head()"
   ]
  },
  {
   "cell_type": "markdown",
   "metadata": {},
   "source": [
    "## Check tweets for Positive, Neutral and Negative Sentiments"
   ]
  },
  {
   "cell_type": "code",
   "execution_count": 39,
   "metadata": {},
   "outputs": [
    {
     "name": "stdout",
     "output_type": "stream",
     "text": [
      "Original tweet:\n",
      " RT @smitha_tk: 1,655 #covid19 cases reported in #TamilNadu today\n",
      "\n",
      "Of which 489 cases from #Chennai \n",
      "\n",
      "70,139 persons tested, 2,010 patients…\n",
      "\n",
      "Clean tweet:\n",
      " RT tk 1 655 covid19 cases reported in TamilNadu today Of which 489 cases from Chennai 70 139 persons tested 2 010 patients\n",
      "\n",
      "Sentiment of the tweet:\n",
      " Neutral\n"
     ]
    }
   ],
   "source": [
    "n = 1\n",
    "print(\"Original tweet:\\n\",df['Tweets'][n])\n",
    "print()\n",
    "print(\"Clean tweet:\\n\",df['clean_tweet'][n])\n",
    "print()\n",
    "print(\"Sentiment of the tweet:\\n\",df['Sentiment'][n])"
   ]
  },
  {
   "cell_type": "code",
   "execution_count": 40,
   "metadata": {},
   "outputs": [
    {
     "name": "stdout",
     "output_type": "stream",
     "text": [
      "Original tweet:\n",
      " RT @TOIChennai: Tamil Nadu: Passengers from cities with high Covid-19 cases go unmonitored https://t.co/AtVvtFt2xm\n",
      "\n",
      "Clean tweet:\n",
      " RT Tamil Nadu Passengers from cities with high Covid 19 cases go unmonitored\n",
      "\n",
      "Sentiment of the tweet:\n",
      " Positive\n"
     ]
    }
   ],
   "source": [
    "n = 20\n",
    "print(\"Original tweet:\\n\",df['Tweets'][n])\n",
    "print()\n",
    "print(\"Clean tweet:\\n\",df['clean_tweet'][n])\n",
    "print()\n",
    "print(\"Sentiment of the tweet:\\n\",df['Sentiment'][n])"
   ]
  },
  {
   "cell_type": "code",
   "execution_count": 45,
   "metadata": {},
   "outputs": [
    {
     "name": "stdout",
     "output_type": "stream",
     "text": [
      "Original tweet:\n",
      " @EPSTamilNadu @Vijayabaskarofl @narendramodi @MoHFW_INDIA @AmitShah this is how the cases go unnoticed not only in… https://t.co/S1emdJY2jQ\n",
      "\n",
      "Clean tweet:\n",
      " INDIA this is how the cases go unnoticed not only in\n",
      "\n",
      "Sentiment of the tweet:\n",
      " Negative\n"
     ]
    }
   ],
   "source": [
    "n = 2\n",
    "print(\"Original tweet:\\n\",df['Tweets'][n])\n",
    "print()\n",
    "print(\"Clean tweet:\\n\",df['clean_tweet'][n])\n",
    "print()\n",
    "print(\"Sentiment of the tweet:\\n\",df['Sentiment'][n])"
   ]
  },
  {
   "cell_type": "code",
   "execution_count": 46,
   "metadata": {},
   "outputs": [
    {
     "data": {
      "text/plain": [
       "216"
      ]
     },
     "execution_count": 46,
     "metadata": {},
     "output_type": "execute_result"
    }
   ],
   "source": [
    "df[df.Sentiment == 'Positive'].shape[0]"
   ]
  },
  {
   "cell_type": "code",
   "execution_count": 47,
   "metadata": {},
   "outputs": [
    {
     "data": {
      "text/plain": [
       "89"
      ]
     },
     "execution_count": 47,
     "metadata": {},
     "output_type": "execute_result"
    }
   ],
   "source": [
    "df[df.Sentiment == 'Neutral'].shape[0]"
   ]
  },
  {
   "cell_type": "code",
   "execution_count": 48,
   "metadata": {},
   "outputs": [
    {
     "data": {
      "text/plain": [
       "42"
      ]
     },
     "execution_count": 48,
     "metadata": {},
     "output_type": "execute_result"
    }
   ],
   "source": [
    "df[df.Sentiment == 'Negative'].shape[0]"
   ]
  },
  {
   "cell_type": "code",
   "execution_count": null,
   "metadata": {},
   "outputs": [],
   "source": [
    "# End of Assignment"
   ]
  }
 ],
 "metadata": {
  "hide_input": false,
  "kernelspec": {
   "display_name": "Python 3",
   "language": "python",
   "name": "python3"
  },
  "language_info": {
   "codemirror_mode": {
    "name": "ipython",
    "version": 3
   },
   "file_extension": ".py",
   "mimetype": "text/x-python",
   "name": "python",
   "nbconvert_exporter": "python",
   "pygments_lexer": "ipython3",
   "version": "3.7.6"
  },
  "toc": {
   "base_numbering": 1,
   "nav_menu": {},
   "number_sections": true,
   "sideBar": true,
   "skip_h1_title": false,
   "title_cell": "Table of Contents",
   "title_sidebar": "Contents",
   "toc_cell": false,
   "toc_position": {},
   "toc_section_display": true,
   "toc_window_display": true
  }
 },
 "nbformat": 4,
 "nbformat_minor": 4
}
